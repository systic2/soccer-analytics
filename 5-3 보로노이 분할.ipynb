{
 "cells": [
  {
   "cell_type": "markdown",
   "metadata": {},
   "source": [
    "### 강의에서 소개된 파이썬 주요 기능\n",
    "- scipy.spatial.Voronoi: https://docs.scipy.org/doc/scipy/reference/generated/scipy.spatial.Voronoi.html\n",
    "- numpy.hstack: https://numpy.org/doc/stable/reference/generated/numpy.hstack.html\n",
    "- numpy.vstack: https://numpy.org/doc/stable/reference/generated/numpy.vstack.html\n",
    "- matplotlib.pyplot.fill: https://matplotlib.org/stable/api/_as_gen/matplotlib.pyplot.fill.html"
   ]
  },
  {
   "cell_type": "markdown",
   "metadata": {},
   "source": [
    "### 보로노이 분할 및 시각화"
   ]
  },
  {
   "cell_type": "markdown",
   "metadata": {},
   "source": [
    "##### (1) 결합 데이터 불러오기"
   ]
  },
  {
   "cell_type": "code",
   "execution_count": null,
   "metadata": {},
   "outputs": [],
   "source": [
    "import os\n",
    "import numpy as np\n",
    "import pandas as pd\n",
    "from tqdm import tqdm\n",
    "from scipy.spatial import Voronoi\n",
    "import matplotlib as mpl\n",
    "import matplotlib.pyplot as plt\n",
    "from matplotlib import animation\n",
    "from IPython.display import HTML\n",
    "from src.plot_utils import draw_pitch\n",
    "\n",
    "mpl.rcParams['animation.embed_limit'] = 100"
   ]
  },
  {
   "cell_type": "code",
   "execution_count": null,
   "metadata": {},
   "outputs": [],
   "source": [
    "match_id = 1\n",
    "file = f'data_metrica/Sample_Game_{match_id}/Sample_Game_{match_id}_IntegratedData.csv'\n",
    "wide_traces = pd.read_csv(file, header=0, index_col=0)\n",
    "wide_traces"
   ]
  },
  {
   "cell_type": "markdown",
   "metadata": {},
   "source": [
    "##### (2) 보로노이 다이어그램(Voronoi diagram) 단순 산출 및 이미지 시각화"
   ]
  },
  {
   "cell_type": "code",
   "execution_count": null,
   "metadata": {},
   "outputs": [],
   "source": [
    "data = wide_traces.loc[100]\n",
    "players = [c[:-2] for c in data.dropna().keys() if c.endswith('_x') and c != 'ball_x']\n",
    "x_cols = [f'{p}_x' for p in players]\n",
    "y_cols = [f'{p}_y' for p in players]\n",
    "\n",
    "points = pd.DataFrame(index=players)\n",
    "points['x'] = data[x_cols].astype(float).values\n",
    "points['y'] = data[y_cols].astype(float).values\n",
    "points"
   ]
  },
  {
   "cell_type": "code",
   "execution_count": null,
   "metadata": {},
   "outputs": [],
   "source": [
    "vor = Voronoi(points)\n",
    "vor.vertices"
   ]
  },
  {
   "cell_type": "code",
   "execution_count": null,
   "metadata": {},
   "outputs": [],
   "source": [
    "vor.regions"
   ]
  },
  {
   "cell_type": "code",
   "execution_count": null,
   "metadata": {},
   "outputs": [],
   "source": [
    "region = vor.regions[3]\n",
    "polygon = np.array([vor.vertices[i] for i in region])\n",
    "polygon"
   ]
  },
  {
   "cell_type": "code",
   "execution_count": null,
   "metadata": {},
   "outputs": [],
   "source": [
    "vor.point_region"
   ]
  },
  {
   "cell_type": "code",
   "execution_count": null,
   "metadata": {},
   "outputs": [],
   "source": [
    "pitch_size = (104, 68)\n",
    "fig, ax = draw_pitch(pitch='white', line='black', size_x=pitch_size[0]/10+8, size_y=pitch_size[1]/10+8)\n",
    "\n",
    "for team, color in zip(['H', 'A'], ['r', 'b']):\n",
    "    team_players = [p for p in players if p.startswith(team)]\n",
    "    ax.scatter(*points.T[team_players].values, s=100, c=color, alpha=0.7, zorder=2)\n",
    "\n",
    "    for player, point in points.loc[team_players].iterrows():\n",
    "        if not np.isnan(point['x']):\n",
    "            ax.text(point['x'] + 0.5, point['y'] + 0.5, int(player[1:3]), fontsize=13, color=color)\n",
    "\n",
    "for i_point, (player, point) in enumerate(points.iterrows()):\n",
    "    region = vor.regions[vor.point_region[i_point]]\n",
    "    if not -1 in region:\n",
    "        polygon = np.array([vor.vertices[i_vertex] for i_vertex in region])\n",
    "        if player.startswith('H'):\n",
    "            ax.fill(*polygon.T, alpha=0.5, ec='#863CAA', c='#FF5AE6', zorder=1)\n",
    "        else:\n",
    "            ax.fill(*polygon.T, alpha=0.5,  ec='#863CAA', c='#00B4FF', zorder=1)\n",
    "            \n",
    "ax.set_xlim(-40, pitch_size[0]+40)\n",
    "ax.set_ylim(-40, pitch_size[1]+40)\n",
    "\n",
    "plt.show()"
   ]
  },
  {
   "cell_type": "markdown",
   "metadata": {},
   "source": [
    "##### (3) 대칭 이동된 선수 위치를 활용한 점유 공간 제한하기"
   ]
  },
  {
   "cell_type": "code",
   "execution_count": null,
   "metadata": {},
   "outputs": [],
   "source": [
    "points = points[\n",
    "    (points['x'] >= 0) & (points['x'] <= 104) &\n",
    "    (points['y'] >= 0) & (points['y'] <= 68)\n",
    "]\n",
    "points_extended = np.hstack([\n",
    "    np.vstack([points['x'], points['y']]),\n",
    "    np.vstack([-points['x'], points['y']]),\n",
    "    np.vstack([-points['x'] + pitch_size[0]*2, points['y']]),\n",
    "    np.vstack([points['x'], -points['y']]),\n",
    "    np.vstack([points['x'], -points['y'] + pitch_size[1]*2])\n",
    "]).T\n",
    "points_extended"
   ]
  },
  {
   "cell_type": "code",
   "execution_count": null,
   "metadata": {},
   "outputs": [],
   "source": [
    "fig, ax = draw_pitch(pitch='white', line='black', size_x=pitch_size[0]/10+8, size_y=pitch_size[1]/10+8)\n",
    "n_players = len(players)\n",
    "n_home_players = len([p for p in players if p.startswith('H')])\n",
    "\n",
    "for i in range(5):\n",
    "    home_points = points_extended[n_players*i:n_players*i+n_home_players]\n",
    "    away_points = points_extended[n_players*i+n_home_players:n_players*(i+1)]\n",
    "    ax.scatter(*home_points.T, s=100, c='r', alpha=0.7, zorder=2)\n",
    "    ax.scatter(*away_points.T, s=100, c='b', alpha=0.7, zorder=2)\n",
    "\n",
    "ax.set_xlim(-110, pitch_size[0]+110)\n",
    "ax.set_ylim(-90, pitch_size[1]+90)\n",
    "\n",
    "plt.show()"
   ]
  },
  {
   "cell_type": "markdown",
   "metadata": {},
   "source": [
    "##### (4) 경기장 내부 보로노이 다이어그램 산출 및 이미지 시각화"
   ]
  },
  {
   "cell_type": "code",
   "execution_count": null,
   "metadata": {},
   "outputs": [],
   "source": [
    "def calc_voronoi(data):\n",
    "    players = [c[:-2] for c in data.dropna().keys() if c.endswith('_x') and c != 'ball_x']\n",
    "    points = pd.DataFrame(index=players)\n",
    "    points['x'] = data[[f'{p}_x' for p in players]].astype(float).values\n",
    "    points['y'] = data[[f'{p}_y' for p in players]].astype(float).values\n",
    "\n",
    "    points = points[\n",
    "        (points['x'] >= 0) & (points['x'] <= 104) &\n",
    "        (points['y'] >= 0) & (points['y'] <= 68)\n",
    "    ]\n",
    "    points_extended = np.hstack([\n",
    "        np.vstack([points['x'], points['y']]),\n",
    "        np.vstack([-points['x'], points['y']]),\n",
    "        np.vstack([-points['x'] + pitch_size[0]*2, points['y']]),\n",
    "        np.vstack([points['x'], -points['y']]),\n",
    "        np.vstack([points['x'], -points['y'] + pitch_size[1]*2])\n",
    "    ]).T\n",
    "    vor = Voronoi(points_extended)\n",
    "    \n",
    "    return points, vor"
   ]
  },
  {
   "cell_type": "code",
   "execution_count": null,
   "metadata": {},
   "outputs": [],
   "source": [
    "points, vor = calc_voronoi(data)\n",
    "fig, ax = draw_pitch(pitch='white', line='black')\n",
    "\n",
    "for team, color in zip(['H', 'A'], ['r', 'b']):\n",
    "    team_players = [p for p in players if p.startswith(team)]\n",
    "    ax.scatter(*points.T[team_players].values, s=100, c=color, alpha=0.7, zorder=2)\n",
    "\n",
    "    for player, point in points.loc[team_players].iterrows():\n",
    "        if not np.isnan(point['x']):\n",
    "            ax.text(point['x'] + 0.5, point['y'] + 0.5, int(player[1:3]), fontsize=13, color=color)\n",
    "\n",
    "for i_point, point in enumerate(vor.points):\n",
    "    region = vor.regions[vor.point_region[i_point]]\n",
    "    if i_point < len(players) and not -1 in region:\n",
    "        polygon = np.array([vor.vertices[i_vertex] for i_vertex in region])\n",
    "        if i_point < len([p for p in players if p.startswith('H')]):\n",
    "            ax.fill(*polygon.T, alpha=0.5, ec='#863CAA', c='#FF5AE6', zorder=1)\n",
    "        else:\n",
    "            ax.fill(*polygon.T, alpha=0.5,  ec='#863CAA', c='#00B4FF', zorder=1)\n",
    "\n",
    "plt.show()"
   ]
  },
  {
   "cell_type": "markdown",
   "metadata": {},
   "source": [
    "##### (5) 보로노이 다이어그램 애니메이션 시각화"
   ]
  },
  {
   "cell_type": "code",
   "execution_count": null,
   "metadata": {},
   "outputs": [],
   "source": [
    "def plot_snapshot(\n",
    "    data, figax=None, team_colors=('r', 'b'), annotate_players=True, annotate_events=True,\n",
    "    show_velocities=True, show_sprints=False, show_voronoi=False\n",
    "):\n",
    "    if figax is None:\n",
    "        fig, ax = draw_pitch(pitch='white', line='black')\n",
    "    else:\n",
    "        fig, ax = figax\n",
    "\n",
    "    figobjs = []\n",
    "    for team, color in zip(['H', 'A'], team_colors):\n",
    "        team_players = [c[:-2] for c in data.dropna().keys() if c.startswith(team) and c.endswith('_x')]\n",
    "        team_x_cols = [f'{p}_x' for p in team_players]\n",
    "        team_y_cols = [f'{p}_y' for p in team_players]\n",
    "\n",
    "        widths = pd.Series(0, index=team_players)\n",
    "        if show_sprints:\n",
    "            team_sprint_cols = [f'{p}_sprint' for p in team_players]\n",
    "            widths = pd.Series(data[team_sprint_cols].clip(0, 1).values, index=team_players) * 4\n",
    "\n",
    "        obj = ax.scatter(\n",
    "            data[team_x_cols], data[team_y_cols], s=100, c=color,\n",
    "            edgecolors='lime', linewidth=widths, zorder=2\n",
    "        )\n",
    "        figobjs.append(obj)\n",
    "\n",
    "        if show_velocities:\n",
    "            team_vx_cols = [f'{p}_vx' for p in team_players]\n",
    "            team_vy_cols = [f'{p}_vy' for p in team_players]\n",
    "            obj = ax.quiver(\n",
    "                data[team_x_cols].astype(float), data[team_y_cols].astype(float),\n",
    "                data[team_vx_cols].astype(float), data[team_vy_cols].astype(float),\n",
    "                color=color, scale=8, scale_units='inches', width=0.002, alpha=0.7, zorder=2\n",
    "            )\n",
    "            figobjs.append(obj)\n",
    "        \n",
    "        if annotate_players:\n",
    "            for x, y in zip(team_x_cols, team_y_cols):\n",
    "                if not (np.isnan(data[x]) or np.isnan(data[y])):\n",
    "                    obj = ax.text(data[x] + 0.5, data[y] + 0.5, int(x[1:3]), fontsize=13, color=color)\n",
    "                    figobjs.append(obj)\n",
    "    \n",
    "    if show_voronoi:\n",
    "        points, vor = calc_voronoi(data)\n",
    "        \n",
    "        for i_point, point in enumerate(vor.points):\n",
    "            region = vor.regions[vor.point_region[i_point]]\n",
    "            if i_point < len(points.index) and not -1 in region:\n",
    "                polygon = np.array([vor.vertices[i_vertex] for i_vertex in region])\n",
    "                if i_point < len([p for p in points.index if p.startswith('H')]):\n",
    "                    obj, = ax.fill(*polygon.T, alpha=0.5, ec='#863CAA', c='#FF5AE6', zorder=1)\n",
    "                else:\n",
    "                    obj, = ax.fill(*polygon.T, alpha=0.5,  ec='#863CAA', c='#00B4FF', zorder=1)\n",
    "                figobjs.append(obj)\n",
    "\n",
    "    time_text = f\"{int(data['time'] // 60):02d}:{data['time'] % 60:05.2f}\"\n",
    "    if annotate_events:\n",
    "        if not pd.isnull(data['event_subtype']):\n",
    "            event_text = f\"{data['event_subtype']} by {data['event_player']}\" \n",
    "        else:\n",
    "            event_text = ''\n",
    "        figobjs.append(ax.text(51, 69, time_text, fontsize=15, ha='right', va='bottom'))\n",
    "        figobjs.append(ax.text(52, 69, '-', fontsize=15, ha='center', va='bottom'))\n",
    "        figobjs.append(ax.text(53, 69, event_text, fontsize=15, ha='left', va='bottom'))\n",
    "    else:\n",
    "        figobjs.append(ax.text(52, 69, time_text, fontsize=15, ha='center', va='bottom'))\n",
    "        \n",
    "    obj = ax.scatter(data['ball_x'], data['ball_y'], s=80, color='w', edgecolors='k', zorder=3)\n",
    "    figobjs.append(obj)\n",
    "    \n",
    "    return fig, ax, figobjs"
   ]
  },
  {
   "cell_type": "code",
   "execution_count": null,
   "metadata": {},
   "outputs": [],
   "source": [
    "frame = 100\n",
    "fig, ax, figobjs = plot_snapshot(wide_traces.loc[frame], show_voronoi=True)\n",
    "plt.show()"
   ]
  },
  {
   "cell_type": "code",
   "execution_count": null,
   "metadata": {},
   "outputs": [],
   "source": [
    "def save_clip(\n",
    "    clip_traces, fname='test', fps=25, figax=None, team_colors=('r', 'b'),\n",
    "    annotate_players=True, annotate_events=True, show_velocities=True, show_sprints=False, show_voronoi=False\n",
    "):\n",
    "    metadata = dict(title='Tracking Data', artist='Matplotlib', comment='Metrica tracking data clip')\n",
    "    writer = animation.FFMpegWriter(fps=fps, metadata=metadata)\n",
    "\n",
    "    if not os.path.exists('match_clips'):\n",
    "        os.makedirs('match_clips')\n",
    "    file = f'match_clips/{fname}.mp4'\n",
    "\n",
    "    if figax is None:\n",
    "        fig, ax = draw_pitch(pitch='white', line='black')\n",
    "    else:\n",
    "        fig, ax = figax\n",
    "    fig.set_tight_layout(True)\n",
    "\n",
    "    with writer.saving(fig, file, dpi=100):\n",
    "        for i in clip_traces.index:\n",
    "            frame_data = clip_traces.loc[i]\n",
    "            fig, ax, figobjs = plot_snapshot(\n",
    "                frame_data, (fig, ax), team_colors, annotate_players, annotate_events,\n",
    "                show_velocities, show_sprints, show_voronoi\n",
    "            )\n",
    "            writer.grab_frame()\n",
    "\n",
    "            for obj in figobjs:\n",
    "                obj.remove()\n",
    "\n",
    "    plt.clf()\n",
    "    plt.close(fig)"
   ]
  },
  {
   "cell_type": "code",
   "execution_count": null,
   "metadata": {},
   "outputs": [],
   "source": [
    "start_frame = 1000\n",
    "end_frame = 1500\n",
    "show_sprints = True\n",
    "show_voronoi = True\n",
    "\n",
    "fname_tokens = [f'game{match_id}', str(start_frame), str(end_frame)]\n",
    "if show_sprints:\n",
    "    fname_tokens.append('sprints')\n",
    "if show_voronoi:\n",
    "    fname_tokens.append('voronoi')\n",
    "fname = '_'.join(fname_tokens)\n",
    "\n",
    "clip_traces = wide_traces.loc[start_frame:end_frame]\n",
    "save_clip(clip_traces, fname=f'{fname}.mp4', show_sprints=show_sprints, show_voronoi=show_voronoi)"
   ]
  }
 ],
 "metadata": {
  "kernelspec": {
   "display_name": "Python 3.8.13 ('class101')",
   "language": "python",
   "name": "python3"
  },
  "language_info": {
   "codemirror_mode": {
    "name": "ipython",
    "version": 3
   },
   "file_extension": ".py",
   "mimetype": "text/x-python",
   "name": "python",
   "nbconvert_exporter": "python",
   "pygments_lexer": "ipython3",
   "version": "3.8.13"
  },
  "orig_nbformat": 4,
  "vscode": {
   "interpreter": {
    "hash": "b2229428593ed30f482d105244b52f2214d62638ed0cc5078189e23a80557466"
   }
  }
 },
 "nbformat": 4,
 "nbformat_minor": 2
}
