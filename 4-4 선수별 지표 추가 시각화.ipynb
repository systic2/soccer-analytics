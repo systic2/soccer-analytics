{
 "cells": [
  {
   "cell_type": "markdown",
   "metadata": {},
   "source": [
    "### 시간 구간별 선수 활동량 지표 집계 및 시각화"
   ]
  },
  {
   "cell_type": "code",
   "execution_count": null,
   "metadata": {},
   "outputs": [],
   "source": [
    "import os\n",
    "import numpy as np\n",
    "import pandas as pd\n",
    "from tqdm import tqdm\n",
    "import matplotlib.pyplot as plt\n",
    "from src.plot_utils import draw_pitch"
   ]
  },
  {
   "cell_type": "markdown",
   "metadata": {},
   "source": [
    "##### (1) 가공 데이터 불러오기"
   ]
  },
  {
   "cell_type": "code",
   "execution_count": null,
   "metadata": {},
   "outputs": [],
   "source": [
    "match_id = 1\n",
    "file = f'data_metrica/Sample_Game_{match_id}/Sample_Game_{match_id}_IntegratedData_Reshaped.csv'\n",
    "traces = pd.read_csv(file, header=0, index_col=0)\n",
    "traces"
   ]
  },
  {
   "cell_type": "markdown",
   "metadata": {},
   "source": [
    "##### (2) 후반전 데이터 시점 조정"
   ]
  },
  {
   "cell_type": "code",
   "execution_count": null,
   "metadata": {},
   "outputs": [],
   "source": [
    "h1_duration = traces[traces['period'] == 1]['time'].max()\n",
    "h1_duration"
   ]
  },
  {
   "cell_type": "code",
   "execution_count": null,
   "metadata": {},
   "outputs": [],
   "source": [
    "traces[traces['period'] == 2]"
   ]
  },
  {
   "cell_type": "code",
   "execution_count": null,
   "metadata": {},
   "outputs": [],
   "source": [
    "traces.loc[traces['period'] == 2, 'time'] = (traces.loc[traces['period'] == 2, 'time'] - h1_duration).round(2)"
   ]
  },
  {
   "cell_type": "markdown",
   "metadata": {},
   "source": [
    "##### (3) 시간 구간별 지표 산출"
   ]
  },
  {
   "cell_type": "code",
   "execution_count": null,
   "metadata": {},
   "outputs": [],
   "source": [
    "player_id = 8\n",
    "player_trace = traces[traces['player_id'] == player_id]\n",
    "\n",
    "segment_size = 15\n",
    "time_bins = np.arange(0, 50, segment_size)\n",
    "time_bins = np.append(time_bins, [100])\n",
    "speed_bins = [0, 7, 15, 20, 25, 50]\n",
    "\n",
    "stats_by_time_list = []\n",
    "for period in player_trace['period'].unique():\n",
    "    period_trace = player_trace[player_trace['period'] == period]\n",
    "    \n",
    "    time_labels = []\n",
    "    for i in range(len(time_bins)-2):\n",
    "        if period == 1:\n",
    "            segment_label = f'{time_bins[i]:02d}-{time_bins[i+1]:02d}'\n",
    "        else:\n",
    "            segment_label = f'{time_bins[i]+45:02d}-{time_bins[i+1]+45:02d}'\n",
    "        time_labels.append(segment_label)\n",
    "    extra_time_label = '45+' if period == 1 else '90+'\n",
    "    time_labels.append(extra_time_label)\n",
    "\n",
    "    period_trace['time_cat'] = pd.cut(period_trace['time'] / 60, bins=time_bins, right=True, labels=time_labels)\n",
    "\n",
    "    durations = period_trace[['time_cat', 'x']].dropna().groupby('time_cat').count() * 0.04\n",
    "    distances = period_trace.groupby('time_cat')['distance'].sum()\n",
    "    durations.columns = ['duration']\n",
    "    period_stats = pd.concat([durations, distances], axis=1)\n",
    "    period_stats['dist_1min'] = period_stats['distance'] / period_stats['duration'] * 60\n",
    "\n",
    "    speed_cats = pd.cut(period_trace['speed'], bins=speed_bins, right=False, labels=np.arange(1, 6))\n",
    "    distances_by_speed = period_trace.pivot_table('distance', index='time_cat', columns=speed_cats, aggfunc='sum')\n",
    "    distances_by_speed.columns = [f'zone{i}_dist' for i in distances_by_speed.columns]\n",
    "    period_stats = pd.concat([period_stats, distances_by_speed], axis=1)\n",
    "\n",
    "    period_stats['max_speed'] = period_trace.groupby('time_cat')['speed'].max()\n",
    "    stats_by_time_list.append(period_stats)\n",
    "\n",
    "stats_by_time = pd.concat(stats_by_time_list).round(2)\n",
    "stats_by_time"
   ]
  },
  {
   "cell_type": "markdown",
   "metadata": {},
   "source": [
    "##### (4) 시간 구간별 속도 구간별 뛴 거리 시각화"
   ]
  },
  {
   "cell_type": "code",
   "execution_count": null,
   "metadata": {},
   "outputs": [],
   "source": [
    "plt.figure(figsize=(12, 6))\n",
    "plt.rcParams.update({'font.size': 15})\n",
    "\n",
    "n_zones = len(distances_by_speed.columns)\n",
    "colors = plt.cm.jet(np.linspace(0.9, 0.1, n_zones))\n",
    "\n",
    "bottom = 0\n",
    "for i, zone_dist in enumerate(distances_by_speed.columns[::-1]):\n",
    "    plt.bar(\n",
    "        stats_by_time.index, stats_by_time[zone_dist],\n",
    "        bottom=bottom, width=0.4, color=colors[i], label=f'Zone {5-i}'\n",
    "    )\n",
    "    if i < n_zones - 1:\n",
    "        bottom = bottom + stats_by_time[zone_dist]\n",
    "\n",
    "plt.grid(axis='y', color='k', linestyle='--')\n",
    "plt.axvline(3.5, color='k', linestyle='--')\n",
    "\n",
    "plt.xlabel('time_cat')\n",
    "plt.ylabel('distance')\n",
    "\n",
    "handles, labels = plt.gca().get_legend_handles_labels()\n",
    "plt.legend(handles[::-1], labels[::-1], bbox_to_anchor=(1, 1))\n",
    "\n",
    "plt.title('Distance by Speed Zone')\n",
    "plt.show()"
   ]
  },
  {
   "cell_type": "markdown",
   "metadata": {},
   "source": [
    "### 히트맵 시각화"
   ]
  },
  {
   "cell_type": "markdown",
   "metadata": {},
   "source": [
    "##### (1) 위치 히트맵 시각화"
   ]
  },
  {
   "cell_type": "code",
   "execution_count": null,
   "metadata": {},
   "outputs": [],
   "source": [
    "x = player_trace['x']\n",
    "y = player_trace['y']\n",
    "dense_heatmap = np.histogram2d(y, x, bins=(34, 52), range=[[0, 68], [0, 104]])[0]\n",
    "\n",
    "draw_pitch('white', 'black')\n",
    "img = plt.imshow(dense_heatmap[::-1], extent=[0, 104, 0, 68], vmin=0, vmax=500, cmap='RdYlGn_r', alpha=0.8)\n",
    "plt.colorbar()\n",
    "\n",
    "plt.title('Location Heatmap')\n",
    "plt.show()"
   ]
  },
  {
   "cell_type": "markdown",
   "metadata": {},
   "source": [
    "##### (2) 18-Zone Map 시각화"
   ]
  },
  {
   "cell_type": "code",
   "execution_count": null,
   "metadata": {},
   "outputs": [],
   "source": [
    "grid_size = (3, 6)\n",
    "sparse_heatmap, yedges, xedges = np.histogram2d(y, x, bins=grid_size, range=[[0, 68], [0, 104]])\n",
    "sparse_heatmap /= len(x)\n",
    "\n",
    "draw_pitch('white', 'black')\n",
    "img = plt.imshow(sparse_heatmap[::-1], extent=[0, 104, 0, 68], vmin=0, vmax=0.2, cmap='RdYlGn_r', alpha=0.8)\n",
    "plt.colorbar()\n",
    "\n",
    "for i in range(grid_size[0]):\n",
    "    for j in range(grid_size[1]):\n",
    "        text_x = (xedges[j] + xedges[j+1]) / 2\n",
    "        text_y = (yedges[i] + yedges[i+1]) / 2\n",
    "        plt.text(text_x, text_y, f'{sparse_heatmap[i, j]:.3f}', ha='center', va='center')\n",
    "\n",
    "plt.title('18-Zone Map')\n",
    "plt.show()"
   ]
  },
  {
   "cell_type": "markdown",
   "metadata": {},
   "source": [
    "##### (3) 방향 히트맵 시각화"
   ]
  },
  {
   "cell_type": "code",
   "execution_count": null,
   "metadata": {},
   "outputs": [],
   "source": [
    "player_running_trace = player_trace[player_trace['speed'] > 15]\n",
    "vx = player_running_trace['vx']\n",
    "vy = player_running_trace['vy']\n",
    "\n",
    "vlim = 8\n",
    "dense_heatmap = np.histogram2d(vy, vx, bins=(vlim*5, vlim*5), range=[[-vlim, vlim], [-vlim, vlim]])[0]\n",
    "\n",
    "plt.figure(figsize=(10, 8))\n",
    "img = plt.imshow(dense_heatmap[::-1], extent=[-vlim, vlim, -vlim, vlim], vmin=0, vmax=100, cmap='jet')\n",
    "plt.colorbar()\n",
    "\n",
    "plt.axvline(0, color='w', linestyle='--')\n",
    "plt.axhline(0, color='w', linestyle='--')\n",
    "\n",
    "plt.title('Direction Heatmap')\n",
    "plt.show()"
   ]
  }
 ],
 "metadata": {
  "kernelspec": {
   "display_name": "Python 3.8.13 ('class101')",
   "language": "python",
   "name": "python3"
  },
  "language_info": {
   "codemirror_mode": {
    "name": "ipython",
    "version": 3
   },
   "file_extension": ".py",
   "mimetype": "text/x-python",
   "name": "python",
   "nbconvert_exporter": "python",
   "pygments_lexer": "ipython3",
   "version": "3.8.13"
  },
  "orig_nbformat": 4,
  "vscode": {
   "interpreter": {
    "hash": "b2229428593ed30f482d105244b52f2214d62638ed0cc5078189e23a80557466"
   }
  }
 },
 "nbformat": 4,
 "nbformat_minor": 2
}
