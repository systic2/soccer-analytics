{
 "cells": [
  {
   "cell_type": "markdown",
   "metadata": {},
   "source": [
    "### 강의에서 소개된 파이썬 주요 기능\n",
    "- ffmpeg: https://anaconda.org/conda-forge/ffmpeg\n",
    "- scipy.signal.savgol_filter: https://docs.scipy.org/doc/scipy/reference/generated/scipy.signal.savgol_filter.html\n",
    "- matplotlib.pyplot.quiver: https://matplotlib.org/stable/api/_as_gen/matplotlib.pyplot.quiver.html\n",
    "- matplotlib.animation.FFMpegWriter: https://matplotlib.org/stable/api/_as_gen/matplotlib.animation.FFMpegWriter.html\n",
    "- matplotlib.pyplot.clf: https://matplotlib.org/stable/api/_as_gen/matplotlib.pyplot.clf.html\n",
    "- matplotlib.pyplot.close: https://matplotlib.org/stable/api/_as_gen/matplotlib.pyplot.close.html"
   ]
  },
  {
   "cell_type": "markdown",
   "metadata": {},
   "source": [
    "### 선수별 속도 벡터 및 속력 산출"
   ]
  },
  {
   "cell_type": "code",
   "execution_count": null,
   "metadata": {},
   "outputs": [],
   "source": [
    "import os\n",
    "import warnings\n",
    "import numpy as np\n",
    "import pandas as pd\n",
    "import scipy.signal as signal\n",
    "import matplotlib.pyplot as plt\n",
    "import matplotlib.animation as animation\n",
    "from src.plot_utils import draw_pitch\n",
    "\n",
    "warnings.simplefilter(action=\"ignore\", category=pd.errors.PerformanceWarning)"
   ]
  },
  {
   "cell_type": "markdown",
   "metadata": {},
   "source": [
    "##### (1) 결합 데이터 불러오기"
   ]
  },
  {
   "cell_type": "code",
   "execution_count": null,
   "metadata": {},
   "outputs": [],
   "source": [
    "match_id = 1\n",
    "file = f'data_metrica/Sample_Game_{match_id}/Sample_Game_{match_id}_IntegratedData.csv'\n",
    "traces = pd.read_csv(file, header=0, index_col=0)\n",
    "traces"
   ]
  },
  {
   "cell_type": "markdown",
   "metadata": {},
   "source": [
    "##### (2) 특정 선수 속도/속력 산출"
   ]
  },
  {
   "cell_type": "code",
   "execution_count": null,
   "metadata": {},
   "outputs": [],
   "source": [
    "period = 1\n",
    "player = 'H11'\n",
    "player_cols = ['period', 'time', f'{player}_x', f'{player}_y']\n",
    "player_traces = traces.loc[traces['period'] == period, player_cols]\n",
    "player_traces"
   ]
  },
  {
   "cell_type": "code",
   "execution_count": null,
   "metadata": {},
   "outputs": [],
   "source": [
    "dt = player_traces['time'].diff()\n",
    "vx = player_traces[f'{player}_x'].diff() / dt\n",
    "vy = player_traces[f'{player}_y'].diff() / dt\n",
    "\n",
    "raw_speeds = np.sqrt(vx ** 2 + vy ** 2)\n",
    "lim_speed = 12\n",
    "vx[raw_speeds > lim_speed] = np.nan\n",
    "vy[raw_speeds > lim_speed] = np.nan\n",
    "\n",
    "plt.figure(figsize=(15, 5))\n",
    "plt.rcParams.update({'font.size': 15})\n",
    "plt.plot(player_traces['time'][10000:12000], raw_speeds[10000:12000])\n",
    "plt.xlabel('Time [s]')\n",
    "plt.ylabel('Speed [m/s]')\n",
    "plt.show()"
   ]
  },
  {
   "cell_type": "markdown",
   "metadata": {},
   "source": [
    "##### (3) 사비츠키-골레이 필터(Savitzky-Golay filter)를 활용한 속도/속력 스무딩(smoothing)"
   ]
  },
  {
   "cell_type": "code",
   "execution_count": null,
   "metadata": {},
   "outputs": [],
   "source": [
    "vx = signal.savgol_filter(vx, window_length=13, polyorder=1)\n",
    "vy = signal.savgol_filter(vy, window_length=13, polyorder=1)\n",
    "speeds = np.sqrt(vx ** 2 + vy ** 2)\n",
    "\n",
    "plt.figure(figsize=(15, 5))\n",
    "plt.rcParams.update({'font.size': 15})\n",
    "plt.plot(player_traces['time'][10000:12000], speeds[10000:12000])\n",
    "plt.xlabel('Time [s]')\n",
    "plt.ylabel('Speed [m/s]')\n",
    "plt.show()"
   ]
  },
  {
   "cell_type": "markdown",
   "metadata": {},
   "source": [
    "##### (4) 선수별 속도/속력 산출 함수 구현"
   ]
  },
  {
   "cell_type": "code",
   "execution_count": null,
   "metadata": {},
   "outputs": [],
   "source": [
    "def calc_running_features(traces, lim_speed=12, smoothing=True, window_length=13, polyorder=1):\n",
    "    players = [c[:-2] for c in traces.columns if c[0] in ['H', 'A'] and c.endswith('_x')]\n",
    "\n",
    "    for period in traces['period'].unique():\n",
    "        period_traces = traces[traces['period'] == period]\n",
    "\n",
    "        idx = period_traces.index\n",
    "        dt = period_traces['time'].diff()\n",
    "\n",
    "        for player in players:\n",
    "            vx = period_traces[f'{player}_x'].diff() / dt\n",
    "            vy = period_traces[f'{player}_y'].diff() / dt\n",
    "            \n",
    "            raw_speeds = np.sqrt(vx ** 2 + vy ** 2)\n",
    "            vx[raw_speeds > lim_speed] = np.nan\n",
    "            vy[raw_speeds > lim_speed] = np.nan\n",
    "            vx = vx.interpolate()\n",
    "            vy = vy.interpolate()\n",
    "\n",
    "            if smoothing:\n",
    "                vx = signal.savgol_filter(vx, window_length=13, polyorder=1)\n",
    "                vy = signal.savgol_filter(vy, window_length=13, polyorder=1)\n",
    "            \n",
    "            traces.loc[idx, f'{player}_vx'] = vx\n",
    "            traces.loc[idx, f'{player}_vy'] = vy\n",
    "            traces.loc[idx, f'{player}_speed'] = np.sqrt(vx ** 2 + vy ** 2)\n",
    "\n",
    "    return traces"
   ]
  },
  {
   "cell_type": "code",
   "execution_count": null,
   "metadata": {},
   "outputs": [],
   "source": [
    "traces = calc_running_features(traces)\n",
    "traces"
   ]
  },
  {
   "cell_type": "code",
   "execution_count": null,
   "metadata": {},
   "outputs": [],
   "source": [
    "traces.to_csv('data_metrica/Sample_Game_1/Sample_Game_1_IntegratedData.csv')"
   ]
  },
  {
   "cell_type": "markdown",
   "metadata": {},
   "source": [
    "##### (5) 여러 경기 위치 추적 데이터 가공 및 저장"
   ]
  },
  {
   "cell_type": "code",
   "execution_count": null,
   "metadata": {},
   "outputs": [],
   "source": [
    "matches = [d for d in os.listdir('data_metrica') if not d.startswith('.')]\n",
    "matches.sort()\n",
    "matches"
   ]
  },
  {
   "cell_type": "code",
   "execution_count": null,
   "metadata": {},
   "outputs": [],
   "source": [
    "for match in matches:\n",
    "    home_file = f'data_metrica/{match}/{match}_RawTrackingData_Home_Team.csv'\n",
    "    away_file = f'data_metrica/{match}/{match}_RawTrackingData_Away_Team.csv'\n",
    "    event_file = f'data_metrica/{match}/{match}_RawEventsData.csv'\n",
    "    try:\n",
    "        home_traces = pd.read_csv(home_file, header=[0, 1, 2])\n",
    "        away_traces = pd.read_csv(away_file, header=[0, 1, 2])\n",
    "        events = pd.read_csv(event_file, header=0)\n",
    "    except FileNotFoundError:\n",
    "        continue\n",
    "\n",
    "    home_players = [c[2] for c in home_traces.columns[3:-2:2]]\n",
    "    home_trace_cols = [[f'H{int(p[6:]):02d}_x', f'H{int(p[6:]):02d}_y'] for p in home_players]\n",
    "    home_trace_cols = np.array(home_trace_cols).flatten().tolist()\n",
    "    home_traces.columns = ['period', 'frame', 'time'] + home_trace_cols + ['ball_x', 'ball_y']\n",
    "    home_traces = home_traces.set_index('frame').astype(float)\n",
    "    home_traces['period'] = home_traces['period'].astype(int)\n",
    "\n",
    "    away_players = [c[2] for c in away_traces.columns[3:-2:2]]\n",
    "    away_trace_cols = [[f'A{int(p[6:]):02d}_x', f'A{int(p[6:]):02d}_y'] for p in away_players]\n",
    "    away_trace_cols = np.array(away_trace_cols).flatten().tolist()\n",
    "    away_traces.columns = ['period', 'frame', 'time'] + away_trace_cols + ['ball_x', 'ball_y']\n",
    "    away_traces = away_traces.set_index('frame').astype(float)\n",
    "    away_traces['period'] = away_traces['period'].astype(int)\n",
    "    \n",
    "    cols = home_traces.columns[:-2].tolist() + away_traces.columns[2:].tolist()\n",
    "    traces = pd.merge(home_traces, away_traces)[cols]\n",
    "    traces.index = home_traces.index.astype(int)\n",
    "\n",
    "    x_cols = [c for c in traces.columns if c.endswith('_x')]\n",
    "    y_cols = [c for c in traces.columns if c.endswith('_y')]\n",
    "    traces.loc[traces['period'] == 2, x_cols + y_cols] = 1 - traces.loc[traces['period'] == 2, x_cols + y_cols]\n",
    "    traces[x_cols] *= 104\n",
    "    traces[y_cols] *= 68\n",
    "\n",
    "    events.loc[events['Subtype'].isna(), 'Subtype'] = events.loc[events['Subtype'].isna(), 'Type']\n",
    "    for i, event in events.iterrows():\n",
    "        start_frame = event['Start Frame']\n",
    "        end_frame = event['End Frame']\n",
    "        traces.loc[start_frame:end_frame-1, 'event_player'] = event['From']\n",
    "        traces.loc[start_frame:end_frame-1, 'event_type'] = event['Type']\n",
    "        traces.loc[start_frame:end_frame-1, 'event_subtype'] = event['Subtype']\n",
    "    \n",
    "    traces = calc_running_features(traces)\n",
    "    traces.to_csv(f'data_metrica/{match}/{match}_IntegratedData.csv')\n",
    "    print(f'Integrated data saved for {match}.')"
   ]
  },
  {
   "cell_type": "markdown",
   "metadata": {},
   "source": [
    "### 경기 장면 애니메이션 시각화"
   ]
  },
  {
   "cell_type": "markdown",
   "metadata": {},
   "source": [
    "##### (1) 속도 벡터 포함 특정 시점 이미지 시각화"
   ]
  },
  {
   "cell_type": "code",
   "execution_count": null,
   "metadata": {},
   "outputs": [],
   "source": [
    "frame = 1000\n",
    "\n",
    "file = f'data_metrica/Sample_Game_{match_id}/Sample_Game_{match_id}_IntegratedData.csv'\n",
    "traces = pd.read_csv(file, header=0, index_col=0)\n",
    "data = traces.loc[frame]\n",
    "\n",
    "fig, ax = draw_pitch(pitch='white', line='black')\n",
    "\n",
    "for team, color in zip(['H', 'A'], ['r', 'b']):\n",
    "    x_cols = [c for c in data.keys() if c.startswith(team) and c.endswith('_x')]\n",
    "    y_cols = [c for c in data.keys() if c.startswith(team) and c.endswith('_y')]\n",
    "    ax.scatter(data[x_cols], data[y_cols], s=100, c=color, alpha=0.7)\n",
    "    \n",
    "    for x, y in zip(x_cols, y_cols):\n",
    "        if not (np.isnan(data[x]) or np.isnan(data[y])):\n",
    "            ax.text(data[x] + 0.5, data[y] + 0.5, int(x[1:3]), fontsize=13, color=color)\n",
    "    \n",
    "    vx_cols = [c for c in data.keys() if c.startswith(team) and c.endswith('_vx')]\n",
    "    vy_cols = [c for c in data.keys() if c.startswith(team) and c.endswith('_vy')]\n",
    "    ax.quiver(\n",
    "        data[x_cols].astype(float), data[y_cols].astype(float),\n",
    "        data[vx_cols].astype(float), data[vy_cols].astype(float),\n",
    "        color=color, scale=8, scale_units='inches', width=0.002, alpha=0.7\n",
    "    )\n",
    "\n",
    "ax.scatter(data['ball_x'], data['ball_y'], s=80, color='w', edgecolors='k')\n",
    "\n",
    "time_text = f\"{int(data['time'] // 60):02d}:{data['time'] % 60:05.2f}\"\n",
    "if not pd.isnull(data['event_subtype']):\n",
    "    event_text = f\"{data['event_subtype']} by {data['event_player']}\" \n",
    "else:\n",
    "    event_text = ''\n",
    "ax.text(51, 67, time_text, fontsize=15, ha='right', va='top')\n",
    "ax.text(53, 67, event_text, fontsize=15, ha='left', va='top')\n",
    "    \n",
    "plt.show()"
   ]
  },
  {
   "cell_type": "markdown",
   "metadata": {},
   "source": [
    "##### (2) 시점별 이미지 시각화 함수 구현"
   ]
  },
  {
   "cell_type": "code",
   "execution_count": null,
   "metadata": {},
   "outputs": [],
   "source": [
    "def plot_snapshot(\n",
    "    data, figax=None, team_colors=('r', 'b'),\n",
    "    annotate_players=True, annotate_events=True, show_velocities=True\n",
    "):\n",
    "    if figax is None:\n",
    "        fig, ax = draw_pitch(pitch='white', line='black')\n",
    "    else:\n",
    "        fig, ax = figax\n",
    "\n",
    "    figobjs = []\n",
    "    for team, color in zip(['H', 'A'], team_colors):\n",
    "        x_cols = [c for c in data.keys() if c.startswith(team) and c.endswith('_x')]\n",
    "        y_cols = [c for c in data.keys() if c.startswith(team) and c.endswith('_y')]\n",
    "        obj = ax.scatter(data[x_cols], data[y_cols], s=100, c=color, alpha=0.7)\n",
    "        figobjs.append(obj)\n",
    "\n",
    "        if show_velocities:\n",
    "            vx_cols = [c for c in data.keys() if c.startswith(team) and c.endswith('_vx')]\n",
    "            vy_cols = [c for c in data.keys() if c.startswith(team) and c.endswith('_vy')]\n",
    "            obj = ax.quiver(\n",
    "                data[x_cols].astype(float), data[y_cols].astype(float),\n",
    "                data[vx_cols].astype(float), data[vy_cols].astype(float),\n",
    "                color=color, scale=8, scale_units='inches', width=0.002, alpha=0.7\n",
    "            )\n",
    "            figobjs.append(obj)\n",
    "        \n",
    "        if annotate_players:\n",
    "            for x, y in zip(x_cols, y_cols):\n",
    "                if not (np.isnan(data[x]) or np.isnan(data[y])):\n",
    "                    obj = ax.text(data[x] + 0.5, data[y] + 0.5, int(x[1:3]), fontsize=13, color=color)\n",
    "                    figobjs.append(obj)\n",
    "\n",
    "    time_text = f\"{int(data['time'] // 60):02d}:{data['time'] % 60:05.2f}\"\n",
    "    if annotate_events:\n",
    "        if not pd.isnull(data['event_subtype']):\n",
    "            event_text = f\"{data['event_subtype']} by {data['event_player']}\" \n",
    "        else:\n",
    "            event_text = ''\n",
    "        figobjs.append(ax.text(51, 67, time_text, fontsize=15, ha='right', va='top'))\n",
    "        figobjs.append(ax.text(53, 67, event_text, fontsize=15, ha='left', va='top'))\n",
    "    else:\n",
    "        figobjs.append(ax.text(52, 67, time_text, fontsize=15, ha='center', va='top'))\n",
    "        \n",
    "    obj = ax.scatter(data['ball_x'], data['ball_y'], s=80, color='w', edgecolors='k')\n",
    "    figobjs.append(obj)\n",
    "\n",
    "    ax.set_xlim(-10, 114)\n",
    "    ax.set_ylim(-7, 75)\n",
    "    \n",
    "    return fig, ax, figobjs"
   ]
  },
  {
   "cell_type": "code",
   "execution_count": null,
   "metadata": {},
   "outputs": [],
   "source": [
    "frame = 1000\n",
    "fig, ax, figobjs = plot_snapshot(traces.loc[frame])\n",
    "plt.show()\n",
    "\n",
    "figobjs"
   ]
  },
  {
   "cell_type": "markdown",
   "metadata": {},
   "source": [
    "##### (3) 경기 장면 애니메이션 시각화 함수 구현"
   ]
  },
  {
   "cell_type": "code",
   "execution_count": null,
   "metadata": {},
   "outputs": [],
   "source": [
    "def save_clip(\n",
    "    clip_traces, fname='test', fps=25, figax=None, team_colors=('r', 'b'),\n",
    "    annotate_players=True, annotate_events=True, show_velocities=True\n",
    "):\n",
    "    metadata = dict(title='Tracking Data', artist='Matplotlib', comment='Metrica tracking data clip')\n",
    "    writer = animation.FFMpegWriter(fps=fps, metadata=metadata)\n",
    "\n",
    "    if not os.path.exists('match_clips'):\n",
    "        os.makedirs('match_clips')\n",
    "    file = f'match_clips/{fname}.mp4'\n",
    "\n",
    "    if figax is None:\n",
    "        fig, ax = draw_pitch(pitch='white', line='black')\n",
    "    else:\n",
    "        fig, ax = figax\n",
    "    fig.set_tight_layout(True)\n",
    "\n",
    "    with writer.saving(fig, file, dpi=100):\n",
    "        for i in clip_traces.index:\n",
    "            frame_data = clip_traces.loc[i]\n",
    "            fig, ax, figobjs = plot_snapshot(\n",
    "                frame_data, (fig, ax), team_colors,\n",
    "                annotate_players, annotate_events, show_velocities\n",
    "            )\n",
    "            writer.grab_frame()\n",
    "\n",
    "            for obj in figobjs:\n",
    "                obj.remove()\n",
    "\n",
    "    plt.clf()\n",
    "    plt.close(fig)"
   ]
  },
  {
   "cell_type": "code",
   "execution_count": null,
   "metadata": {},
   "outputs": [],
   "source": [
    "clip_traces = traces[:1000]\n",
    "save_clip(clip_traces)"
   ]
  }
 ],
 "metadata": {
  "kernelspec": {
   "display_name": "Python 3.8.13 ('class101')",
   "language": "python",
   "name": "python3"
  },
  "language_info": {
   "codemirror_mode": {
    "name": "ipython",
    "version": 3
   },
   "file_extension": ".py",
   "mimetype": "text/x-python",
   "name": "python",
   "nbconvert_exporter": "python",
   "pygments_lexer": "ipython3",
   "version": "3.8.13"
  },
  "orig_nbformat": 4,
  "vscode": {
   "interpreter": {
    "hash": "b2229428593ed30f482d105244b52f2214d62638ed0cc5078189e23a80557466"
   }
  }
 },
 "nbformat": 4,
 "nbformat_minor": 2
}
