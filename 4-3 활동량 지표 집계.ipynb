{
 "cells": [
  {
   "cell_type": "markdown",
   "metadata": {},
   "source": [
    "### 데이터 준비"
   ]
  },
  {
   "cell_type": "code",
   "execution_count": null,
   "metadata": {},
   "outputs": [],
   "source": [
    "import os\n",
    "import numpy as np\n",
    "import pandas as pd\n",
    "from tqdm import tqdm\n",
    "import matplotlib.pyplot as plt\n",
    "from src.plot_utils import draw_pitch"
   ]
  },
  {
   "cell_type": "markdown",
   "metadata": {},
   "source": [
    "##### (1) 가공 데이터 불러오기"
   ]
  },
  {
   "cell_type": "code",
   "execution_count": null,
   "metadata": {},
   "outputs": [],
   "source": [
    "match_id = 1\n",
    "file = f'data_metrica/Sample_Game_{match_id}/Sample_Game_{match_id}_IntegratedData.csv'\n",
    "traces = pd.read_csv(file, header=0, index_col=0)\n",
    "traces"
   ]
  },
  {
   "cell_type": "markdown",
   "metadata": {},
   "source": [
    "##### (2) 가공 데이터 형태 변환"
   ]
  },
  {
   "cell_type": "code",
   "execution_count": null,
   "metadata": {},
   "outputs": [],
   "source": [
    "players = [c[:-2] for c in traces.columns if c.endswith('_x') and not c.startswith('ball')]\n",
    "player_cols = ['period', 'time', 'x', 'y', 'vx', 'vy', 'speed']\n",
    "trace_list = []\n",
    "\n",
    "for p in players:\n",
    "    player_trace = traces[['period', 'time', f'{p}_x', f'{p}_y', f'{p}_vx', f'{p}_vy', f'{p}_speed']].copy()\n",
    "    player_trace['team'] = 'Home' if p[0] == 'H' else 'Away'\n",
    "    player_trace['player_id'] = int(p[1:])\n",
    "    player_trace.columns = player_cols + ['team', 'player_id']\n",
    "    trace_list.append(player_trace)\n",
    "\n",
    "traces = pd.concat(trace_list).reset_index()[['team', 'player_id', 'frame'] + player_cols]\n",
    "traces"
   ]
  },
  {
   "cell_type": "code",
   "execution_count": null,
   "metadata": {},
   "outputs": [],
   "source": [
    "traces['distance'] = traces['speed'] * 0.04\n",
    "traces['speed'] = traces['speed'] * 3.6\n",
    "traces.to_csv('data_metrica/Sample_Game_1/Sample_Game_1_IntegratedData_Reshaped.csv')\n",
    "traces[34700:34720]"
   ]
  },
  {
   "cell_type": "markdown",
   "metadata": {},
   "source": [
    "### 활동량 지표 집계"
   ]
  },
  {
   "cell_type": "markdown",
   "metadata": {},
   "source": [
    "##### (1) 뛴 거리"
   ]
  },
  {
   "cell_type": "code",
   "execution_count": null,
   "metadata": {},
   "outputs": [],
   "source": [
    "distances = traces.groupby('player_id')['distance'].sum()\n",
    "distances"
   ]
  },
  {
   "cell_type": "markdown",
   "metadata": {},
   "source": [
    "##### (2) 출전 시간"
   ]
  },
  {
   "cell_type": "code",
   "execution_count": null,
   "metadata": {},
   "outputs": [],
   "source": [
    "durations = traces[['player_id', 'x']].dropna().groupby('player_id').count() * 0.04\n",
    "durations.columns = ['duration']\n",
    "durations"
   ]
  },
  {
   "cell_type": "markdown",
   "metadata": {},
   "source": [
    "##### (3) 1분당 뛴 거리"
   ]
  },
  {
   "cell_type": "code",
   "execution_count": null,
   "metadata": {},
   "outputs": [],
   "source": [
    "stats = pd.concat([durations, distances], axis=1)\n",
    "stats['dist_1min'] = stats['distance'] / stats['duration'] * 60\n",
    "stats"
   ]
  },
  {
   "cell_type": "markdown",
   "metadata": {},
   "source": [
    "##### (4) 속도 구간별 뛴 거리"
   ]
  },
  {
   "cell_type": "code",
   "execution_count": null,
   "metadata": {},
   "outputs": [],
   "source": [
    "speed_bins = [0, 7, 15, 20, 25, 50]\n",
    "speed_cats = pd.cut(traces['speed'], speed_bins, right=False, labels=np.arange(1, 6))\n",
    "distances_by_speed = traces.pivot_table('distance', index='player_id', columns=speed_cats, aggfunc='sum')\n",
    "distances_by_speed"
   ]
  },
  {
   "cell_type": "markdown",
   "metadata": {},
   "source": [
    "##### (5) 추가 지표 산출 및 연결"
   ]
  },
  {
   "cell_type": "code",
   "execution_count": null,
   "metadata": {},
   "outputs": [],
   "source": [
    "distances_by_speed.columns = [f'zone{i}_dist' for i in distances_by_speed.columns]\n",
    "stats = pd.concat([stats, distances_by_speed], axis=1)\n",
    "\n",
    "grouped = traces.groupby('player_id')\n",
    "stats['max_speed'] = grouped['speed'].max()\n",
    "stats['mean_x'] = grouped['x'].mean()\n",
    "stats['mean_y'] = grouped['y'].mean()\n",
    "stats['team'] = grouped['team'].first()\n",
    "stats = stats.reset_index().set_index(['team', 'player_id']).round(2)\n",
    "stats"
   ]
  },
  {
   "cell_type": "markdown",
   "metadata": {},
   "source": [
    "### 활동량 지표 시각화"
   ]
  },
  {
   "cell_type": "markdown",
   "metadata": {},
   "source": [
    "##### (1) 선수별 지표값 막대그래프 시각화"
   ]
  },
  {
   "cell_type": "code",
   "execution_count": null,
   "metadata": {},
   "outputs": [],
   "source": [
    "col_name = 'distance'\n",
    "\n",
    "plt.figure(figsize=(15, 8))\n",
    "plt.rcParams.update({'font.size': 15})\n",
    "\n",
    "for team, color in zip(['Home', 'Away'], ['r', 'b']):\n",
    "    team_stats = stats.loc[team]\n",
    "    plt.bar(team_stats.index, team_stats[col_name], color=color, label=team)\n",
    "\n",
    "plt.grid(axis='y', color='k', linestyle='--')\n",
    "plt.legend()\n",
    "plt.xticks(stats.reset_index()['player_id'])\n",
    "plt.xlabel('player_id')\n",
    "plt.ylabel(col_name)\n",
    "plt.show()"
   ]
  },
  {
   "cell_type": "markdown",
   "metadata": {},
   "source": [
    "##### (2) 속도 구간별 뛴 거리 막대그래프 시각화"
   ]
  },
  {
   "cell_type": "code",
   "execution_count": null,
   "metadata": {},
   "outputs": [],
   "source": [
    "plt.get_cmap('jet')"
   ]
  },
  {
   "cell_type": "code",
   "execution_count": null,
   "metadata": {},
   "outputs": [],
   "source": [
    "plt.figure(figsize=(15, 8))\n",
    "plt.title('Distance by Speed Zone')\n",
    "\n",
    "player_ids = stats.reset_index()['player_id']\n",
    "n_zones = len(distances_by_speed.columns)\n",
    "colors = plt.cm.jet(np.linspace(0.9, 0.1, n_zones))\n",
    "\n",
    "bottom = 0\n",
    "for i, zone_dist in enumerate(distances_by_speed.columns[::-1]):\n",
    "    plt.bar(player_ids, stats[zone_dist], bottom=bottom, color=colors[i], label=f'Zone {5-i}')\n",
    "    if i < n_zones - 1:\n",
    "        bottom = bottom + stats[zone_dist]\n",
    "\n",
    "plt.grid(axis='y', color='k', linestyle='--')\n",
    "plt.axvline(14.5, color='k', linestyle='--')\n",
    "\n",
    "plt.xticks(stats.reset_index()['player_id'])\n",
    "plt.ylim(0, 12000)\n",
    "plt.xlabel('player_id')\n",
    "plt.ylabel('distance')\n",
    "\n",
    "# plt.legend()\n",
    "handles, labels = plt.gca().get_legend_handles_labels()\n",
    "plt.legend(handles[::-1], labels[::-1])\n",
    "\n",
    "plt.show()"
   ]
  },
  {
   "cell_type": "markdown",
   "metadata": {},
   "source": [
    "##### (3) 선수별 평균 위치 및 지표값 산점도 시각화"
   ]
  },
  {
   "cell_type": "code",
   "execution_count": null,
   "metadata": {},
   "outputs": [],
   "source": [
    "col_name = 'dist_1min'\n",
    "\n",
    "values_sorted = stats[col_name].sort_values()\n",
    "min_size = 600\n",
    "max_size = 1200\n",
    "min_values = values_sorted.iloc[8]\n",
    "max_values = values_sorted.iloc[-1]\n",
    "sizes = min_size + (stats[col_name] - min_values) / (max_values - min_values) * (max_size - min_size)\n",
    "\n",
    "draw_pitch('white', 'black', size_x=15, size_y=10)\n",
    "\n",
    "for team, color in zip(['Home', 'Away'], ['r', 'b']):\n",
    "    team_stats = stats.loc[team]\n",
    "    x = team_stats['mean_x']\n",
    "    y = team_stats['mean_y']\n",
    "    plt.scatter(x, y, c=color, s=sizes[team].clip(0))\n",
    "    for p in team_stats.index:\n",
    "        plt.text(x[p], y[p], p, color='w', ha='center', va='center', fontsize=15)\n",
    "\n",
    "plt.show()"
   ]
  }
 ],
 "metadata": {
  "kernelspec": {
   "display_name": "Python 3.8.13 ('class101')",
   "language": "python",
   "name": "python3"
  },
  "language_info": {
   "codemirror_mode": {
    "name": "ipython",
    "version": 3
   },
   "file_extension": ".py",
   "mimetype": "text/x-python",
   "name": "python",
   "nbconvert_exporter": "python",
   "pygments_lexer": "ipython3",
   "version": "3.8.13"
  },
  "orig_nbformat": 4,
  "vscode": {
   "interpreter": {
    "hash": "b2229428593ed30f482d105244b52f2214d62638ed0cc5078189e23a80557466"
   }
  }
 },
 "nbformat": 4,
 "nbformat_minor": 2
}
