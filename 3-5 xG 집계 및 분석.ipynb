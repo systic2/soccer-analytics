{
 "cells": [
  {
   "cell_type": "markdown",
   "metadata": {},
   "source": [
    "### 슈팅 데이터 불러오기"
   ]
  },
  {
   "cell_type": "code",
   "execution_count": 1,
   "metadata": {},
   "outputs": [],
   "source": [
    "import numpy as np\n",
    "import pandas as pd\n",
    "import plotly.graph_objects as go\n",
    "from src.plot_utils import get_pitch_layout"
   ]
  },
  {
   "cell_type": "code",
   "execution_count": 2,
   "metadata": {},
   "outputs": [
    {
     "data": {
      "text/html": [
       "<div>\n",
       "<style scoped>\n",
       "    .dataframe tbody tr th:only-of-type {\n",
       "        vertical-align: middle;\n",
       "    }\n",
       "\n",
       "    .dataframe tbody tr th {\n",
       "        vertical-align: top;\n",
       "    }\n",
       "\n",
       "    .dataframe thead th {\n",
       "        text-align: right;\n",
       "    }\n",
       "</style>\n",
       "<table border=\"1\" class=\"dataframe\">\n",
       "  <thead>\n",
       "    <tr style=\"text-align: right;\">\n",
       "      <th></th>\n",
       "      <th>competition_name</th>\n",
       "      <th>match_id</th>\n",
       "      <th>event_id</th>\n",
       "      <th>period</th>\n",
       "      <th>time</th>\n",
       "      <th>team_id</th>\n",
       "      <th>team_name</th>\n",
       "      <th>player_id</th>\n",
       "      <th>player_name</th>\n",
       "      <th>event_type</th>\n",
       "      <th>sub_event_type</th>\n",
       "      <th>tags</th>\n",
       "      <th>x</th>\n",
       "      <th>y</th>\n",
       "      <th>distance</th>\n",
       "      <th>angle</th>\n",
       "      <th>freekick</th>\n",
       "      <th>header</th>\n",
       "      <th>goal</th>\n",
       "      <th>xg</th>\n",
       "    </tr>\n",
       "  </thead>\n",
       "  <tbody>\n",
       "    <tr>\n",
       "      <th>0</th>\n",
       "      <td>England</td>\n",
       "      <td>2499719</td>\n",
       "      <td>177959212</td>\n",
       "      <td>1H</td>\n",
       "      <td>94.596</td>\n",
       "      <td>1609</td>\n",
       "      <td>Arsenal</td>\n",
       "      <td>25413</td>\n",
       "      <td>A. Lacazette</td>\n",
       "      <td>Shot</td>\n",
       "      <td>Shot</td>\n",
       "      <td>[Goal, Right foot, Opportunity, Position: Goal...</td>\n",
       "      <td>12.48</td>\n",
       "      <td>6.12</td>\n",
       "      <td>13.899813</td>\n",
       "      <td>26.933236</td>\n",
       "      <td>0</td>\n",
       "      <td>0</td>\n",
       "      <td>1</td>\n",
       "      <td>0.144301</td>\n",
       "    </tr>\n",
       "    <tr>\n",
       "      <th>1</th>\n",
       "      <td>England</td>\n",
       "      <td>2499719</td>\n",
       "      <td>177959247</td>\n",
       "      <td>1H</td>\n",
       "      <td>179.855</td>\n",
       "      <td>1631</td>\n",
       "      <td>Leicester City</td>\n",
       "      <td>26150</td>\n",
       "      <td>R. Mahrez</td>\n",
       "      <td>Shot</td>\n",
       "      <td>Shot</td>\n",
       "      <td>[Left foot, Opportunity, Position: Out center ...</td>\n",
       "      <td>15.60</td>\n",
       "      <td>-1.36</td>\n",
       "      <td>15.659170</td>\n",
       "      <td>26.224941</td>\n",
       "      <td>0</td>\n",
       "      <td>0</td>\n",
       "      <td>0</td>\n",
       "      <td>0.120955</td>\n",
       "    </tr>\n",
       "    <tr>\n",
       "      <th>2</th>\n",
       "      <td>England</td>\n",
       "      <td>2499719</td>\n",
       "      <td>177959280</td>\n",
       "      <td>1H</td>\n",
       "      <td>254.745</td>\n",
       "      <td>1631</td>\n",
       "      <td>Leicester City</td>\n",
       "      <td>14763</td>\n",
       "      <td>S. Okazaki</td>\n",
       "      <td>Shot</td>\n",
       "      <td>Shot</td>\n",
       "      <td>[Goal, Head/body, Opportunity, Position: Goal ...</td>\n",
       "      <td>4.16</td>\n",
       "      <td>-1.36</td>\n",
       "      <td>4.376665</td>\n",
       "      <td>79.289489</td>\n",
       "      <td>0</td>\n",
       "      <td>1</td>\n",
       "      <td>1</td>\n",
       "      <td>0.410288</td>\n",
       "    </tr>\n",
       "    <tr>\n",
       "      <th>3</th>\n",
       "      <td>England</td>\n",
       "      <td>2499719</td>\n",
       "      <td>177959289</td>\n",
       "      <td>1H</td>\n",
       "      <td>425.824</td>\n",
       "      <td>1609</td>\n",
       "      <td>Arsenal</td>\n",
       "      <td>7868</td>\n",
       "      <td>A. Oxlade-Chamberlain</td>\n",
       "      <td>Shot</td>\n",
       "      <td>Shot</td>\n",
       "      <td>[Left foot, Opportunity, Position: Out high le...</td>\n",
       "      <td>19.76</td>\n",
       "      <td>11.56</td>\n",
       "      <td>22.893038</td>\n",
       "      <td>15.813597</td>\n",
       "      <td>0</td>\n",
       "      <td>0</td>\n",
       "      <td>0</td>\n",
       "      <td>0.042329</td>\n",
       "    </tr>\n",
       "    <tr>\n",
       "      <th>4</th>\n",
       "      <td>England</td>\n",
       "      <td>2499719</td>\n",
       "      <td>177959429</td>\n",
       "      <td>1H</td>\n",
       "      <td>815.462</td>\n",
       "      <td>1609</td>\n",
       "      <td>Arsenal</td>\n",
       "      <td>7868</td>\n",
       "      <td>A. Oxlade-Chamberlain</td>\n",
       "      <td>Shot</td>\n",
       "      <td>Shot</td>\n",
       "      <td>[Right foot, Opportunity, Position: Goal low l...</td>\n",
       "      <td>26.00</td>\n",
       "      <td>13.60</td>\n",
       "      <td>29.342120</td>\n",
       "      <td>12.655803</td>\n",
       "      <td>0</td>\n",
       "      <td>0</td>\n",
       "      <td>0</td>\n",
       "      <td>0.019252</td>\n",
       "    </tr>\n",
       "    <tr>\n",
       "      <th>...</th>\n",
       "      <td>...</td>\n",
       "      <td>...</td>\n",
       "      <td>...</td>\n",
       "      <td>...</td>\n",
       "      <td>...</td>\n",
       "      <td>...</td>\n",
       "      <td>...</td>\n",
       "      <td>...</td>\n",
       "      <td>...</td>\n",
       "      <td>...</td>\n",
       "      <td>...</td>\n",
       "      <td>...</td>\n",
       "      <td>...</td>\n",
       "      <td>...</td>\n",
       "      <td>...</td>\n",
       "      <td>...</td>\n",
       "      <td>...</td>\n",
       "      <td>...</td>\n",
       "      <td>...</td>\n",
       "      <td>...</td>\n",
       "    </tr>\n",
       "    <tr>\n",
       "      <th>45940</th>\n",
       "      <td>European_Championship</td>\n",
       "      <td>1694440</td>\n",
       "      <td>90588583</td>\n",
       "      <td>2H</td>\n",
       "      <td>2776.504</td>\n",
       "      <td>4418</td>\n",
       "      <td>France</td>\n",
       "      <td>25575</td>\n",
       "      <td>A. Gignac</td>\n",
       "      <td>Shot</td>\n",
       "      <td>Shot</td>\n",
       "      <td>[Right foot, Opportunity, Position: Post cente...</td>\n",
       "      <td>7.28</td>\n",
       "      <td>5.44</td>\n",
       "      <td>9.088014</td>\n",
       "      <td>37.600623</td>\n",
       "      <td>0</td>\n",
       "      <td>0</td>\n",
       "      <td>0</td>\n",
       "      <td>0.274545</td>\n",
       "    </tr>\n",
       "    <tr>\n",
       "      <th>45941</th>\n",
       "      <td>European_Championship</td>\n",
       "      <td>1694440</td>\n",
       "      <td>90589205</td>\n",
       "      <td>E1</td>\n",
       "      <td>807.318</td>\n",
       "      <td>9905</td>\n",
       "      <td>Portugal</td>\n",
       "      <td>70410</td>\n",
       "      <td>Éder</td>\n",
       "      <td>Shot</td>\n",
       "      <td>Shot</td>\n",
       "      <td>[Head/body, Opportunity, Position: Goal center...</td>\n",
       "      <td>10.40</td>\n",
       "      <td>8.16</td>\n",
       "      <td>13.219138</td>\n",
       "      <td>25.258830</td>\n",
       "      <td>0</td>\n",
       "      <td>1</td>\n",
       "      <td>0</td>\n",
       "      <td>0.056731</td>\n",
       "    </tr>\n",
       "    <tr>\n",
       "      <th>45942</th>\n",
       "      <td>European_Championship</td>\n",
       "      <td>1694440</td>\n",
       "      <td>90589242</td>\n",
       "      <td>E2</td>\n",
       "      <td>144.487</td>\n",
       "      <td>9905</td>\n",
       "      <td>Portugal</td>\n",
       "      <td>28907</td>\n",
       "      <td>Raphaël Guerreiro</td>\n",
       "      <td>Free kick</td>\n",
       "      <td>Free kick shot</td>\n",
       "      <td>[Left foot, Direct, Position: Post high left, ...</td>\n",
       "      <td>24.96</td>\n",
       "      <td>12.92</td>\n",
       "      <td>28.105658</td>\n",
       "      <td>13.240079</td>\n",
       "      <td>1</td>\n",
       "      <td>0</td>\n",
       "      <td>0</td>\n",
       "      <td>0.098265</td>\n",
       "    </tr>\n",
       "    <tr>\n",
       "      <th>45943</th>\n",
       "      <td>European_Championship</td>\n",
       "      <td>1694440</td>\n",
       "      <td>90589254</td>\n",
       "      <td>E2</td>\n",
       "      <td>204.428</td>\n",
       "      <td>9905</td>\n",
       "      <td>Portugal</td>\n",
       "      <td>70410</td>\n",
       "      <td>Éder</td>\n",
       "      <td>Shot</td>\n",
       "      <td>Shot</td>\n",
       "      <td>[Goal, Right foot, Opportunity, Position: Goal...</td>\n",
       "      <td>23.92</td>\n",
       "      <td>2.72</td>\n",
       "      <td>24.074152</td>\n",
       "      <td>17.184831</td>\n",
       "      <td>0</td>\n",
       "      <td>0</td>\n",
       "      <td>1</td>\n",
       "      <td>0.040692</td>\n",
       "    </tr>\n",
       "    <tr>\n",
       "      <th>45944</th>\n",
       "      <td>European_Championship</td>\n",
       "      <td>1694440</td>\n",
       "      <td>90589034</td>\n",
       "      <td>E2</td>\n",
       "      <td>981.239</td>\n",
       "      <td>4418</td>\n",
       "      <td>France</td>\n",
       "      <td>134513</td>\n",
       "      <td>A. Martial</td>\n",
       "      <td>Shot</td>\n",
       "      <td>Shot</td>\n",
       "      <td>[Right foot, Blocked, Not accurate]</td>\n",
       "      <td>13.52</td>\n",
       "      <td>6.80</td>\n",
       "      <td>15.133750</td>\n",
       "      <td>24.652934</td>\n",
       "      <td>0</td>\n",
       "      <td>0</td>\n",
       "      <td>0</td>\n",
       "      <td>0.121068</td>\n",
       "    </tr>\n",
       "  </tbody>\n",
       "</table>\n",
       "<p>45945 rows × 20 columns</p>\n",
       "</div>"
      ],
      "text/plain": [
       "            competition_name match_id   event_id period      time team_id  \\\n",
       "0                    England  2499719  177959212     1H    94.596    1609   \n",
       "1                    England  2499719  177959247     1H   179.855    1631   \n",
       "2                    England  2499719  177959280     1H   254.745    1631   \n",
       "3                    England  2499719  177959289     1H   425.824    1609   \n",
       "4                    England  2499719  177959429     1H   815.462    1609   \n",
       "...                      ...      ...        ...    ...       ...     ...   \n",
       "45940  European_Championship  1694440   90588583     2H  2776.504    4418   \n",
       "45941  European_Championship  1694440   90589205     E1   807.318    9905   \n",
       "45942  European_Championship  1694440   90589242     E2   144.487    9905   \n",
       "45943  European_Championship  1694440   90589254     E2   204.428    9905   \n",
       "45944  European_Championship  1694440   90589034     E2   981.239    4418   \n",
       "\n",
       "            team_name player_id            player_name event_type  \\\n",
       "0             Arsenal     25413           A. Lacazette       Shot   \n",
       "1      Leicester City     26150              R. Mahrez       Shot   \n",
       "2      Leicester City     14763             S. Okazaki       Shot   \n",
       "3             Arsenal      7868  A. Oxlade-Chamberlain       Shot   \n",
       "4             Arsenal      7868  A. Oxlade-Chamberlain       Shot   \n",
       "...               ...       ...                    ...        ...   \n",
       "45940          France     25575              A. Gignac       Shot   \n",
       "45941        Portugal     70410                   Éder       Shot   \n",
       "45942        Portugal     28907      Raphaël Guerreiro  Free kick   \n",
       "45943        Portugal     70410                   Éder       Shot   \n",
       "45944          France    134513             A. Martial       Shot   \n",
       "\n",
       "       sub_event_type                                               tags  \\\n",
       "0                Shot  [Goal, Right foot, Opportunity, Position: Goal...   \n",
       "1                Shot  [Left foot, Opportunity, Position: Out center ...   \n",
       "2                Shot  [Goal, Head/body, Opportunity, Position: Goal ...   \n",
       "3                Shot  [Left foot, Opportunity, Position: Out high le...   \n",
       "4                Shot  [Right foot, Opportunity, Position: Goal low l...   \n",
       "...               ...                                                ...   \n",
       "45940            Shot  [Right foot, Opportunity, Position: Post cente...   \n",
       "45941            Shot  [Head/body, Opportunity, Position: Goal center...   \n",
       "45942  Free kick shot  [Left foot, Direct, Position: Post high left, ...   \n",
       "45943            Shot  [Goal, Right foot, Opportunity, Position: Goal...   \n",
       "45944            Shot                [Right foot, Blocked, Not accurate]   \n",
       "\n",
       "           x      y   distance      angle  freekick  header  goal        xg  \n",
       "0      12.48   6.12  13.899813  26.933236         0       0     1  0.144301  \n",
       "1      15.60  -1.36  15.659170  26.224941         0       0     0  0.120955  \n",
       "2       4.16  -1.36   4.376665  79.289489         0       1     1  0.410288  \n",
       "3      19.76  11.56  22.893038  15.813597         0       0     0  0.042329  \n",
       "4      26.00  13.60  29.342120  12.655803         0       0     0  0.019252  \n",
       "...      ...    ...        ...        ...       ...     ...   ...       ...  \n",
       "45940   7.28   5.44   9.088014  37.600623         0       0     0  0.274545  \n",
       "45941  10.40   8.16  13.219138  25.258830         0       1     0  0.056731  \n",
       "45942  24.96  12.92  28.105658  13.240079         1       0     0  0.098265  \n",
       "45943  23.92   2.72  24.074152  17.184831         0       0     1  0.040692  \n",
       "45944  13.52   6.80  15.133750  24.652934         0       0     0  0.121068  \n",
       "\n",
       "[45945 rows x 20 columns]"
      ]
     },
     "execution_count": 2,
     "metadata": {},
     "output_type": "execute_result"
    }
   ],
   "source": [
    "shots = pd.read_pickle('data/shots.pkl')\n",
    "shots"
   ]
  },
  {
   "cell_type": "markdown",
   "metadata": {},
   "source": [
    "### 단일 경기 xG 시각화"
   ]
  },
  {
   "cell_type": "markdown",
   "metadata": {},
   "source": [
    "##### (1) 슈팅 레이블 생성"
   ]
  },
  {
   "cell_type": "code",
   "execution_count": 3,
   "metadata": {},
   "outputs": [
    {
     "name": "stderr",
     "output_type": "stream",
     "text": [
      "/var/folders/jc/zkd1hm1x46l2btxg5lgwljm40000gn/T/ipykernel_76546/1925760578.py:8: SettingWithCopyWarning: \n",
      "A value is trying to be set on a copy of a slice from a DataFrame.\n",
      "Try using .loc[row_indexer,col_indexer] = value instead\n",
      "\n",
      "See the caveats in the documentation: https://pandas.pydata.org/pandas-docs/stable/user_guide/indexing.html#returning-a-view-versus-a-copy\n",
      "  match_shots['display_name'] = match_shots.apply(\n"
     ]
    },
    {
     "data": {
      "text/html": [
       "<div>\n",
       "<style scoped>\n",
       "    .dataframe tbody tr th:only-of-type {\n",
       "        vertical-align: middle;\n",
       "    }\n",
       "\n",
       "    .dataframe tbody tr th {\n",
       "        vertical-align: top;\n",
       "    }\n",
       "\n",
       "    .dataframe thead th {\n",
       "        text-align: right;\n",
       "    }\n",
       "</style>\n",
       "<table border=\"1\" class=\"dataframe\">\n",
       "  <thead>\n",
       "    <tr style=\"text-align: right;\">\n",
       "      <th></th>\n",
       "      <th>competition_name</th>\n",
       "      <th>match_id</th>\n",
       "      <th>event_id</th>\n",
       "      <th>period</th>\n",
       "      <th>time</th>\n",
       "      <th>team_id</th>\n",
       "      <th>team_name</th>\n",
       "      <th>player_id</th>\n",
       "      <th>player_name</th>\n",
       "      <th>event_type</th>\n",
       "      <th>...</th>\n",
       "      <th>tags</th>\n",
       "      <th>x</th>\n",
       "      <th>y</th>\n",
       "      <th>distance</th>\n",
       "      <th>angle</th>\n",
       "      <th>freekick</th>\n",
       "      <th>header</th>\n",
       "      <th>goal</th>\n",
       "      <th>xg</th>\n",
       "      <th>display_name</th>\n",
       "    </tr>\n",
       "  </thead>\n",
       "  <tbody>\n",
       "    <tr>\n",
       "      <th>34329</th>\n",
       "      <td>World_Cup</td>\n",
       "      <td>2057987</td>\n",
       "      <td>259956999</td>\n",
       "      <td>1H</td>\n",
       "      <td>698.173</td>\n",
       "      <td>15473</td>\n",
       "      <td>Mexico</td>\n",
       "      <td>7941</td>\n",
       "      <td>J. Hernández</td>\n",
       "      <td>Shot</td>\n",
       "      <td>...</td>\n",
       "      <td>[Head/body, Opportunity, Position: Out center ...</td>\n",
       "      <td>91.52</td>\n",
       "      <td>27.88</td>\n",
       "      <td>13.899813</td>\n",
       "      <td>26.933236</td>\n",
       "      <td>0</td>\n",
       "      <td>1</td>\n",
       "      <td>0</td>\n",
       "      <td>0.054551</td>\n",
       "      <td>J. Hernández, 1H 11:38, xG: 0.055</td>\n",
       "    </tr>\n",
       "    <tr>\n",
       "      <th>34330</th>\n",
       "      <td>World_Cup</td>\n",
       "      <td>2057987</td>\n",
       "      <td>259957180</td>\n",
       "      <td>1H</td>\n",
       "      <td>1275.442</td>\n",
       "      <td>14855</td>\n",
       "      <td>Korea Republic</td>\n",
       "      <td>14911</td>\n",
       "      <td>Son Heung-Min</td>\n",
       "      <td>Shot</td>\n",
       "      <td>...</td>\n",
       "      <td>[Counter attack, Left foot, Blocked, Opportuni...</td>\n",
       "      <td>13.52</td>\n",
       "      <td>45.56</td>\n",
       "      <td>17.788311</td>\n",
       "      <td>18.086581</td>\n",
       "      <td>0</td>\n",
       "      <td>0</td>\n",
       "      <td>0</td>\n",
       "      <td>0.069513</td>\n",
       "      <td>Son Heung-Min, 1H 21:15, xG: 0.07</td>\n",
       "    </tr>\n",
       "    <tr>\n",
       "      <th>34331</th>\n",
       "      <td>World_Cup</td>\n",
       "      <td>2057987</td>\n",
       "      <td>259957182</td>\n",
       "      <td>1H</td>\n",
       "      <td>1277.147</td>\n",
       "      <td>14855</td>\n",
       "      <td>Korea Republic</td>\n",
       "      <td>14911</td>\n",
       "      <td>Son Heung-Min</td>\n",
       "      <td>Shot</td>\n",
       "      <td>...</td>\n",
       "      <td>[Right foot, Blocked, Opportunity, Not accurate]</td>\n",
       "      <td>12.48</td>\n",
       "      <td>45.56</td>\n",
       "      <td>17.011290</td>\n",
       "      <td>18.314813</td>\n",
       "      <td>0</td>\n",
       "      <td>0</td>\n",
       "      <td>0</td>\n",
       "      <td>0.075302</td>\n",
       "      <td>Son Heung-Min, 1H 21:17, xG: 0.075</td>\n",
       "    </tr>\n",
       "    <tr>\n",
       "      <th>34332</th>\n",
       "      <td>World_Cup</td>\n",
       "      <td>2057987</td>\n",
       "      <td>259965138</td>\n",
       "      <td>1H</td>\n",
       "      <td>1281.101</td>\n",
       "      <td>14855</td>\n",
       "      <td>Korea Republic</td>\n",
       "      <td>14911</td>\n",
       "      <td>Son Heung-Min</td>\n",
       "      <td>Shot</td>\n",
       "      <td>...</td>\n",
       "      <td>[Left foot, Blocked, Not accurate]</td>\n",
       "      <td>21.84</td>\n",
       "      <td>41.48</td>\n",
       "      <td>23.085407</td>\n",
       "      <td>17.103758</td>\n",
       "      <td>0</td>\n",
       "      <td>0</td>\n",
       "      <td>0</td>\n",
       "      <td>0.042404</td>\n",
       "      <td>Son Heung-Min, 1H 21:21, xG: 0.042</td>\n",
       "    </tr>\n",
       "    <tr>\n",
       "      <th>34333</th>\n",
       "      <td>World_Cup</td>\n",
       "      <td>2057987</td>\n",
       "      <td>259957220</td>\n",
       "      <td>1H</td>\n",
       "      <td>1339.263</td>\n",
       "      <td>14855</td>\n",
       "      <td>Korea Republic</td>\n",
       "      <td>61962</td>\n",
       "      <td>Sung-Yeung Ki</td>\n",
       "      <td>Shot</td>\n",
       "      <td>...</td>\n",
       "      <td>[Head/body, Opportunity, Position: Goal high c...</td>\n",
       "      <td>11.44</td>\n",
       "      <td>37.40</td>\n",
       "      <td>11.934555</td>\n",
       "      <td>32.982052</td>\n",
       "      <td>0</td>\n",
       "      <td>1</td>\n",
       "      <td>0</td>\n",
       "      <td>0.080438</td>\n",
       "      <td>Sung-Yeung Ki, 1H 22:19, xG: 0.08</td>\n",
       "    </tr>\n",
       "  </tbody>\n",
       "</table>\n",
       "<p>5 rows × 21 columns</p>\n",
       "</div>"
      ],
      "text/plain": [
       "      competition_name match_id   event_id period      time team_id  \\\n",
       "34329        World_Cup  2057987  259956999     1H   698.173   15473   \n",
       "34330        World_Cup  2057987  259957180     1H  1275.442   14855   \n",
       "34331        World_Cup  2057987  259957182     1H  1277.147   14855   \n",
       "34332        World_Cup  2057987  259965138     1H  1281.101   14855   \n",
       "34333        World_Cup  2057987  259957220     1H  1339.263   14855   \n",
       "\n",
       "            team_name player_id    player_name event_type  ...  \\\n",
       "34329          Mexico      7941   J. Hernández       Shot  ...   \n",
       "34330  Korea Republic     14911  Son Heung-Min       Shot  ...   \n",
       "34331  Korea Republic     14911  Son Heung-Min       Shot  ...   \n",
       "34332  Korea Republic     14911  Son Heung-Min       Shot  ...   \n",
       "34333  Korea Republic     61962  Sung-Yeung Ki       Shot  ...   \n",
       "\n",
       "                                                    tags      x      y  \\\n",
       "34329  [Head/body, Opportunity, Position: Out center ...  91.52  27.88   \n",
       "34330  [Counter attack, Left foot, Blocked, Opportuni...  13.52  45.56   \n",
       "34331   [Right foot, Blocked, Opportunity, Not accurate]  12.48  45.56   \n",
       "34332                 [Left foot, Blocked, Not accurate]  21.84  41.48   \n",
       "34333  [Head/body, Opportunity, Position: Goal high c...  11.44  37.40   \n",
       "\n",
       "        distance      angle  freekick  header  goal        xg  \\\n",
       "34329  13.899813  26.933236         0       1     0  0.054551   \n",
       "34330  17.788311  18.086581         0       0     0  0.069513   \n",
       "34331  17.011290  18.314813         0       0     0  0.075302   \n",
       "34332  23.085407  17.103758         0       0     0  0.042404   \n",
       "34333  11.934555  32.982052         0       1     0  0.080438   \n",
       "\n",
       "                             display_name  \n",
       "34329   J. Hernández, 1H 11:38, xG: 0.055  \n",
       "34330   Son Heung-Min, 1H 21:15, xG: 0.07  \n",
       "34331  Son Heung-Min, 1H 21:17, xG: 0.075  \n",
       "34332  Son Heung-Min, 1H 21:21, xG: 0.042  \n",
       "34333   Sung-Yeung Ki, 1H 22:19, xG: 0.08  \n",
       "\n",
       "[5 rows x 21 columns]"
      ]
     },
     "execution_count": 3,
     "metadata": {},
     "output_type": "execute_result"
    }
   ],
   "source": [
    "match_id = 2057987\n",
    "\n",
    "match_df = pd.read_csv('data/refined_events/World_Cup/matches.csv', index_col=0, header=0, encoding='utf-8-sig')\n",
    "team1_name = match_df.at[match_id, 'team1_name']\n",
    "team2_name = match_df.at[match_id, 'team2_name']\n",
    "\n",
    "match_shots = shots[shots['match_id'] == match_id]\n",
    "match_shots['display_name'] = match_shots.apply(\n",
    "    lambda x: f\"{x['player_name']}, \" +\n",
    "    f\"{x['period']} {int(x['time'] // 60):02d}:{int(x['time'] % 60):02d}, \" +\n",
    "    f\"xG: {round(x['xg'], 3)}\", axis=1\n",
    ")\n",
    "\n",
    "team2_x = match_shots.loc[match_shots['team_name'] == team2_name, 'x']\n",
    "team1_y = match_shots.loc[match_shots['team_name'] == team1_name, 'y']\n",
    "team2_y = match_shots.loc[match_shots['team_name'] == team2_name, 'y']\n",
    "match_shots.loc[match_shots['team_name'] == team2_name, 'x'] = 104 - team2_x\n",
    "match_shots.loc[match_shots['team_name'] == team1_name, 'y'] = 34 - team1_y\n",
    "match_shots.loc[match_shots['team_name'] == team2_name, 'y'] = 34 + team2_y\n",
    "\n",
    "match_shots.head()"
   ]
  },
  {
   "cell_type": "markdown",
   "metadata": {},
   "source": [
    "##### (2) 슈팅 위치 및 xG 시각화"
   ]
  },
  {
   "cell_type": "code",
   "execution_count": 4,
   "metadata": {},
   "outputs": [
    {
     "data": {
      "application/vnd.plotly.v1+json": {
       "config": {
        "plotlyServerURL": "https://plot.ly"
       },
       "data": [
        {
         "marker": {
          "color": "darkgrey",
          "size": [
           11.67809989238532,
           13.182617090023232,
           13.720566524908007,
           10.296148162894445,
           14.180770229900494,
           16.944228017806687,
           16.339761798429244,
           13.460491959003459,
           12.028422549414634,
           8.661672179441334,
           11.602132843837763,
           7.221455732393944,
           9.368518153471962,
           16.186620478613182,
           5.49321773427128,
           6.567801202699003,
           10.693673183461037,
           14.56019826137428,
           11.311213339145436,
           19.989267611668833,
           7.654049850986527,
           12.419512507423976,
           6.417269588145029,
           7.255947409931409,
           8.921672276457997,
           10.464144483726706
          ],
          "symbol": [
           "circle",
           "circle",
           "circle",
           "circle",
           "circle",
           "circle",
           "square",
           "circle",
           "circle",
           "circle",
           "circle",
           "circle",
           "circle",
           "circle",
           "circle",
           "circle",
           "circle",
           "circle",
           "circle",
           "circle",
           "circle",
           "circle",
           "circle",
           "circle",
           "circle",
           "circle"
          ]
         },
         "mode": "markers",
         "name": "Failed shot",
         "text": [
          "J. Hernández, 1H 11:38, xG: 0.055",
          "Son Heung-Min, 1H 21:15, xG: 0.07",
          "Son Heung-Min, 1H 21:17, xG: 0.075",
          "Son Heung-Min, 1H 21:21, xG: 0.042",
          "Sung-Yeung Ki, 1H 22:19, xG: 0.08",
          "M. Layún, 1H 27:11, xG: 0.115",
          "Son Heung-Min, 1H 30:52, xG: 0.107",
          "Son Heung-Min, 1H 38:36, xG: 0.072",
          "H. Lozano, 1H 42:34, xG: 0.058",
          "Seon-Min Moon, 1H 44:21, xG: 0.03",
          "Son Heung-Min, 1H 44:24, xG: 0.054",
          "H. Lozano, 2H 05:02, xG: 0.021",
          "J. Hernández, 2H 06:05, xG: 0.035",
          "Seon-Min Moon, 2H 06:50, xG: 0.105",
          "Jae-Sung Lee, 2H 07:42, xG: 0.012",
          "Sung-Yeung Ki, 2H 10:44, xG: 0.017",
          "A. Guardado, 2H 12:42, xG: 0.046",
          "A. Guardado, 2H 12:46, xG: 0.085",
          "H. Lozano, 2H 14:52, xG: 0.051",
          "Jae-Sung Lee, 2H 16:01, xG: 0.16",
          "C. Vela, 2H 16:30, xG: 0.023",
          "Hwang Hee-Chan, 2H 24:09, xG: 0.062",
          "Sung-Yeung Ki, 2H 28:05, xG: 0.016",
          "Jae-Sung Lee, 2H 36:43, xG: 0.021",
          "Son Heung-Min, 2H 42:46, xG: 0.032",
          "H. Herrera, 2H 46:38, xG: 0.044"
         ],
         "type": "scatter",
         "x": [
          91.52000000000001,
          13.519999999999996,
          12.47999999999999,
          21.840000000000003,
          11.439999999999998,
          89.44,
          28.08,
          3.1199999999999903,
          91.52000000000001,
          22.879999999999995,
          20.799999999999997,
          81.12,
          79.04,
          12.47999999999999,
          14.560000000000002,
          17.679999999999993,
          81.12,
          87.36,
          82.16,
          13.519999999999996,
          82.16,
          20.799999999999997,
          30.159999999999997,
          28.08,
          26,
          81.12
         ],
         "y": [
          27.880000000000003,
          45.56,
          45.56,
          41.48,
          37.4,
          28.560000000000002,
          34,
          20.4,
          48.28,
          44.879999999999995,
          27.879999999999995,
          50.32,
          31.28,
          42.84,
          58.48,
          12.239999999999995,
          37.400000000000006,
          40.800000000000004,
          38.080000000000005,
          31.96,
          19.040000000000006,
          33.32,
          40.8,
          40.8,
          32.64,
          29.92
         ]
        },
        {
         "marker": {
          "color": "red",
          "size": [
           6.521447780790283
          ],
          "symbol": [
           "circle"
          ]
         },
         "mode": "markers",
         "name": "Korea Republic",
         "text": [
          "Son Heung-Min, 2H 47:09, xG: 0.017"
         ],
         "type": "scatter",
         "x": [
          23.92
         ],
         "y": [
          50.32
         ]
        },
        {
         "marker": {
          "color": "blue",
          "size": [
           37.64909936017912,
           18.07585797050155
          ],
          "symbol": [
           "square",
           "circle"
          ]
         },
         "mode": "markers",
         "name": "Mexico",
         "text": [
          "C. Vela, 1H 25:25, xG: 0.567",
          "J. Hernández, 2H 20:28, xG: 0.131"
         ],
         "type": "scatter",
         "x": [
          92.56,
          94.64
         ],
         "y": [
          32.64,
          43.52
         ]
        }
       ],
       "layout": {
        "autosize": false,
        "height": 600,
        "hovermode": "closest",
        "plot_bgcolor": "rgb(255, 255, 255)",
        "shapes": [
         {
          "line": {
           "color": "black"
          },
          "type": "circle",
          "x0": 41.6,
          "x1": 62.4,
          "xref": "x",
          "y0": 23.799999999999997,
          "y1": 44.2,
          "yref": "y"
         },
         {
          "line": {
           "color": "black"
          },
          "type": "line",
          "x0": 0,
          "x1": 20.8,
          "xref": "x",
          "y0": 11.22,
          "y1": 11.22,
          "yref": "y"
         },
         {
          "line": {
           "color": "black"
          },
          "type": "line",
          "x0": 20.8,
          "x1": 20.8,
          "xref": "x",
          "y0": 11.22,
          "y1": 56.78,
          "yref": "y"
         },
         {
          "line": {
           "color": "black"
          },
          "type": "line",
          "x0": 20.8,
          "x1": 0,
          "xref": "x",
          "y0": 56.78,
          "y1": 56.78,
          "yref": "y"
         },
         {
          "line": {
           "color": "black"
          },
          "type": "line",
          "x0": 104,
          "x1": 83.2,
          "xref": "x",
          "y0": 11.22,
          "y1": 11.22,
          "yref": "y"
         },
         {
          "line": {
           "color": "black"
          },
          "type": "line",
          "x0": 83.2,
          "x1": 83.2,
          "xref": "x",
          "y0": 11.22,
          "y1": 56.78,
          "yref": "y"
         },
         {
          "line": {
           "color": "black"
          },
          "type": "line",
          "x0": 83.2,
          "x1": 104,
          "xref": "x",
          "y0": 56.78,
          "y1": 56.78,
          "yref": "y"
         },
         {
          "line": {
           "color": "black"
          },
          "type": "line",
          "x0": 0,
          "x1": 5.72,
          "xref": "x",
          "y0": 23.799999999999997,
          "y1": 23.799999999999997,
          "yref": "y"
         },
         {
          "line": {
           "color": "black"
          },
          "type": "line",
          "x0": 5.72,
          "x1": 5.72,
          "xref": "x",
          "y0": 23.799999999999997,
          "y1": 44.2,
          "yref": "y"
         },
         {
          "line": {
           "color": "black"
          },
          "type": "line",
          "x0": 5.72,
          "x1": 0,
          "xref": "x",
          "y0": 44.2,
          "y1": 44.2,
          "yref": "y"
         },
         {
          "line": {
           "color": "black"
          },
          "type": "line",
          "x0": 104,
          "x1": 98.28,
          "xref": "x",
          "y0": 23.799999999999997,
          "y1": 23.799999999999997,
          "yref": "y"
         },
         {
          "line": {
           "color": "black"
          },
          "type": "line",
          "x0": 98.28,
          "x1": 98.28,
          "xref": "x",
          "y0": 23.799999999999997,
          "y1": 44.2,
          "yref": "y"
         },
         {
          "line": {
           "color": "black"
          },
          "type": "line",
          "x0": 98.28,
          "x1": 104,
          "xref": "x",
          "y0": 44.2,
          "y1": 44.2,
          "yref": "y"
         },
         {
          "line": {
           "color": "black"
          },
          "type": "line",
          "x0": 52,
          "x1": 52,
          "xref": "x",
          "y0": 68,
          "y1": 0,
          "yref": "y"
         },
         {
          "line": {
           "color": "black"
          },
          "type": "line",
          "x0": 0,
          "x1": 0,
          "xref": "x",
          "y0": 0,
          "y1": 68,
          "yref": "y"
         },
         {
          "line": {
           "color": "black"
          },
          "type": "line",
          "x0": 104,
          "x1": 104,
          "xref": "x",
          "y0": 0,
          "y1": 68,
          "yref": "y"
         },
         {
          "line": {
           "color": "black"
          },
          "type": "line",
          "x0": 0,
          "x1": 104,
          "xref": "x",
          "y0": 68,
          "y1": 68,
          "yref": "y"
         },
         {
          "line": {
           "color": "black"
          },
          "type": "line",
          "x0": 0,
          "x1": 104,
          "xref": "x",
          "y0": 0,
          "y1": 0,
          "yref": "y"
         }
        ],
        "template": {
         "data": {
          "bar": [
           {
            "error_x": {
             "color": "#2a3f5f"
            },
            "error_y": {
             "color": "#2a3f5f"
            },
            "marker": {
             "line": {
              "color": "#E5ECF6",
              "width": 0.5
             },
             "pattern": {
              "fillmode": "overlay",
              "size": 10,
              "solidity": 0.2
             }
            },
            "type": "bar"
           }
          ],
          "barpolar": [
           {
            "marker": {
             "line": {
              "color": "#E5ECF6",
              "width": 0.5
             },
             "pattern": {
              "fillmode": "overlay",
              "size": 10,
              "solidity": 0.2
             }
            },
            "type": "barpolar"
           }
          ],
          "carpet": [
           {
            "aaxis": {
             "endlinecolor": "#2a3f5f",
             "gridcolor": "white",
             "linecolor": "white",
             "minorgridcolor": "white",
             "startlinecolor": "#2a3f5f"
            },
            "baxis": {
             "endlinecolor": "#2a3f5f",
             "gridcolor": "white",
             "linecolor": "white",
             "minorgridcolor": "white",
             "startlinecolor": "#2a3f5f"
            },
            "type": "carpet"
           }
          ],
          "choropleth": [
           {
            "colorbar": {
             "outlinewidth": 0,
             "ticks": ""
            },
            "type": "choropleth"
           }
          ],
          "contour": [
           {
            "colorbar": {
             "outlinewidth": 0,
             "ticks": ""
            },
            "colorscale": [
             [
              0,
              "#0d0887"
             ],
             [
              0.1111111111111111,
              "#46039f"
             ],
             [
              0.2222222222222222,
              "#7201a8"
             ],
             [
              0.3333333333333333,
              "#9c179e"
             ],
             [
              0.4444444444444444,
              "#bd3786"
             ],
             [
              0.5555555555555556,
              "#d8576b"
             ],
             [
              0.6666666666666666,
              "#ed7953"
             ],
             [
              0.7777777777777778,
              "#fb9f3a"
             ],
             [
              0.8888888888888888,
              "#fdca26"
             ],
             [
              1,
              "#f0f921"
             ]
            ],
            "type": "contour"
           }
          ],
          "contourcarpet": [
           {
            "colorbar": {
             "outlinewidth": 0,
             "ticks": ""
            },
            "type": "contourcarpet"
           }
          ],
          "heatmap": [
           {
            "colorbar": {
             "outlinewidth": 0,
             "ticks": ""
            },
            "colorscale": [
             [
              0,
              "#0d0887"
             ],
             [
              0.1111111111111111,
              "#46039f"
             ],
             [
              0.2222222222222222,
              "#7201a8"
             ],
             [
              0.3333333333333333,
              "#9c179e"
             ],
             [
              0.4444444444444444,
              "#bd3786"
             ],
             [
              0.5555555555555556,
              "#d8576b"
             ],
             [
              0.6666666666666666,
              "#ed7953"
             ],
             [
              0.7777777777777778,
              "#fb9f3a"
             ],
             [
              0.8888888888888888,
              "#fdca26"
             ],
             [
              1,
              "#f0f921"
             ]
            ],
            "type": "heatmap"
           }
          ],
          "heatmapgl": [
           {
            "colorbar": {
             "outlinewidth": 0,
             "ticks": ""
            },
            "colorscale": [
             [
              0,
              "#0d0887"
             ],
             [
              0.1111111111111111,
              "#46039f"
             ],
             [
              0.2222222222222222,
              "#7201a8"
             ],
             [
              0.3333333333333333,
              "#9c179e"
             ],
             [
              0.4444444444444444,
              "#bd3786"
             ],
             [
              0.5555555555555556,
              "#d8576b"
             ],
             [
              0.6666666666666666,
              "#ed7953"
             ],
             [
              0.7777777777777778,
              "#fb9f3a"
             ],
             [
              0.8888888888888888,
              "#fdca26"
             ],
             [
              1,
              "#f0f921"
             ]
            ],
            "type": "heatmapgl"
           }
          ],
          "histogram": [
           {
            "marker": {
             "pattern": {
              "fillmode": "overlay",
              "size": 10,
              "solidity": 0.2
             }
            },
            "type": "histogram"
           }
          ],
          "histogram2d": [
           {
            "colorbar": {
             "outlinewidth": 0,
             "ticks": ""
            },
            "colorscale": [
             [
              0,
              "#0d0887"
             ],
             [
              0.1111111111111111,
              "#46039f"
             ],
             [
              0.2222222222222222,
              "#7201a8"
             ],
             [
              0.3333333333333333,
              "#9c179e"
             ],
             [
              0.4444444444444444,
              "#bd3786"
             ],
             [
              0.5555555555555556,
              "#d8576b"
             ],
             [
              0.6666666666666666,
              "#ed7953"
             ],
             [
              0.7777777777777778,
              "#fb9f3a"
             ],
             [
              0.8888888888888888,
              "#fdca26"
             ],
             [
              1,
              "#f0f921"
             ]
            ],
            "type": "histogram2d"
           }
          ],
          "histogram2dcontour": [
           {
            "colorbar": {
             "outlinewidth": 0,
             "ticks": ""
            },
            "colorscale": [
             [
              0,
              "#0d0887"
             ],
             [
              0.1111111111111111,
              "#46039f"
             ],
             [
              0.2222222222222222,
              "#7201a8"
             ],
             [
              0.3333333333333333,
              "#9c179e"
             ],
             [
              0.4444444444444444,
              "#bd3786"
             ],
             [
              0.5555555555555556,
              "#d8576b"
             ],
             [
              0.6666666666666666,
              "#ed7953"
             ],
             [
              0.7777777777777778,
              "#fb9f3a"
             ],
             [
              0.8888888888888888,
              "#fdca26"
             ],
             [
              1,
              "#f0f921"
             ]
            ],
            "type": "histogram2dcontour"
           }
          ],
          "mesh3d": [
           {
            "colorbar": {
             "outlinewidth": 0,
             "ticks": ""
            },
            "type": "mesh3d"
           }
          ],
          "parcoords": [
           {
            "line": {
             "colorbar": {
              "outlinewidth": 0,
              "ticks": ""
             }
            },
            "type": "parcoords"
           }
          ],
          "pie": [
           {
            "automargin": true,
            "type": "pie"
           }
          ],
          "scatter": [
           {
            "fillpattern": {
             "fillmode": "overlay",
             "size": 10,
             "solidity": 0.2
            },
            "type": "scatter"
           }
          ],
          "scatter3d": [
           {
            "line": {
             "colorbar": {
              "outlinewidth": 0,
              "ticks": ""
             }
            },
            "marker": {
             "colorbar": {
              "outlinewidth": 0,
              "ticks": ""
             }
            },
            "type": "scatter3d"
           }
          ],
          "scattercarpet": [
           {
            "marker": {
             "colorbar": {
              "outlinewidth": 0,
              "ticks": ""
             }
            },
            "type": "scattercarpet"
           }
          ],
          "scattergeo": [
           {
            "marker": {
             "colorbar": {
              "outlinewidth": 0,
              "ticks": ""
             }
            },
            "type": "scattergeo"
           }
          ],
          "scattergl": [
           {
            "marker": {
             "colorbar": {
              "outlinewidth": 0,
              "ticks": ""
             }
            },
            "type": "scattergl"
           }
          ],
          "scattermapbox": [
           {
            "marker": {
             "colorbar": {
              "outlinewidth": 0,
              "ticks": ""
             }
            },
            "type": "scattermapbox"
           }
          ],
          "scatterpolar": [
           {
            "marker": {
             "colorbar": {
              "outlinewidth": 0,
              "ticks": ""
             }
            },
            "type": "scatterpolar"
           }
          ],
          "scatterpolargl": [
           {
            "marker": {
             "colorbar": {
              "outlinewidth": 0,
              "ticks": ""
             }
            },
            "type": "scatterpolargl"
           }
          ],
          "scatterternary": [
           {
            "marker": {
             "colorbar": {
              "outlinewidth": 0,
              "ticks": ""
             }
            },
            "type": "scatterternary"
           }
          ],
          "surface": [
           {
            "colorbar": {
             "outlinewidth": 0,
             "ticks": ""
            },
            "colorscale": [
             [
              0,
              "#0d0887"
             ],
             [
              0.1111111111111111,
              "#46039f"
             ],
             [
              0.2222222222222222,
              "#7201a8"
             ],
             [
              0.3333333333333333,
              "#9c179e"
             ],
             [
              0.4444444444444444,
              "#bd3786"
             ],
             [
              0.5555555555555556,
              "#d8576b"
             ],
             [
              0.6666666666666666,
              "#ed7953"
             ],
             [
              0.7777777777777778,
              "#fb9f3a"
             ],
             [
              0.8888888888888888,
              "#fdca26"
             ],
             [
              1,
              "#f0f921"
             ]
            ],
            "type": "surface"
           }
          ],
          "table": [
           {
            "cells": {
             "fill": {
              "color": "#EBF0F8"
             },
             "line": {
              "color": "white"
             }
            },
            "header": {
             "fill": {
              "color": "#C8D4E3"
             },
             "line": {
              "color": "white"
             }
            },
            "type": "table"
           }
          ]
         },
         "layout": {
          "annotationdefaults": {
           "arrowcolor": "#2a3f5f",
           "arrowhead": 0,
           "arrowwidth": 1
          },
          "autotypenumbers": "strict",
          "coloraxis": {
           "colorbar": {
            "outlinewidth": 0,
            "ticks": ""
           }
          },
          "colorscale": {
           "diverging": [
            [
             0,
             "#8e0152"
            ],
            [
             0.1,
             "#c51b7d"
            ],
            [
             0.2,
             "#de77ae"
            ],
            [
             0.3,
             "#f1b6da"
            ],
            [
             0.4,
             "#fde0ef"
            ],
            [
             0.5,
             "#f7f7f7"
            ],
            [
             0.6,
             "#e6f5d0"
            ],
            [
             0.7,
             "#b8e186"
            ],
            [
             0.8,
             "#7fbc41"
            ],
            [
             0.9,
             "#4d9221"
            ],
            [
             1,
             "#276419"
            ]
           ],
           "sequential": [
            [
             0,
             "#0d0887"
            ],
            [
             0.1111111111111111,
             "#46039f"
            ],
            [
             0.2222222222222222,
             "#7201a8"
            ],
            [
             0.3333333333333333,
             "#9c179e"
            ],
            [
             0.4444444444444444,
             "#bd3786"
            ],
            [
             0.5555555555555556,
             "#d8576b"
            ],
            [
             0.6666666666666666,
             "#ed7953"
            ],
            [
             0.7777777777777778,
             "#fb9f3a"
            ],
            [
             0.8888888888888888,
             "#fdca26"
            ],
            [
             1,
             "#f0f921"
            ]
           ],
           "sequentialminus": [
            [
             0,
             "#0d0887"
            ],
            [
             0.1111111111111111,
             "#46039f"
            ],
            [
             0.2222222222222222,
             "#7201a8"
            ],
            [
             0.3333333333333333,
             "#9c179e"
            ],
            [
             0.4444444444444444,
             "#bd3786"
            ],
            [
             0.5555555555555556,
             "#d8576b"
            ],
            [
             0.6666666666666666,
             "#ed7953"
            ],
            [
             0.7777777777777778,
             "#fb9f3a"
            ],
            [
             0.8888888888888888,
             "#fdca26"
            ],
            [
             1,
             "#f0f921"
            ]
           ]
          },
          "colorway": [
           "#636efa",
           "#EF553B",
           "#00cc96",
           "#ab63fa",
           "#FFA15A",
           "#19d3f3",
           "#FF6692",
           "#B6E880",
           "#FF97FF",
           "#FECB52"
          ],
          "font": {
           "color": "#2a3f5f"
          },
          "geo": {
           "bgcolor": "white",
           "lakecolor": "white",
           "landcolor": "#E5ECF6",
           "showlakes": true,
           "showland": true,
           "subunitcolor": "white"
          },
          "hoverlabel": {
           "align": "left"
          },
          "hovermode": "closest",
          "mapbox": {
           "style": "light"
          },
          "paper_bgcolor": "white",
          "plot_bgcolor": "#E5ECF6",
          "polar": {
           "angularaxis": {
            "gridcolor": "white",
            "linecolor": "white",
            "ticks": ""
           },
           "bgcolor": "#E5ECF6",
           "radialaxis": {
            "gridcolor": "white",
            "linecolor": "white",
            "ticks": ""
           }
          },
          "scene": {
           "xaxis": {
            "backgroundcolor": "#E5ECF6",
            "gridcolor": "white",
            "gridwidth": 2,
            "linecolor": "white",
            "showbackground": true,
            "ticks": "",
            "zerolinecolor": "white"
           },
           "yaxis": {
            "backgroundcolor": "#E5ECF6",
            "gridcolor": "white",
            "gridwidth": 2,
            "linecolor": "white",
            "showbackground": true,
            "ticks": "",
            "zerolinecolor": "white"
           },
           "zaxis": {
            "backgroundcolor": "#E5ECF6",
            "gridcolor": "white",
            "gridwidth": 2,
            "linecolor": "white",
            "showbackground": true,
            "ticks": "",
            "zerolinecolor": "white"
           }
          },
          "shapedefaults": {
           "line": {
            "color": "#2a3f5f"
           }
          },
          "ternary": {
           "aaxis": {
            "gridcolor": "white",
            "linecolor": "white",
            "ticks": ""
           },
           "baxis": {
            "gridcolor": "white",
            "linecolor": "white",
            "ticks": ""
           },
           "bgcolor": "#E5ECF6",
           "caxis": {
            "gridcolor": "white",
            "linecolor": "white",
            "ticks": ""
           }
          },
          "title": {
           "x": 0.05
          },
          "xaxis": {
           "automargin": true,
           "gridcolor": "white",
           "linecolor": "white",
           "ticks": "",
           "title": {
            "standoff": 15
           },
           "zerolinecolor": "white",
           "zerolinewidth": 2
          },
          "yaxis": {
           "automargin": true,
           "gridcolor": "white",
           "linecolor": "white",
           "ticks": "",
           "title": {
            "standoff": 15
           },
           "zerolinecolor": "white",
           "zerolinewidth": 2
          }
         }
        },
        "title": {
         "text": "Korea Republic - Mexico (xG: 0.97 - 1.23)"
        },
        "width": 825,
        "xaxis": {
         "range": [
          0,
          104
         ],
         "showgrid": false,
         "showticklabels": false
        },
        "yaxis": {
         "range": [
          0,
          68
         ],
         "showgrid": false,
         "showticklabels": false
        }
       }
      }
     },
     "metadata": {},
     "output_type": "display_data"
    }
   ],
   "source": [
    "match_shots_failed = match_shots[match_shots['tags'].apply(lambda x: 'Goal' not in x)]\n",
    "\n",
    "team1_shots = match_shots[match_shots['team_name'] == team1_name]\n",
    "team2_shots = match_shots[match_shots['team_name'] == team2_name]\n",
    "team1_goals = team1_shots[team1_shots['tags'].apply(lambda x: 'Goal' in x)]\n",
    "team2_goals = team2_shots[team2_shots['tags'].apply(lambda x: 'Goal' in x)]\n",
    "\n",
    "team1_goal_trace = go.Scatter(\n",
    "    x=team1_goals['x'],\n",
    "    y=team1_goals['y'],\n",
    "    name=team1_name,\n",
    "    text=team1_goals['display_name'],\n",
    "    mode='markers',\n",
    "    marker=dict(\n",
    "        color='red', size=np.sqrt(team1_goals['xg']) * 50, \n",
    "        symbol=team1_goals['freekick'].apply(lambda x: 'square' if x == 1 else 'circle')\n",
    "    )\n",
    ")\n",
    "\n",
    "team2_goal_trace = go.Scatter(\n",
    "    x=team2_goals['x'],\n",
    "    y=team2_goals['y'],\n",
    "    name=team2_name,\n",
    "    text=team2_goals['display_name'],\n",
    "    mode='markers',\n",
    "    marker=dict(\n",
    "        color='blue', size=np.sqrt(team2_goals['xg']) * 50, \n",
    "        symbol=team2_goals['freekick'].apply(lambda x: 'square' if x == 1 else 'circle')\n",
    "    )\n",
    ")\n",
    "\n",
    "shot_trace = go.Scatter(\n",
    "    x=match_shots_failed['x'],\n",
    "    y=match_shots_failed['y'],\n",
    "    name='Failed shot',\n",
    "    text=match_shots_failed['display_name'],\n",
    "    mode='markers',\n",
    "    marker=dict(\n",
    "        color='darkgrey', size=np.sqrt(match_shots_failed['xg']) * 50, \n",
    "        symbol=match_shots_failed['freekick'].apply(lambda x: 'square' if x == 1 else 'circle')\n",
    "    )\n",
    ")\n",
    "\n",
    "team1_xg = team1_shots['xg'].sum().round(2)\n",
    "team2_xg = team2_shots['xg'].sum().round(2)\n",
    "title = f\"{team1_name} - {team2_name} (xG: {team1_xg} - {team2_xg})\"\n",
    "fig = go.Figure(data=[shot_trace, team1_goal_trace, team2_goal_trace], layout=get_pitch_layout(title))\n",
    "fig.show()"
   ]
  },
  {
   "cell_type": "markdown",
   "metadata": {},
   "source": [
    "### 선수별 시즌 전체 xG 및 부가 지표 집계"
   ]
  },
  {
   "cell_type": "markdown",
   "metadata": {},
   "source": [
    "##### (1) 선수별 슈팅/유효슈팅/득점 횟수 집계"
   ]
  },
  {
   "cell_type": "code",
   "execution_count": 5,
   "metadata": {},
   "outputs": [
    {
     "data": {
      "text/html": [
       "<div>\n",
       "<style scoped>\n",
       "    .dataframe tbody tr th:only-of-type {\n",
       "        vertical-align: middle;\n",
       "    }\n",
       "\n",
       "    .dataframe tbody tr th {\n",
       "        vertical-align: top;\n",
       "    }\n",
       "\n",
       "    .dataframe thead th {\n",
       "        text-align: right;\n",
       "    }\n",
       "</style>\n",
       "<table border=\"1\" class=\"dataframe\">\n",
       "  <thead>\n",
       "    <tr style=\"text-align: right;\">\n",
       "      <th></th>\n",
       "      <th></th>\n",
       "      <th></th>\n",
       "      <th></th>\n",
       "      <th>Shots</th>\n",
       "      <th>SoT</th>\n",
       "      <th>Goals</th>\n",
       "    </tr>\n",
       "    <tr>\n",
       "      <th>team_id</th>\n",
       "      <th>team_name</th>\n",
       "      <th>player_id</th>\n",
       "      <th>player_name</th>\n",
       "      <th></th>\n",
       "      <th></th>\n",
       "      <th></th>\n",
       "    </tr>\n",
       "  </thead>\n",
       "  <tbody>\n",
       "    <tr>\n",
       "      <th rowspan=\"5\" valign=\"top\">1609</th>\n",
       "      <th rowspan=\"5\" valign=\"top\">Arsenal</th>\n",
       "      <th>3319</th>\n",
       "      <th>M. Özil</th>\n",
       "      <td>39</td>\n",
       "      <td>14</td>\n",
       "      <td>4</td>\n",
       "    </tr>\n",
       "    <tr>\n",
       "      <th>3361</th>\n",
       "      <th>A. Sánchez</th>\n",
       "      <td>69</td>\n",
       "      <td>28</td>\n",
       "      <td>7</td>\n",
       "    </tr>\n",
       "    <tr>\n",
       "      <th>3560</th>\n",
       "      <th>Nacho Monreal</th>\n",
       "      <td>21</td>\n",
       "      <td>8</td>\n",
       "      <td>5</td>\n",
       "    </tr>\n",
       "    <tr>\n",
       "      <th>7855</th>\n",
       "      <th>L. Koscielny</th>\n",
       "      <td>8</td>\n",
       "      <td>2</td>\n",
       "      <td>2</td>\n",
       "    </tr>\n",
       "    <tr>\n",
       "      <th>7856</th>\n",
       "      <th>P. Mertesacker</th>\n",
       "      <td>2</td>\n",
       "      <td>2</td>\n",
       "      <td>1</td>\n",
       "    </tr>\n",
       "    <tr>\n",
       "      <th>...</th>\n",
       "      <th>...</th>\n",
       "      <th>...</th>\n",
       "      <th>...</th>\n",
       "      <td>...</td>\n",
       "      <td>...</td>\n",
       "      <td>...</td>\n",
       "    </tr>\n",
       "    <tr>\n",
       "      <th rowspan=\"5\" valign=\"top\">10531</th>\n",
       "      <th rowspan=\"5\" valign=\"top\">Swansea City</th>\n",
       "      <th>77557</th>\n",
       "      <th>W. Routledge</th>\n",
       "      <td>5</td>\n",
       "      <td>2</td>\n",
       "      <td>0</td>\n",
       "    </tr>\n",
       "    <tr>\n",
       "      <th>246866</th>\n",
       "      <th>A. Mawson</th>\n",
       "      <td>12</td>\n",
       "      <td>4</td>\n",
       "      <td>2</td>\n",
       "    </tr>\n",
       "    <tr>\n",
       "      <th>258162</th>\n",
       "      <th>Renato Sanches</th>\n",
       "      <td>12</td>\n",
       "      <td>0</td>\n",
       "      <td>0</td>\n",
       "    </tr>\n",
       "    <tr>\n",
       "      <th>288865</th>\n",
       "      <th>O. McBurnie</th>\n",
       "      <td>3</td>\n",
       "      <td>1</td>\n",
       "      <td>0</td>\n",
       "    </tr>\n",
       "    <tr>\n",
       "      <th>343951</th>\n",
       "      <th>T. Abraham</th>\n",
       "      <td>39</td>\n",
       "      <td>16</td>\n",
       "      <td>5</td>\n",
       "    </tr>\n",
       "  </tbody>\n",
       "</table>\n",
       "<p>437 rows × 3 columns</p>\n",
       "</div>"
      ],
      "text/plain": [
       "                                               Shots  SoT  Goals\n",
       "team_id team_name    player_id player_name                      \n",
       "1609    Arsenal      3319      M. Özil            39   14      4\n",
       "                     3361      A. Sánchez         69   28      7\n",
       "                     3560      Nacho Monreal      21    8      5\n",
       "                     7855      L. Koscielny        8    2      2\n",
       "                     7856      P. Mertesacker      2    2      1\n",
       "...                                              ...  ...    ...\n",
       "10531   Swansea City 77557     W. Routledge        5    2      0\n",
       "                     246866    A. Mawson          12    4      2\n",
       "                     258162    Renato Sanches     12    0      0\n",
       "                     288865    O. McBurnie         3    1      0\n",
       "                     343951    T. Abraham         39   16      5\n",
       "\n",
       "[437 rows x 3 columns]"
      ]
     },
     "execution_count": 5,
     "metadata": {},
     "output_type": "execute_result"
    }
   ],
   "source": [
    "shots = shots[shots['competition_name'] == 'England']\n",
    "shots_on_target = shots[shots['tags'].apply(lambda x: 'Accurate' in x)]\n",
    "goals = shots[shots['tags'].apply(lambda x: 'Goal' in x)]\n",
    "\n",
    "player_shot_counts = shots.groupby(['team_id', 'team_name', 'player_id', 'player_name'])['event_id'].count()\n",
    "player_sot_counts = shots_on_target.groupby(['team_id', 'team_name', 'player_id', 'player_name'])['event_id'].count()\n",
    "player_goal_counts = goals.groupby(['team_id', 'team_name', 'player_id', 'player_name'])['event_id'].count()\n",
    "\n",
    "player_stats = pd.concat([player_shot_counts, player_sot_counts, player_goal_counts], axis=1).fillna(0).astype(int)\n",
    "player_stats.columns = ['Shots', 'SoT', 'Goals']\n",
    "player_stats"
   ]
  },
  {
   "cell_type": "code",
   "execution_count": 6,
   "metadata": {},
   "outputs": [
    {
     "data": {
      "text/html": [
       "<div>\n",
       "<style scoped>\n",
       "    .dataframe tbody tr th:only-of-type {\n",
       "        vertical-align: middle;\n",
       "    }\n",
       "\n",
       "    .dataframe tbody tr th {\n",
       "        vertical-align: top;\n",
       "    }\n",
       "\n",
       "    .dataframe thead th {\n",
       "        text-align: right;\n",
       "    }\n",
       "</style>\n",
       "<table border=\"1\" class=\"dataframe\">\n",
       "  <thead>\n",
       "    <tr style=\"text-align: right;\">\n",
       "      <th></th>\n",
       "      <th>team_id</th>\n",
       "      <th>team_name</th>\n",
       "      <th>player_id</th>\n",
       "      <th>player_name</th>\n",
       "      <th>Shots</th>\n",
       "      <th>SoT</th>\n",
       "      <th>Goals</th>\n",
       "    </tr>\n",
       "  </thead>\n",
       "  <tbody>\n",
       "    <tr>\n",
       "      <th>0</th>\n",
       "      <td>1612</td>\n",
       "      <td>Liverpool</td>\n",
       "      <td>120353</td>\n",
       "      <td>Mohamed Salah</td>\n",
       "      <td>142</td>\n",
       "      <td>68</td>\n",
       "      <td>32</td>\n",
       "    </tr>\n",
       "    <tr>\n",
       "      <th>1</th>\n",
       "      <td>1624</td>\n",
       "      <td>Tottenham Hotspur</td>\n",
       "      <td>8717</td>\n",
       "      <td>H. Kane</td>\n",
       "      <td>175</td>\n",
       "      <td>74</td>\n",
       "      <td>29</td>\n",
       "    </tr>\n",
       "    <tr>\n",
       "      <th>2</th>\n",
       "      <td>1625</td>\n",
       "      <td>Manchester City</td>\n",
       "      <td>8325</td>\n",
       "      <td>S. Agüero</td>\n",
       "      <td>91</td>\n",
       "      <td>42</td>\n",
       "      <td>21</td>\n",
       "    </tr>\n",
       "    <tr>\n",
       "      <th>3</th>\n",
       "      <td>1631</td>\n",
       "      <td>Leicester City</td>\n",
       "      <td>12829</td>\n",
       "      <td>J. Vardy</td>\n",
       "      <td>66</td>\n",
       "      <td>34</td>\n",
       "      <td>20</td>\n",
       "    </tr>\n",
       "    <tr>\n",
       "      <th>4</th>\n",
       "      <td>1625</td>\n",
       "      <td>Manchester City</td>\n",
       "      <td>11066</td>\n",
       "      <td>R. Sterling</td>\n",
       "      <td>80</td>\n",
       "      <td>35</td>\n",
       "      <td>18</td>\n",
       "    </tr>\n",
       "    <tr>\n",
       "      <th>5</th>\n",
       "      <td>1611</td>\n",
       "      <td>Manchester United</td>\n",
       "      <td>7905</td>\n",
       "      <td>R. Lukaku</td>\n",
       "      <td>80</td>\n",
       "      <td>41</td>\n",
       "      <td>16</td>\n",
       "    </tr>\n",
       "    <tr>\n",
       "      <th>6</th>\n",
       "      <td>1612</td>\n",
       "      <td>Liverpool</td>\n",
       "      <td>15808</td>\n",
       "      <td>Roberto Firmino</td>\n",
       "      <td>80</td>\n",
       "      <td>37</td>\n",
       "      <td>15</td>\n",
       "    </tr>\n",
       "    <tr>\n",
       "      <th>7</th>\n",
       "      <td>1609</td>\n",
       "      <td>Arsenal</td>\n",
       "      <td>25413</td>\n",
       "      <td>A. Lacazette</td>\n",
       "      <td>65</td>\n",
       "      <td>36</td>\n",
       "      <td>14</td>\n",
       "    </tr>\n",
       "    <tr>\n",
       "      <th>8</th>\n",
       "      <td>1625</td>\n",
       "      <td>Manchester City</td>\n",
       "      <td>340386</td>\n",
       "      <td>Gabriel Jesus</td>\n",
       "      <td>55</td>\n",
       "      <td>31</td>\n",
       "      <td>13</td>\n",
       "    </tr>\n",
       "    <tr>\n",
       "      <th>9</th>\n",
       "      <td>1651</td>\n",
       "      <td>Brighton &amp; Hove Albion</td>\n",
       "      <td>8416</td>\n",
       "      <td>G. Murray</td>\n",
       "      <td>50</td>\n",
       "      <td>24</td>\n",
       "      <td>12</td>\n",
       "    </tr>\n",
       "    <tr>\n",
       "      <th>10</th>\n",
       "      <td>1610</td>\n",
       "      <td>Chelsea</td>\n",
       "      <td>25707</td>\n",
       "      <td>E. Hazard</td>\n",
       "      <td>65</td>\n",
       "      <td>34</td>\n",
       "      <td>12</td>\n",
       "    </tr>\n",
       "    <tr>\n",
       "      <th>11</th>\n",
       "      <td>1624</td>\n",
       "      <td>Tottenham Hotspur</td>\n",
       "      <td>14911</td>\n",
       "      <td>Son Heung-Min</td>\n",
       "      <td>70</td>\n",
       "      <td>31</td>\n",
       "      <td>12</td>\n",
       "    </tr>\n",
       "    <tr>\n",
       "      <th>12</th>\n",
       "      <td>1631</td>\n",
       "      <td>Leicester City</td>\n",
       "      <td>26150</td>\n",
       "      <td>R. Mahrez</td>\n",
       "      <td>71</td>\n",
       "      <td>36</td>\n",
       "      <td>12</td>\n",
       "    </tr>\n",
       "    <tr>\n",
       "      <th>13</th>\n",
       "      <td>1633</td>\n",
       "      <td>West Ham United</td>\n",
       "      <td>14703</td>\n",
       "      <td>M. Arnautović</td>\n",
       "      <td>67</td>\n",
       "      <td>31</td>\n",
       "      <td>11</td>\n",
       "    </tr>\n",
       "    <tr>\n",
       "      <th>14</th>\n",
       "      <td>1624</td>\n",
       "      <td>Tottenham Hotspur</td>\n",
       "      <td>54</td>\n",
       "      <td>C. Eriksen</td>\n",
       "      <td>97</td>\n",
       "      <td>40</td>\n",
       "      <td>11</td>\n",
       "    </tr>\n",
       "    <tr>\n",
       "      <th>15</th>\n",
       "      <td>1610</td>\n",
       "      <td>Chelsea</td>\n",
       "      <td>3324</td>\n",
       "      <td>Álvaro Morata</td>\n",
       "      <td>74</td>\n",
       "      <td>33</td>\n",
       "      <td>11</td>\n",
       "    </tr>\n",
       "    <tr>\n",
       "      <th>16</th>\n",
       "      <td>1628</td>\n",
       "      <td>Crystal Palace</td>\n",
       "      <td>127537</td>\n",
       "      <td>L. Milivojević</td>\n",
       "      <td>42</td>\n",
       "      <td>16</td>\n",
       "      <td>10</td>\n",
       "    </tr>\n",
       "    <tr>\n",
       "      <th>17</th>\n",
       "      <td>1623</td>\n",
       "      <td>Everton</td>\n",
       "      <td>7944</td>\n",
       "      <td>W. Rooney</td>\n",
       "      <td>44</td>\n",
       "      <td>14</td>\n",
       "      <td>10</td>\n",
       "    </tr>\n",
       "    <tr>\n",
       "      <th>18</th>\n",
       "      <td>1625</td>\n",
       "      <td>Manchester City</td>\n",
       "      <td>245364</td>\n",
       "      <td>L. Sané</td>\n",
       "      <td>54</td>\n",
       "      <td>21</td>\n",
       "      <td>10</td>\n",
       "    </tr>\n",
       "    <tr>\n",
       "      <th>19</th>\n",
       "      <td>1612</td>\n",
       "      <td>Liverpool</td>\n",
       "      <td>25747</td>\n",
       "      <td>S. Mané</td>\n",
       "      <td>67</td>\n",
       "      <td>26</td>\n",
       "      <td>10</td>\n",
       "    </tr>\n",
       "  </tbody>\n",
       "</table>\n",
       "</div>"
      ],
      "text/plain": [
       "    team_id               team_name  player_id      player_name  Shots  SoT  \\\n",
       "0      1612               Liverpool     120353    Mohamed Salah    142   68   \n",
       "1      1624       Tottenham Hotspur       8717          H. Kane    175   74   \n",
       "2      1625         Manchester City       8325        S. Agüero     91   42   \n",
       "3      1631          Leicester City      12829         J. Vardy     66   34   \n",
       "4      1625         Manchester City      11066      R. Sterling     80   35   \n",
       "5      1611       Manchester United       7905        R. Lukaku     80   41   \n",
       "6      1612               Liverpool      15808  Roberto Firmino     80   37   \n",
       "7      1609                 Arsenal      25413     A. Lacazette     65   36   \n",
       "8      1625         Manchester City     340386    Gabriel Jesus     55   31   \n",
       "9      1651  Brighton & Hove Albion       8416        G. Murray     50   24   \n",
       "10     1610                 Chelsea      25707        E. Hazard     65   34   \n",
       "11     1624       Tottenham Hotspur      14911    Son Heung-Min     70   31   \n",
       "12     1631          Leicester City      26150        R. Mahrez     71   36   \n",
       "13     1633         West Ham United      14703    M. Arnautović     67   31   \n",
       "14     1624       Tottenham Hotspur         54       C. Eriksen     97   40   \n",
       "15     1610                 Chelsea       3324    Álvaro Morata     74   33   \n",
       "16     1628          Crystal Palace     127537   L. Milivojević     42   16   \n",
       "17     1623                 Everton       7944        W. Rooney     44   14   \n",
       "18     1625         Manchester City     245364          L. Sané     54   21   \n",
       "19     1612               Liverpool      25747          S. Mané     67   26   \n",
       "\n",
       "    Goals  \n",
       "0      32  \n",
       "1      29  \n",
       "2      21  \n",
       "3      20  \n",
       "4      18  \n",
       "5      16  \n",
       "6      15  \n",
       "7      14  \n",
       "8      13  \n",
       "9      12  \n",
       "10     12  \n",
       "11     12  \n",
       "12     12  \n",
       "13     11  \n",
       "14     11  \n",
       "15     11  \n",
       "16     10  \n",
       "17     10  \n",
       "18     10  \n",
       "19     10  "
      ]
     },
     "execution_count": 6,
     "metadata": {},
     "output_type": "execute_result"
    }
   ],
   "source": [
    "player_stats.sort_values('Goals', ascending=False)[:20].reset_index()"
   ]
  },
  {
   "cell_type": "markdown",
   "metadata": {},
   "source": [
    "##### (2) 선수별 xG 집계 및 정렬"
   ]
  },
  {
   "cell_type": "code",
   "execution_count": 7,
   "metadata": {},
   "outputs": [
    {
     "data": {
      "text/html": [
       "<div>\n",
       "<style scoped>\n",
       "    .dataframe tbody tr th:only-of-type {\n",
       "        vertical-align: middle;\n",
       "    }\n",
       "\n",
       "    .dataframe tbody tr th {\n",
       "        vertical-align: top;\n",
       "    }\n",
       "\n",
       "    .dataframe thead th {\n",
       "        text-align: right;\n",
       "    }\n",
       "</style>\n",
       "<table border=\"1\" class=\"dataframe\">\n",
       "  <thead>\n",
       "    <tr style=\"text-align: right;\">\n",
       "      <th></th>\n",
       "      <th>team_id</th>\n",
       "      <th>team_name</th>\n",
       "      <th>player_id</th>\n",
       "      <th>player_name</th>\n",
       "      <th>Shots</th>\n",
       "      <th>SoT</th>\n",
       "      <th>Goals</th>\n",
       "      <th>xG</th>\n",
       "    </tr>\n",
       "  </thead>\n",
       "  <tbody>\n",
       "    <tr>\n",
       "      <th>0</th>\n",
       "      <td>1624</td>\n",
       "      <td>Tottenham Hotspur</td>\n",
       "      <td>8717</td>\n",
       "      <td>H. Kane</td>\n",
       "      <td>175</td>\n",
       "      <td>74</td>\n",
       "      <td>29</td>\n",
       "      <td>25.509768</td>\n",
       "    </tr>\n",
       "    <tr>\n",
       "      <th>1</th>\n",
       "      <td>1612</td>\n",
       "      <td>Liverpool</td>\n",
       "      <td>120353</td>\n",
       "      <td>Mohamed Salah</td>\n",
       "      <td>142</td>\n",
       "      <td>68</td>\n",
       "      <td>32</td>\n",
       "      <td>18.818702</td>\n",
       "    </tr>\n",
       "    <tr>\n",
       "      <th>2</th>\n",
       "      <td>1625</td>\n",
       "      <td>Manchester City</td>\n",
       "      <td>8325</td>\n",
       "      <td>S. Agüero</td>\n",
       "      <td>91</td>\n",
       "      <td>42</td>\n",
       "      <td>21</td>\n",
       "      <td>15.137464</td>\n",
       "    </tr>\n",
       "    <tr>\n",
       "      <th>3</th>\n",
       "      <td>1611</td>\n",
       "      <td>Manchester United</td>\n",
       "      <td>7905</td>\n",
       "      <td>R. Lukaku</td>\n",
       "      <td>80</td>\n",
       "      <td>41</td>\n",
       "      <td>16</td>\n",
       "      <td>14.890387</td>\n",
       "    </tr>\n",
       "    <tr>\n",
       "      <th>4</th>\n",
       "      <td>1625</td>\n",
       "      <td>Manchester City</td>\n",
       "      <td>11066</td>\n",
       "      <td>R. Sterling</td>\n",
       "      <td>80</td>\n",
       "      <td>35</td>\n",
       "      <td>18</td>\n",
       "      <td>14.506808</td>\n",
       "    </tr>\n",
       "    <tr>\n",
       "      <th>5</th>\n",
       "      <td>1631</td>\n",
       "      <td>Leicester City</td>\n",
       "      <td>12829</td>\n",
       "      <td>J. Vardy</td>\n",
       "      <td>66</td>\n",
       "      <td>34</td>\n",
       "      <td>20</td>\n",
       "      <td>13.091478</td>\n",
       "    </tr>\n",
       "    <tr>\n",
       "      <th>6</th>\n",
       "      <td>1625</td>\n",
       "      <td>Manchester City</td>\n",
       "      <td>340386</td>\n",
       "      <td>Gabriel Jesus</td>\n",
       "      <td>55</td>\n",
       "      <td>31</td>\n",
       "      <td>13</td>\n",
       "      <td>11.808116</td>\n",
       "    </tr>\n",
       "    <tr>\n",
       "      <th>7</th>\n",
       "      <td>1609</td>\n",
       "      <td>Arsenal</td>\n",
       "      <td>25413</td>\n",
       "      <td>A. Lacazette</td>\n",
       "      <td>65</td>\n",
       "      <td>36</td>\n",
       "      <td>14</td>\n",
       "      <td>11.490564</td>\n",
       "    </tr>\n",
       "    <tr>\n",
       "      <th>8</th>\n",
       "      <td>1651</td>\n",
       "      <td>Brighton &amp; Hove Albion</td>\n",
       "      <td>8416</td>\n",
       "      <td>G. Murray</td>\n",
       "      <td>50</td>\n",
       "      <td>24</td>\n",
       "      <td>12</td>\n",
       "      <td>10.969050</td>\n",
       "    </tr>\n",
       "    <tr>\n",
       "      <th>9</th>\n",
       "      <td>1633</td>\n",
       "      <td>West Ham United</td>\n",
       "      <td>14703</td>\n",
       "      <td>M. Arnautović</td>\n",
       "      <td>67</td>\n",
       "      <td>31</td>\n",
       "      <td>11</td>\n",
       "      <td>10.651092</td>\n",
       "    </tr>\n",
       "    <tr>\n",
       "      <th>10</th>\n",
       "      <td>1610</td>\n",
       "      <td>Chelsea</td>\n",
       "      <td>3324</td>\n",
       "      <td>Álvaro Morata</td>\n",
       "      <td>74</td>\n",
       "      <td>33</td>\n",
       "      <td>11</td>\n",
       "      <td>10.509149</td>\n",
       "    </tr>\n",
       "    <tr>\n",
       "      <th>11</th>\n",
       "      <td>1644</td>\n",
       "      <td>Watford</td>\n",
       "      <td>377071</td>\n",
       "      <td>Richarlison</td>\n",
       "      <td>92</td>\n",
       "      <td>23</td>\n",
       "      <td>5</td>\n",
       "      <td>10.466864</td>\n",
       "    </tr>\n",
       "    <tr>\n",
       "      <th>12</th>\n",
       "      <td>1628</td>\n",
       "      <td>Crystal Palace</td>\n",
       "      <td>38031</td>\n",
       "      <td>C. Benteke</td>\n",
       "      <td>55</td>\n",
       "      <td>20</td>\n",
       "      <td>3</td>\n",
       "      <td>10.104874</td>\n",
       "    </tr>\n",
       "    <tr>\n",
       "      <th>13</th>\n",
       "      <td>1612</td>\n",
       "      <td>Liverpool</td>\n",
       "      <td>25747</td>\n",
       "      <td>S. Mané</td>\n",
       "      <td>67</td>\n",
       "      <td>26</td>\n",
       "      <td>10</td>\n",
       "      <td>9.226667</td>\n",
       "    </tr>\n",
       "    <tr>\n",
       "      <th>14</th>\n",
       "      <td>1613</td>\n",
       "      <td>Newcastle United</td>\n",
       "      <td>12536</td>\n",
       "      <td>D. Gayle</td>\n",
       "      <td>53</td>\n",
       "      <td>20</td>\n",
       "      <td>6</td>\n",
       "      <td>9.022373</td>\n",
       "    </tr>\n",
       "    <tr>\n",
       "      <th>15</th>\n",
       "      <td>1624</td>\n",
       "      <td>Tottenham Hotspur</td>\n",
       "      <td>13484</td>\n",
       "      <td>D. Alli</td>\n",
       "      <td>70</td>\n",
       "      <td>18</td>\n",
       "      <td>9</td>\n",
       "      <td>8.887103</td>\n",
       "    </tr>\n",
       "    <tr>\n",
       "      <th>16</th>\n",
       "      <td>1624</td>\n",
       "      <td>Tottenham Hotspur</td>\n",
       "      <td>54</td>\n",
       "      <td>C. Eriksen</td>\n",
       "      <td>97</td>\n",
       "      <td>40</td>\n",
       "      <td>11</td>\n",
       "      <td>8.567606</td>\n",
       "    </tr>\n",
       "    <tr>\n",
       "      <th>17</th>\n",
       "      <td>1612</td>\n",
       "      <td>Liverpool</td>\n",
       "      <td>15808</td>\n",
       "      <td>Roberto Firmino</td>\n",
       "      <td>80</td>\n",
       "      <td>37</td>\n",
       "      <td>15</td>\n",
       "      <td>8.438596</td>\n",
       "    </tr>\n",
       "    <tr>\n",
       "      <th>18</th>\n",
       "      <td>1627</td>\n",
       "      <td>West Bromwich Albion</td>\n",
       "      <td>8958</td>\n",
       "      <td>J. Rodriguez</td>\n",
       "      <td>67</td>\n",
       "      <td>25</td>\n",
       "      <td>7</td>\n",
       "      <td>8.330469</td>\n",
       "    </tr>\n",
       "    <tr>\n",
       "      <th>19</th>\n",
       "      <td>1628</td>\n",
       "      <td>Crystal Palace</td>\n",
       "      <td>8422</td>\n",
       "      <td>W. Zaha</td>\n",
       "      <td>67</td>\n",
       "      <td>28</td>\n",
       "      <td>9</td>\n",
       "      <td>8.243523</td>\n",
       "    </tr>\n",
       "  </tbody>\n",
       "</table>\n",
       "</div>"
      ],
      "text/plain": [
       "    team_id               team_name  player_id      player_name  Shots  SoT  \\\n",
       "0      1624       Tottenham Hotspur       8717          H. Kane    175   74   \n",
       "1      1612               Liverpool     120353    Mohamed Salah    142   68   \n",
       "2      1625         Manchester City       8325        S. Agüero     91   42   \n",
       "3      1611       Manchester United       7905        R. Lukaku     80   41   \n",
       "4      1625         Manchester City      11066      R. Sterling     80   35   \n",
       "5      1631          Leicester City      12829         J. Vardy     66   34   \n",
       "6      1625         Manchester City     340386    Gabriel Jesus     55   31   \n",
       "7      1609                 Arsenal      25413     A. Lacazette     65   36   \n",
       "8      1651  Brighton & Hove Albion       8416        G. Murray     50   24   \n",
       "9      1633         West Ham United      14703    M. Arnautović     67   31   \n",
       "10     1610                 Chelsea       3324    Álvaro Morata     74   33   \n",
       "11     1644                 Watford     377071      Richarlison     92   23   \n",
       "12     1628          Crystal Palace      38031       C. Benteke     55   20   \n",
       "13     1612               Liverpool      25747          S. Mané     67   26   \n",
       "14     1613        Newcastle United      12536         D. Gayle     53   20   \n",
       "15     1624       Tottenham Hotspur      13484          D. Alli     70   18   \n",
       "16     1624       Tottenham Hotspur         54       C. Eriksen     97   40   \n",
       "17     1612               Liverpool      15808  Roberto Firmino     80   37   \n",
       "18     1627    West Bromwich Albion       8958     J. Rodriguez     67   25   \n",
       "19     1628          Crystal Palace       8422          W. Zaha     67   28   \n",
       "\n",
       "    Goals         xG  \n",
       "0      29  25.509768  \n",
       "1      32  18.818702  \n",
       "2      21  15.137464  \n",
       "3      16  14.890387  \n",
       "4      18  14.506808  \n",
       "5      20  13.091478  \n",
       "6      13  11.808116  \n",
       "7      14  11.490564  \n",
       "8      12  10.969050  \n",
       "9      11  10.651092  \n",
       "10     11  10.509149  \n",
       "11      5  10.466864  \n",
       "12      3  10.104874  \n",
       "13     10   9.226667  \n",
       "14      6   9.022373  \n",
       "15      9   8.887103  \n",
       "16     11   8.567606  \n",
       "17     15   8.438596  \n",
       "18      7   8.330469  \n",
       "19      9   8.243523  "
      ]
     },
     "execution_count": 7,
     "metadata": {},
     "output_type": "execute_result"
    }
   ],
   "source": [
    "player_stats['xG'] = shots.groupby(['team_id', 'team_name', 'player_id', 'player_name'])['xg'].sum()\n",
    "player_stats.sort_values('xG', ascending=False)[:20].reset_index()"
   ]
  },
  {
   "cell_type": "markdown",
   "metadata": {},
   "source": [
    "##### (3) 선수별 득점-xG 차이(dG) 집계 및 정렬"
   ]
  },
  {
   "cell_type": "code",
   "execution_count": 8,
   "metadata": {},
   "outputs": [
    {
     "data": {
      "text/html": [
       "<div>\n",
       "<style scoped>\n",
       "    .dataframe tbody tr th:only-of-type {\n",
       "        vertical-align: middle;\n",
       "    }\n",
       "\n",
       "    .dataframe tbody tr th {\n",
       "        vertical-align: top;\n",
       "    }\n",
       "\n",
       "    .dataframe thead th {\n",
       "        text-align: right;\n",
       "    }\n",
       "</style>\n",
       "<table border=\"1\" class=\"dataframe\">\n",
       "  <thead>\n",
       "    <tr style=\"text-align: right;\">\n",
       "      <th></th>\n",
       "      <th>team_id</th>\n",
       "      <th>team_name</th>\n",
       "      <th>player_id</th>\n",
       "      <th>player_name</th>\n",
       "      <th>Shots</th>\n",
       "      <th>SoT</th>\n",
       "      <th>Goals</th>\n",
       "      <th>xG</th>\n",
       "      <th>dG</th>\n",
       "    </tr>\n",
       "  </thead>\n",
       "  <tbody>\n",
       "    <tr>\n",
       "      <th>0</th>\n",
       "      <td>1612</td>\n",
       "      <td>Liverpool</td>\n",
       "      <td>120353</td>\n",
       "      <td>Mohamed Salah</td>\n",
       "      <td>142</td>\n",
       "      <td>68</td>\n",
       "      <td>32</td>\n",
       "      <td>18.818702</td>\n",
       "      <td>13.181298</td>\n",
       "    </tr>\n",
       "    <tr>\n",
       "      <th>1</th>\n",
       "      <td>1631</td>\n",
       "      <td>Leicester City</td>\n",
       "      <td>12829</td>\n",
       "      <td>J. Vardy</td>\n",
       "      <td>66</td>\n",
       "      <td>34</td>\n",
       "      <td>20</td>\n",
       "      <td>13.091478</td>\n",
       "      <td>6.908522</td>\n",
       "    </tr>\n",
       "    <tr>\n",
       "      <th>2</th>\n",
       "      <td>1612</td>\n",
       "      <td>Liverpool</td>\n",
       "      <td>15808</td>\n",
       "      <td>Roberto Firmino</td>\n",
       "      <td>80</td>\n",
       "      <td>37</td>\n",
       "      <td>15</td>\n",
       "      <td>8.438596</td>\n",
       "      <td>6.561404</td>\n",
       "    </tr>\n",
       "    <tr>\n",
       "      <th>3</th>\n",
       "      <td>1631</td>\n",
       "      <td>Leicester City</td>\n",
       "      <td>26150</td>\n",
       "      <td>R. Mahrez</td>\n",
       "      <td>71</td>\n",
       "      <td>36</td>\n",
       "      <td>12</td>\n",
       "      <td>5.964982</td>\n",
       "      <td>6.035018</td>\n",
       "    </tr>\n",
       "    <tr>\n",
       "      <th>4</th>\n",
       "      <td>1625</td>\n",
       "      <td>Manchester City</td>\n",
       "      <td>8325</td>\n",
       "      <td>S. Agüero</td>\n",
       "      <td>91</td>\n",
       "      <td>42</td>\n",
       "      <td>21</td>\n",
       "      <td>15.137464</td>\n",
       "      <td>5.862536</td>\n",
       "    </tr>\n",
       "    <tr>\n",
       "      <th>5</th>\n",
       "      <td>1624</td>\n",
       "      <td>Tottenham Hotspur</td>\n",
       "      <td>14911</td>\n",
       "      <td>Son Heung-Min</td>\n",
       "      <td>70</td>\n",
       "      <td>31</td>\n",
       "      <td>12</td>\n",
       "      <td>6.662513</td>\n",
       "      <td>5.337487</td>\n",
       "    </tr>\n",
       "    <tr>\n",
       "      <th>6</th>\n",
       "      <td>1625</td>\n",
       "      <td>Manchester City</td>\n",
       "      <td>245364</td>\n",
       "      <td>L. Sané</td>\n",
       "      <td>54</td>\n",
       "      <td>21</td>\n",
       "      <td>10</td>\n",
       "      <td>5.108586</td>\n",
       "      <td>4.891414</td>\n",
       "    </tr>\n",
       "    <tr>\n",
       "      <th>7</th>\n",
       "      <td>1610</td>\n",
       "      <td>Chelsea</td>\n",
       "      <td>25707</td>\n",
       "      <td>E. Hazard</td>\n",
       "      <td>65</td>\n",
       "      <td>34</td>\n",
       "      <td>12</td>\n",
       "      <td>7.379483</td>\n",
       "      <td>4.620517</td>\n",
       "    </tr>\n",
       "    <tr>\n",
       "      <th>8</th>\n",
       "      <td>1625</td>\n",
       "      <td>Manchester City</td>\n",
       "      <td>11066</td>\n",
       "      <td>R. Sterling</td>\n",
       "      <td>80</td>\n",
       "      <td>35</td>\n",
       "      <td>18</td>\n",
       "      <td>14.506808</td>\n",
       "      <td>3.493192</td>\n",
       "    </tr>\n",
       "    <tr>\n",
       "      <th>9</th>\n",
       "      <td>1624</td>\n",
       "      <td>Tottenham Hotspur</td>\n",
       "      <td>8717</td>\n",
       "      <td>H. Kane</td>\n",
       "      <td>175</td>\n",
       "      <td>74</td>\n",
       "      <td>29</td>\n",
       "      <td>25.509768</td>\n",
       "      <td>3.490232</td>\n",
       "    </tr>\n",
       "    <tr>\n",
       "      <th>10</th>\n",
       "      <td>1612</td>\n",
       "      <td>Liverpool</td>\n",
       "      <td>3802</td>\n",
       "      <td>Philippe Coutinho</td>\n",
       "      <td>52</td>\n",
       "      <td>18</td>\n",
       "      <td>7</td>\n",
       "      <td>3.560592</td>\n",
       "      <td>3.439408</td>\n",
       "    </tr>\n",
       "    <tr>\n",
       "      <th>11</th>\n",
       "      <td>1633</td>\n",
       "      <td>West Ham United</td>\n",
       "      <td>7941</td>\n",
       "      <td>J. Hernández</td>\n",
       "      <td>28</td>\n",
       "      <td>16</td>\n",
       "      <td>8</td>\n",
       "      <td>4.736159</td>\n",
       "      <td>3.263841</td>\n",
       "    </tr>\n",
       "    <tr>\n",
       "      <th>12</th>\n",
       "      <td>1644</td>\n",
       "      <td>Watford</td>\n",
       "      <td>28292</td>\n",
       "      <td>A. Doucouré</td>\n",
       "      <td>44</td>\n",
       "      <td>17</td>\n",
       "      <td>7</td>\n",
       "      <td>3.772575</td>\n",
       "      <td>3.227425</td>\n",
       "    </tr>\n",
       "    <tr>\n",
       "      <th>13</th>\n",
       "      <td>1651</td>\n",
       "      <td>Brighton &amp; Hove Albion</td>\n",
       "      <td>15526</td>\n",
       "      <td>P. Groß</td>\n",
       "      <td>41</td>\n",
       "      <td>19</td>\n",
       "      <td>7</td>\n",
       "      <td>3.880406</td>\n",
       "      <td>3.119594</td>\n",
       "    </tr>\n",
       "    <tr>\n",
       "      <th>14</th>\n",
       "      <td>1673</td>\n",
       "      <td>Huddersfield Town</td>\n",
       "      <td>38377</td>\n",
       "      <td>L. Depoitre</td>\n",
       "      <td>20</td>\n",
       "      <td>10</td>\n",
       "      <td>6</td>\n",
       "      <td>2.942712</td>\n",
       "      <td>3.057288</td>\n",
       "    </tr>\n",
       "    <tr>\n",
       "      <th>15</th>\n",
       "      <td>1646</td>\n",
       "      <td>Burnley</td>\n",
       "      <td>9206</td>\n",
       "      <td>C. Wood</td>\n",
       "      <td>38</td>\n",
       "      <td>25</td>\n",
       "      <td>10</td>\n",
       "      <td>7.038520</td>\n",
       "      <td>2.961480</td>\n",
       "    </tr>\n",
       "    <tr>\n",
       "      <th>16</th>\n",
       "      <td>1609</td>\n",
       "      <td>Arsenal</td>\n",
       "      <td>25867</td>\n",
       "      <td>P. Aubameyang</td>\n",
       "      <td>29</td>\n",
       "      <td>18</td>\n",
       "      <td>10</td>\n",
       "      <td>7.098868</td>\n",
       "      <td>2.901132</td>\n",
       "    </tr>\n",
       "    <tr>\n",
       "      <th>17</th>\n",
       "      <td>1609</td>\n",
       "      <td>Arsenal</td>\n",
       "      <td>3560</td>\n",
       "      <td>Nacho Monreal</td>\n",
       "      <td>21</td>\n",
       "      <td>8</td>\n",
       "      <td>5</td>\n",
       "      <td>2.203905</td>\n",
       "      <td>2.796095</td>\n",
       "    </tr>\n",
       "    <tr>\n",
       "      <th>18</th>\n",
       "      <td>1659</td>\n",
       "      <td>AFC Bournemouth</td>\n",
       "      <td>62224</td>\n",
       "      <td>R. Fraser</td>\n",
       "      <td>31</td>\n",
       "      <td>13</td>\n",
       "      <td>5</td>\n",
       "      <td>2.217931</td>\n",
       "      <td>2.782069</td>\n",
       "    </tr>\n",
       "    <tr>\n",
       "      <th>19</th>\n",
       "      <td>1625</td>\n",
       "      <td>Manchester City</td>\n",
       "      <td>265673</td>\n",
       "      <td>Bernardo Silva</td>\n",
       "      <td>23</td>\n",
       "      <td>14</td>\n",
       "      <td>6</td>\n",
       "      <td>3.234587</td>\n",
       "      <td>2.765413</td>\n",
       "    </tr>\n",
       "  </tbody>\n",
       "</table>\n",
       "</div>"
      ],
      "text/plain": [
       "    team_id               team_name  player_id        player_name  Shots  SoT  \\\n",
       "0      1612               Liverpool     120353      Mohamed Salah    142   68   \n",
       "1      1631          Leicester City      12829           J. Vardy     66   34   \n",
       "2      1612               Liverpool      15808    Roberto Firmino     80   37   \n",
       "3      1631          Leicester City      26150          R. Mahrez     71   36   \n",
       "4      1625         Manchester City       8325          S. Agüero     91   42   \n",
       "5      1624       Tottenham Hotspur      14911      Son Heung-Min     70   31   \n",
       "6      1625         Manchester City     245364            L. Sané     54   21   \n",
       "7      1610                 Chelsea      25707          E. Hazard     65   34   \n",
       "8      1625         Manchester City      11066        R. Sterling     80   35   \n",
       "9      1624       Tottenham Hotspur       8717            H. Kane    175   74   \n",
       "10     1612               Liverpool       3802  Philippe Coutinho     52   18   \n",
       "11     1633         West Ham United       7941       J. Hernández     28   16   \n",
       "12     1644                 Watford      28292        A. Doucouré     44   17   \n",
       "13     1651  Brighton & Hove Albion      15526            P. Groß     41   19   \n",
       "14     1673       Huddersfield Town      38377        L. Depoitre     20   10   \n",
       "15     1646                 Burnley       9206            C. Wood     38   25   \n",
       "16     1609                 Arsenal      25867      P. Aubameyang     29   18   \n",
       "17     1609                 Arsenal       3560      Nacho Monreal     21    8   \n",
       "18     1659         AFC Bournemouth      62224          R. Fraser     31   13   \n",
       "19     1625         Manchester City     265673     Bernardo Silva     23   14   \n",
       "\n",
       "    Goals         xG         dG  \n",
       "0      32  18.818702  13.181298  \n",
       "1      20  13.091478   6.908522  \n",
       "2      15   8.438596   6.561404  \n",
       "3      12   5.964982   6.035018  \n",
       "4      21  15.137464   5.862536  \n",
       "5      12   6.662513   5.337487  \n",
       "6      10   5.108586   4.891414  \n",
       "7      12   7.379483   4.620517  \n",
       "8      18  14.506808   3.493192  \n",
       "9      29  25.509768   3.490232  \n",
       "10      7   3.560592   3.439408  \n",
       "11      8   4.736159   3.263841  \n",
       "12      7   3.772575   3.227425  \n",
       "13      7   3.880406   3.119594  \n",
       "14      6   2.942712   3.057288  \n",
       "15     10   7.038520   2.961480  \n",
       "16     10   7.098868   2.901132  \n",
       "17      5   2.203905   2.796095  \n",
       "18      5   2.217931   2.782069  \n",
       "19      6   3.234587   2.765413  "
      ]
     },
     "execution_count": 8,
     "metadata": {},
     "output_type": "execute_result"
    }
   ],
   "source": [
    "player_stats['dG'] = player_stats['Goals'] - player_stats['xG']\n",
    "player_stats.sort_values('dG', ascending=False)[:20].reset_index()"
   ]
  },
  {
   "cell_type": "markdown",
   "metadata": {},
   "source": [
    "##### (4) 선수별 득점당 평균 xG 집계 및 정렬"
   ]
  },
  {
   "cell_type": "code",
   "execution_count": 9,
   "metadata": {},
   "outputs": [
    {
     "data": {
      "text/html": [
       "<div>\n",
       "<style scoped>\n",
       "    .dataframe tbody tr th:only-of-type {\n",
       "        vertical-align: middle;\n",
       "    }\n",
       "\n",
       "    .dataframe tbody tr th {\n",
       "        vertical-align: top;\n",
       "    }\n",
       "\n",
       "    .dataframe thead th {\n",
       "        text-align: right;\n",
       "    }\n",
       "</style>\n",
       "<table border=\"1\" class=\"dataframe\">\n",
       "  <thead>\n",
       "    <tr style=\"text-align: right;\">\n",
       "      <th></th>\n",
       "      <th>team_id</th>\n",
       "      <th>team_name</th>\n",
       "      <th>player_id</th>\n",
       "      <th>player_name</th>\n",
       "      <th>Shots</th>\n",
       "      <th>SoT</th>\n",
       "      <th>Goals</th>\n",
       "      <th>xG</th>\n",
       "      <th>dG</th>\n",
       "      <th>xG for goals</th>\n",
       "      <th>xG per goal</th>\n",
       "    </tr>\n",
       "  </thead>\n",
       "  <tbody>\n",
       "    <tr>\n",
       "      <th>0</th>\n",
       "      <td>1625</td>\n",
       "      <td>Manchester City</td>\n",
       "      <td>38021</td>\n",
       "      <td>K. De Bruyne</td>\n",
       "      <td>91</td>\n",
       "      <td>39</td>\n",
       "      <td>7</td>\n",
       "      <td>5.642349</td>\n",
       "      <td>1.357651</td>\n",
       "      <td>0.462634</td>\n",
       "      <td>0.066091</td>\n",
       "    </tr>\n",
       "    <tr>\n",
       "      <th>1</th>\n",
       "      <td>1625</td>\n",
       "      <td>Manchester City</td>\n",
       "      <td>105339</td>\n",
       "      <td>Fernandinho</td>\n",
       "      <td>48</td>\n",
       "      <td>20</td>\n",
       "      <td>5</td>\n",
       "      <td>3.120018</td>\n",
       "      <td>1.879982</td>\n",
       "      <td>0.422382</td>\n",
       "      <td>0.084476</td>\n",
       "    </tr>\n",
       "    <tr>\n",
       "      <th>2</th>\n",
       "      <td>1639</td>\n",
       "      <td>Stoke City</td>\n",
       "      <td>49872</td>\n",
       "      <td>X. Shaqiri</td>\n",
       "      <td>67</td>\n",
       "      <td>29</td>\n",
       "      <td>8</td>\n",
       "      <td>5.384793</td>\n",
       "      <td>2.615207</td>\n",
       "      <td>0.741852</td>\n",
       "      <td>0.092732</td>\n",
       "    </tr>\n",
       "    <tr>\n",
       "      <th>3</th>\n",
       "      <td>1631</td>\n",
       "      <td>Leicester City</td>\n",
       "      <td>26150</td>\n",
       "      <td>R. Mahrez</td>\n",
       "      <td>71</td>\n",
       "      <td>36</td>\n",
       "      <td>12</td>\n",
       "      <td>5.964982</td>\n",
       "      <td>6.035018</td>\n",
       "      <td>1.187004</td>\n",
       "      <td>0.098917</td>\n",
       "    </tr>\n",
       "    <tr>\n",
       "      <th>4</th>\n",
       "      <td>1659</td>\n",
       "      <td>AFC Bournemouth</td>\n",
       "      <td>62224</td>\n",
       "      <td>R. Fraser</td>\n",
       "      <td>31</td>\n",
       "      <td>13</td>\n",
       "      <td>5</td>\n",
       "      <td>2.217931</td>\n",
       "      <td>2.782069</td>\n",
       "      <td>0.536586</td>\n",
       "      <td>0.107317</td>\n",
       "    </tr>\n",
       "    <tr>\n",
       "      <th>5</th>\n",
       "      <td>1651</td>\n",
       "      <td>Brighton &amp; Hove Albion</td>\n",
       "      <td>91381</td>\n",
       "      <td>J. Izquierdo</td>\n",
       "      <td>53</td>\n",
       "      <td>16</td>\n",
       "      <td>5</td>\n",
       "      <td>4.709351</td>\n",
       "      <td>0.290649</td>\n",
       "      <td>0.609622</td>\n",
       "      <td>0.121924</td>\n",
       "    </tr>\n",
       "    <tr>\n",
       "      <th>6</th>\n",
       "      <td>1644</td>\n",
       "      <td>Watford</td>\n",
       "      <td>28292</td>\n",
       "      <td>A. Doucouré</td>\n",
       "      <td>44</td>\n",
       "      <td>17</td>\n",
       "      <td>7</td>\n",
       "      <td>3.772575</td>\n",
       "      <td>3.227425</td>\n",
       "      <td>0.941834</td>\n",
       "      <td>0.134548</td>\n",
       "    </tr>\n",
       "    <tr>\n",
       "      <th>7</th>\n",
       "      <td>1612</td>\n",
       "      <td>Liverpool</td>\n",
       "      <td>3802</td>\n",
       "      <td>Philippe Coutinho</td>\n",
       "      <td>52</td>\n",
       "      <td>18</td>\n",
       "      <td>7</td>\n",
       "      <td>3.560592</td>\n",
       "      <td>3.439408</td>\n",
       "      <td>1.003864</td>\n",
       "      <td>0.143409</td>\n",
       "    </tr>\n",
       "    <tr>\n",
       "      <th>8</th>\n",
       "      <td>1611</td>\n",
       "      <td>Manchester United</td>\n",
       "      <td>397178</td>\n",
       "      <td>M. Rashford</td>\n",
       "      <td>59</td>\n",
       "      <td>21</td>\n",
       "      <td>7</td>\n",
       "      <td>5.261184</td>\n",
       "      <td>1.738816</td>\n",
       "      <td>1.009870</td>\n",
       "      <td>0.144267</td>\n",
       "    </tr>\n",
       "    <tr>\n",
       "      <th>9</th>\n",
       "      <td>1673</td>\n",
       "      <td>Huddersfield Town</td>\n",
       "      <td>38377</td>\n",
       "      <td>L. Depoitre</td>\n",
       "      <td>20</td>\n",
       "      <td>10</td>\n",
       "      <td>6</td>\n",
       "      <td>2.942712</td>\n",
       "      <td>3.057288</td>\n",
       "      <td>0.874362</td>\n",
       "      <td>0.145727</td>\n",
       "    </tr>\n",
       "    <tr>\n",
       "      <th>10</th>\n",
       "      <td>1644</td>\n",
       "      <td>Watford</td>\n",
       "      <td>20593</td>\n",
       "      <td>R. Pereyra</td>\n",
       "      <td>34</td>\n",
       "      <td>13</td>\n",
       "      <td>5</td>\n",
       "      <td>4.450950</td>\n",
       "      <td>0.549050</td>\n",
       "      <td>0.738962</td>\n",
       "      <td>0.147792</td>\n",
       "    </tr>\n",
       "    <tr>\n",
       "      <th>11</th>\n",
       "      <td>1625</td>\n",
       "      <td>Manchester City</td>\n",
       "      <td>245364</td>\n",
       "      <td>L. Sané</td>\n",
       "      <td>54</td>\n",
       "      <td>21</td>\n",
       "      <td>10</td>\n",
       "      <td>5.108586</td>\n",
       "      <td>4.891414</td>\n",
       "      <td>1.510911</td>\n",
       "      <td>0.151091</td>\n",
       "    </tr>\n",
       "    <tr>\n",
       "      <th>12</th>\n",
       "      <td>1624</td>\n",
       "      <td>Tottenham Hotspur</td>\n",
       "      <td>54</td>\n",
       "      <td>C. Eriksen</td>\n",
       "      <td>97</td>\n",
       "      <td>40</td>\n",
       "      <td>11</td>\n",
       "      <td>8.567606</td>\n",
       "      <td>2.432394</td>\n",
       "      <td>1.664396</td>\n",
       "      <td>0.151309</td>\n",
       "    </tr>\n",
       "    <tr>\n",
       "      <th>13</th>\n",
       "      <td>1610</td>\n",
       "      <td>Chelsea</td>\n",
       "      <td>8032</td>\n",
       "      <td>Marcos Alonso</td>\n",
       "      <td>59</td>\n",
       "      <td>21</td>\n",
       "      <td>7</td>\n",
       "      <td>5.533456</td>\n",
       "      <td>1.466544</td>\n",
       "      <td>1.083660</td>\n",
       "      <td>0.154809</td>\n",
       "    </tr>\n",
       "    <tr>\n",
       "      <th>14</th>\n",
       "      <td>1624</td>\n",
       "      <td>Tottenham Hotspur</td>\n",
       "      <td>14911</td>\n",
       "      <td>Son Heung-Min</td>\n",
       "      <td>70</td>\n",
       "      <td>31</td>\n",
       "      <td>12</td>\n",
       "      <td>6.662513</td>\n",
       "      <td>5.337487</td>\n",
       "      <td>1.923253</td>\n",
       "      <td>0.160271</td>\n",
       "    </tr>\n",
       "    <tr>\n",
       "      <th>15</th>\n",
       "      <td>1627</td>\n",
       "      <td>West Bromwich Albion</td>\n",
       "      <td>3577</td>\n",
       "      <td>S. Rondón</td>\n",
       "      <td>79</td>\n",
       "      <td>28</td>\n",
       "      <td>7</td>\n",
       "      <td>7.611369</td>\n",
       "      <td>-0.611369</td>\n",
       "      <td>1.130766</td>\n",
       "      <td>0.161538</td>\n",
       "    </tr>\n",
       "    <tr>\n",
       "      <th>16</th>\n",
       "      <td>1609</td>\n",
       "      <td>Arsenal</td>\n",
       "      <td>7870</td>\n",
       "      <td>A. Ramsey</td>\n",
       "      <td>52</td>\n",
       "      <td>22</td>\n",
       "      <td>7</td>\n",
       "      <td>6.225847</td>\n",
       "      <td>0.774153</td>\n",
       "      <td>1.143985</td>\n",
       "      <td>0.163426</td>\n",
       "    </tr>\n",
       "    <tr>\n",
       "      <th>17</th>\n",
       "      <td>1673</td>\n",
       "      <td>Huddersfield Town</td>\n",
       "      <td>214654</td>\n",
       "      <td>S. Mounié</td>\n",
       "      <td>49</td>\n",
       "      <td>21</td>\n",
       "      <td>8</td>\n",
       "      <td>6.597964</td>\n",
       "      <td>1.402036</td>\n",
       "      <td>1.308607</td>\n",
       "      <td>0.163576</td>\n",
       "    </tr>\n",
       "    <tr>\n",
       "      <th>18</th>\n",
       "      <td>1610</td>\n",
       "      <td>Chelsea</td>\n",
       "      <td>105333</td>\n",
       "      <td>Willian</td>\n",
       "      <td>53</td>\n",
       "      <td>25</td>\n",
       "      <td>6</td>\n",
       "      <td>5.184457</td>\n",
       "      <td>0.815543</td>\n",
       "      <td>1.025361</td>\n",
       "      <td>0.170894</td>\n",
       "    </tr>\n",
       "    <tr>\n",
       "      <th>19</th>\n",
       "      <td>1633</td>\n",
       "      <td>West Ham United</td>\n",
       "      <td>41174</td>\n",
       "      <td>M. Lanzini</td>\n",
       "      <td>43</td>\n",
       "      <td>16</td>\n",
       "      <td>5</td>\n",
       "      <td>4.716509</td>\n",
       "      <td>0.283491</td>\n",
       "      <td>0.855270</td>\n",
       "      <td>0.171054</td>\n",
       "    </tr>\n",
       "  </tbody>\n",
       "</table>\n",
       "</div>"
      ],
      "text/plain": [
       "    team_id               team_name  player_id        player_name  Shots  SoT  \\\n",
       "0      1625         Manchester City      38021       K. De Bruyne     91   39   \n",
       "1      1625         Manchester City     105339        Fernandinho     48   20   \n",
       "2      1639              Stoke City      49872         X. Shaqiri     67   29   \n",
       "3      1631          Leicester City      26150          R. Mahrez     71   36   \n",
       "4      1659         AFC Bournemouth      62224          R. Fraser     31   13   \n",
       "5      1651  Brighton & Hove Albion      91381       J. Izquierdo     53   16   \n",
       "6      1644                 Watford      28292        A. Doucouré     44   17   \n",
       "7      1612               Liverpool       3802  Philippe Coutinho     52   18   \n",
       "8      1611       Manchester United     397178        M. Rashford     59   21   \n",
       "9      1673       Huddersfield Town      38377        L. Depoitre     20   10   \n",
       "10     1644                 Watford      20593         R. Pereyra     34   13   \n",
       "11     1625         Manchester City     245364            L. Sané     54   21   \n",
       "12     1624       Tottenham Hotspur         54         C. Eriksen     97   40   \n",
       "13     1610                 Chelsea       8032      Marcos Alonso     59   21   \n",
       "14     1624       Tottenham Hotspur      14911      Son Heung-Min     70   31   \n",
       "15     1627    West Bromwich Albion       3577          S. Rondón     79   28   \n",
       "16     1609                 Arsenal       7870          A. Ramsey     52   22   \n",
       "17     1673       Huddersfield Town     214654          S. Mounié     49   21   \n",
       "18     1610                 Chelsea     105333            Willian     53   25   \n",
       "19     1633         West Ham United      41174         M. Lanzini     43   16   \n",
       "\n",
       "    Goals        xG        dG  xG for goals  xG per goal  \n",
       "0       7  5.642349  1.357651      0.462634     0.066091  \n",
       "1       5  3.120018  1.879982      0.422382     0.084476  \n",
       "2       8  5.384793  2.615207      0.741852     0.092732  \n",
       "3      12  5.964982  6.035018      1.187004     0.098917  \n",
       "4       5  2.217931  2.782069      0.536586     0.107317  \n",
       "5       5  4.709351  0.290649      0.609622     0.121924  \n",
       "6       7  3.772575  3.227425      0.941834     0.134548  \n",
       "7       7  3.560592  3.439408      1.003864     0.143409  \n",
       "8       7  5.261184  1.738816      1.009870     0.144267  \n",
       "9       6  2.942712  3.057288      0.874362     0.145727  \n",
       "10      5  4.450950  0.549050      0.738962     0.147792  \n",
       "11     10  5.108586  4.891414      1.510911     0.151091  \n",
       "12     11  8.567606  2.432394      1.664396     0.151309  \n",
       "13      7  5.533456  1.466544      1.083660     0.154809  \n",
       "14     12  6.662513  5.337487      1.923253     0.160271  \n",
       "15      7  7.611369 -0.611369      1.130766     0.161538  \n",
       "16      7  6.225847  0.774153      1.143985     0.163426  \n",
       "17      8  6.597964  1.402036      1.308607     0.163576  \n",
       "18      6  5.184457  0.815543      1.025361     0.170894  \n",
       "19      5  4.716509  0.283491      0.855270     0.171054  "
      ]
     },
     "execution_count": 9,
     "metadata": {},
     "output_type": "execute_result"
    }
   ],
   "source": [
    "player_stats['xG for goals'] = goals.groupby(['team_id', 'team_name', 'player_id', 'player_name'])['xg'].sum()\n",
    "player_stats['xG per goal'] = player_stats['xG for goals'] / player_stats['Goals']\n",
    "player_stats[player_stats['Goals'] >= 5].sort_values('xG per goal')[:20].reset_index()"
   ]
  },
  {
   "cell_type": "markdown",
   "metadata": {},
   "source": [
    "### 선수별 시즌 전체 xG 시각화"
   ]
  },
  {
   "cell_type": "markdown",
   "metadata": {},
   "source": [
    "##### (1) 슈팅 레이블 생성"
   ]
  },
  {
   "cell_type": "code",
   "execution_count": 10,
   "metadata": {},
   "outputs": [
    {
     "data": {
      "text/html": [
       "<div>\n",
       "<style scoped>\n",
       "    .dataframe tbody tr th:only-of-type {\n",
       "        vertical-align: middle;\n",
       "    }\n",
       "\n",
       "    .dataframe tbody tr th {\n",
       "        vertical-align: top;\n",
       "    }\n",
       "\n",
       "    .dataframe thead th {\n",
       "        text-align: right;\n",
       "    }\n",
       "</style>\n",
       "<table border=\"1\" class=\"dataframe\">\n",
       "  <thead>\n",
       "    <tr style=\"text-align: right;\">\n",
       "      <th></th>\n",
       "      <th>competition_name</th>\n",
       "      <th>match_id</th>\n",
       "      <th>event_id</th>\n",
       "      <th>period</th>\n",
       "      <th>time</th>\n",
       "      <th>team_id</th>\n",
       "      <th>team_name</th>\n",
       "      <th>player_id</th>\n",
       "      <th>player_name</th>\n",
       "      <th>event_type</th>\n",
       "      <th>...</th>\n",
       "      <th>distance</th>\n",
       "      <th>angle</th>\n",
       "      <th>freekick</th>\n",
       "      <th>header</th>\n",
       "      <th>goal</th>\n",
       "      <th>xg</th>\n",
       "      <th>gameweek</th>\n",
       "      <th>team1_name</th>\n",
       "      <th>team2_name</th>\n",
       "      <th>display_name</th>\n",
       "    </tr>\n",
       "  </thead>\n",
       "  <tbody>\n",
       "    <tr>\n",
       "      <th>0</th>\n",
       "      <td>England</td>\n",
       "      <td>2499719</td>\n",
       "      <td>177959212</td>\n",
       "      <td>1H</td>\n",
       "      <td>94.596</td>\n",
       "      <td>1609</td>\n",
       "      <td>Arsenal</td>\n",
       "      <td>25413</td>\n",
       "      <td>A. Lacazette</td>\n",
       "      <td>Shot</td>\n",
       "      <td>...</td>\n",
       "      <td>13.899813</td>\n",
       "      <td>26.933236</td>\n",
       "      <td>0</td>\n",
       "      <td>0</td>\n",
       "      <td>1</td>\n",
       "      <td>0.144301</td>\n",
       "      <td>1</td>\n",
       "      <td>Arsenal</td>\n",
       "      <td>Leicester City</td>\n",
       "      <td>[1R] Arsenal vs Leicester City, 1H 01:34, xG: ...</td>\n",
       "    </tr>\n",
       "    <tr>\n",
       "      <th>1</th>\n",
       "      <td>England</td>\n",
       "      <td>2499719</td>\n",
       "      <td>177959247</td>\n",
       "      <td>1H</td>\n",
       "      <td>179.855</td>\n",
       "      <td>1631</td>\n",
       "      <td>Leicester City</td>\n",
       "      <td>26150</td>\n",
       "      <td>R. Mahrez</td>\n",
       "      <td>Shot</td>\n",
       "      <td>...</td>\n",
       "      <td>15.659170</td>\n",
       "      <td>26.224941</td>\n",
       "      <td>0</td>\n",
       "      <td>0</td>\n",
       "      <td>0</td>\n",
       "      <td>0.120955</td>\n",
       "      <td>1</td>\n",
       "      <td>Arsenal</td>\n",
       "      <td>Leicester City</td>\n",
       "      <td>[1R] Arsenal vs Leicester City, 1H 02:59, xG: ...</td>\n",
       "    </tr>\n",
       "    <tr>\n",
       "      <th>2</th>\n",
       "      <td>England</td>\n",
       "      <td>2499719</td>\n",
       "      <td>177959280</td>\n",
       "      <td>1H</td>\n",
       "      <td>254.745</td>\n",
       "      <td>1631</td>\n",
       "      <td>Leicester City</td>\n",
       "      <td>14763</td>\n",
       "      <td>S. Okazaki</td>\n",
       "      <td>Shot</td>\n",
       "      <td>...</td>\n",
       "      <td>4.376665</td>\n",
       "      <td>79.289489</td>\n",
       "      <td>0</td>\n",
       "      <td>1</td>\n",
       "      <td>1</td>\n",
       "      <td>0.410288</td>\n",
       "      <td>1</td>\n",
       "      <td>Arsenal</td>\n",
       "      <td>Leicester City</td>\n",
       "      <td>[1R] Arsenal vs Leicester City, 1H 04:14, xG: ...</td>\n",
       "    </tr>\n",
       "    <tr>\n",
       "      <th>3</th>\n",
       "      <td>England</td>\n",
       "      <td>2499719</td>\n",
       "      <td>177959289</td>\n",
       "      <td>1H</td>\n",
       "      <td>425.824</td>\n",
       "      <td>1609</td>\n",
       "      <td>Arsenal</td>\n",
       "      <td>7868</td>\n",
       "      <td>A. Oxlade-Chamberlain</td>\n",
       "      <td>Shot</td>\n",
       "      <td>...</td>\n",
       "      <td>22.893038</td>\n",
       "      <td>15.813597</td>\n",
       "      <td>0</td>\n",
       "      <td>0</td>\n",
       "      <td>0</td>\n",
       "      <td>0.042329</td>\n",
       "      <td>1</td>\n",
       "      <td>Arsenal</td>\n",
       "      <td>Leicester City</td>\n",
       "      <td>[1R] Arsenal vs Leicester City, 1H 07:05, xG: ...</td>\n",
       "    </tr>\n",
       "    <tr>\n",
       "      <th>4</th>\n",
       "      <td>England</td>\n",
       "      <td>2499719</td>\n",
       "      <td>177959429</td>\n",
       "      <td>1H</td>\n",
       "      <td>815.462</td>\n",
       "      <td>1609</td>\n",
       "      <td>Arsenal</td>\n",
       "      <td>7868</td>\n",
       "      <td>A. Oxlade-Chamberlain</td>\n",
       "      <td>Shot</td>\n",
       "      <td>...</td>\n",
       "      <td>29.342120</td>\n",
       "      <td>12.655803</td>\n",
       "      <td>0</td>\n",
       "      <td>0</td>\n",
       "      <td>0</td>\n",
       "      <td>0.019252</td>\n",
       "      <td>1</td>\n",
       "      <td>Arsenal</td>\n",
       "      <td>Leicester City</td>\n",
       "      <td>[1R] Arsenal vs Leicester City, 1H 13:35, xG: ...</td>\n",
       "    </tr>\n",
       "    <tr>\n",
       "      <th>...</th>\n",
       "      <td>...</td>\n",
       "      <td>...</td>\n",
       "      <td>...</td>\n",
       "      <td>...</td>\n",
       "      <td>...</td>\n",
       "      <td>...</td>\n",
       "      <td>...</td>\n",
       "      <td>...</td>\n",
       "      <td>...</td>\n",
       "      <td>...</td>\n",
       "      <td>...</td>\n",
       "      <td>...</td>\n",
       "      <td>...</td>\n",
       "      <td>...</td>\n",
       "      <td>...</td>\n",
       "      <td>...</td>\n",
       "      <td>...</td>\n",
       "      <td>...</td>\n",
       "      <td>...</td>\n",
       "      <td>...</td>\n",
       "      <td>...</td>\n",
       "    </tr>\n",
       "    <tr>\n",
       "      <th>8876</th>\n",
       "      <td>England</td>\n",
       "      <td>2500089</td>\n",
       "      <td>251701666</td>\n",
       "      <td>2H</td>\n",
       "      <td>1682.852</td>\n",
       "      <td>1659</td>\n",
       "      <td>AFC Bournemouth</td>\n",
       "      <td>9637</td>\n",
       "      <td>J. King</td>\n",
       "      <td>Shot</td>\n",
       "      <td>...</td>\n",
       "      <td>15.367134</td>\n",
       "      <td>15.291389</td>\n",
       "      <td>0</td>\n",
       "      <td>0</td>\n",
       "      <td>1</td>\n",
       "      <td>0.083925</td>\n",
       "      <td>38</td>\n",
       "      <td>Burnley</td>\n",
       "      <td>AFC Bournemouth</td>\n",
       "      <td>[38R] Burnley vs AFC Bournemouth, 2H 28:02, xG...</td>\n",
       "    </tr>\n",
       "    <tr>\n",
       "      <th>8877</th>\n",
       "      <td>England</td>\n",
       "      <td>2500089</td>\n",
       "      <td>251701767</td>\n",
       "      <td>2H</td>\n",
       "      <td>2267.378</td>\n",
       "      <td>1659</td>\n",
       "      <td>AFC Bournemouth</td>\n",
       "      <td>9739</td>\n",
       "      <td>J. Ibe</td>\n",
       "      <td>Shot</td>\n",
       "      <td>...</td>\n",
       "      <td>26.432132</td>\n",
       "      <td>15.521739</td>\n",
       "      <td>0</td>\n",
       "      <td>0</td>\n",
       "      <td>0</td>\n",
       "      <td>0.029193</td>\n",
       "      <td>38</td>\n",
       "      <td>Burnley</td>\n",
       "      <td>AFC Bournemouth</td>\n",
       "      <td>[38R] Burnley vs AFC Bournemouth, 2H 37:47, xG...</td>\n",
       "    </tr>\n",
       "    <tr>\n",
       "      <th>8878</th>\n",
       "      <td>England</td>\n",
       "      <td>2500089</td>\n",
       "      <td>251701808</td>\n",
       "      <td>2H</td>\n",
       "      <td>2593.305</td>\n",
       "      <td>1659</td>\n",
       "      <td>AFC Bournemouth</td>\n",
       "      <td>11669</td>\n",
       "      <td>C. Wilson</td>\n",
       "      <td>Shot</td>\n",
       "      <td>...</td>\n",
       "      <td>32.824990</td>\n",
       "      <td>12.113593</td>\n",
       "      <td>0</td>\n",
       "      <td>0</td>\n",
       "      <td>0</td>\n",
       "      <td>0.013379</td>\n",
       "      <td>38</td>\n",
       "      <td>Burnley</td>\n",
       "      <td>AFC Bournemouth</td>\n",
       "      <td>[38R] Burnley vs AFC Bournemouth, 2H 43:13, xG...</td>\n",
       "    </tr>\n",
       "    <tr>\n",
       "      <th>8879</th>\n",
       "      <td>England</td>\n",
       "      <td>2500089</td>\n",
       "      <td>251701582</td>\n",
       "      <td>2H</td>\n",
       "      <td>2644.663</td>\n",
       "      <td>1646</td>\n",
       "      <td>Burnley</td>\n",
       "      <td>9179</td>\n",
       "      <td>N. Wells</td>\n",
       "      <td>Shot</td>\n",
       "      <td>...</td>\n",
       "      <td>18.176028</td>\n",
       "      <td>18.584769</td>\n",
       "      <td>0</td>\n",
       "      <td>0</td>\n",
       "      <td>0</td>\n",
       "      <td>0.073833</td>\n",
       "      <td>38</td>\n",
       "      <td>Burnley</td>\n",
       "      <td>AFC Bournemouth</td>\n",
       "      <td>[38R] Burnley vs AFC Bournemouth, 2H 44:04, xG...</td>\n",
       "    </tr>\n",
       "    <tr>\n",
       "      <th>8880</th>\n",
       "      <td>England</td>\n",
       "      <td>2500089</td>\n",
       "      <td>251701853</td>\n",
       "      <td>2H</td>\n",
       "      <td>2839.356</td>\n",
       "      <td>1659</td>\n",
       "      <td>AFC Bournemouth</td>\n",
       "      <td>11669</td>\n",
       "      <td>C. Wilson</td>\n",
       "      <td>Shot</td>\n",
       "      <td>...</td>\n",
       "      <td>11.736848</td>\n",
       "      <td>31.473639</td>\n",
       "      <td>0</td>\n",
       "      <td>0</td>\n",
       "      <td>1</td>\n",
       "      <td>0.189348</td>\n",
       "      <td>38</td>\n",
       "      <td>Burnley</td>\n",
       "      <td>AFC Bournemouth</td>\n",
       "      <td>[38R] Burnley vs AFC Bournemouth, 2H 47:19, xG...</td>\n",
       "    </tr>\n",
       "  </tbody>\n",
       "</table>\n",
       "<p>8881 rows × 24 columns</p>\n",
       "</div>"
      ],
      "text/plain": [
       "     competition_name match_id   event_id period      time team_id  \\\n",
       "0             England  2499719  177959212     1H    94.596    1609   \n",
       "1             England  2499719  177959247     1H   179.855    1631   \n",
       "2             England  2499719  177959280     1H   254.745    1631   \n",
       "3             England  2499719  177959289     1H   425.824    1609   \n",
       "4             England  2499719  177959429     1H   815.462    1609   \n",
       "...               ...      ...        ...    ...       ...     ...   \n",
       "8876          England  2500089  251701666     2H  1682.852    1659   \n",
       "8877          England  2500089  251701767     2H  2267.378    1659   \n",
       "8878          England  2500089  251701808     2H  2593.305    1659   \n",
       "8879          England  2500089  251701582     2H  2644.663    1646   \n",
       "8880          England  2500089  251701853     2H  2839.356    1659   \n",
       "\n",
       "            team_name player_id            player_name event_type  ...  \\\n",
       "0             Arsenal     25413           A. Lacazette       Shot  ...   \n",
       "1      Leicester City     26150              R. Mahrez       Shot  ...   \n",
       "2      Leicester City     14763             S. Okazaki       Shot  ...   \n",
       "3             Arsenal      7868  A. Oxlade-Chamberlain       Shot  ...   \n",
       "4             Arsenal      7868  A. Oxlade-Chamberlain       Shot  ...   \n",
       "...               ...       ...                    ...        ...  ...   \n",
       "8876  AFC Bournemouth      9637                J. King       Shot  ...   \n",
       "8877  AFC Bournemouth      9739                 J. Ibe       Shot  ...   \n",
       "8878  AFC Bournemouth     11669              C. Wilson       Shot  ...   \n",
       "8879          Burnley      9179               N. Wells       Shot  ...   \n",
       "8880  AFC Bournemouth     11669              C. Wilson       Shot  ...   \n",
       "\n",
       "       distance      angle  freekick  header  goal        xg  gameweek  \\\n",
       "0     13.899813  26.933236         0       0     1  0.144301         1   \n",
       "1     15.659170  26.224941         0       0     0  0.120955         1   \n",
       "2      4.376665  79.289489         0       1     1  0.410288         1   \n",
       "3     22.893038  15.813597         0       0     0  0.042329         1   \n",
       "4     29.342120  12.655803         0       0     0  0.019252         1   \n",
       "...         ...        ...       ...     ...   ...       ...       ...   \n",
       "8876  15.367134  15.291389         0       0     1  0.083925        38   \n",
       "8877  26.432132  15.521739         0       0     0  0.029193        38   \n",
       "8878  32.824990  12.113593         0       0     0  0.013379        38   \n",
       "8879  18.176028  18.584769         0       0     0  0.073833        38   \n",
       "8880  11.736848  31.473639         0       0     1  0.189348        38   \n",
       "\n",
       "      team1_name       team2_name  \\\n",
       "0        Arsenal   Leicester City   \n",
       "1        Arsenal   Leicester City   \n",
       "2        Arsenal   Leicester City   \n",
       "3        Arsenal   Leicester City   \n",
       "4        Arsenal   Leicester City   \n",
       "...          ...              ...   \n",
       "8876     Burnley  AFC Bournemouth   \n",
       "8877     Burnley  AFC Bournemouth   \n",
       "8878     Burnley  AFC Bournemouth   \n",
       "8879     Burnley  AFC Bournemouth   \n",
       "8880     Burnley  AFC Bournemouth   \n",
       "\n",
       "                                           display_name  \n",
       "0     [1R] Arsenal vs Leicester City, 1H 01:34, xG: ...  \n",
       "1     [1R] Arsenal vs Leicester City, 1H 02:59, xG: ...  \n",
       "2     [1R] Arsenal vs Leicester City, 1H 04:14, xG: ...  \n",
       "3     [1R] Arsenal vs Leicester City, 1H 07:05, xG: ...  \n",
       "4     [1R] Arsenal vs Leicester City, 1H 13:35, xG: ...  \n",
       "...                                                 ...  \n",
       "8876  [38R] Burnley vs AFC Bournemouth, 2H 28:02, xG...  \n",
       "8877  [38R] Burnley vs AFC Bournemouth, 2H 37:47, xG...  \n",
       "8878  [38R] Burnley vs AFC Bournemouth, 2H 43:13, xG...  \n",
       "8879  [38R] Burnley vs AFC Bournemouth, 2H 44:04, xG...  \n",
       "8880  [38R] Burnley vs AFC Bournemouth, 2H 47:19, xG...  \n",
       "\n",
       "[8881 rows x 24 columns]"
      ]
     },
     "execution_count": 10,
     "metadata": {},
     "output_type": "execute_result"
    }
   ],
   "source": [
    "match_df = pd.read_csv('data/refined_events/England/matches.csv', header=0, encoding='utf-8-sig')\n",
    "shots = pd.merge(shots, match_df[['match_id', 'gameweek', 'team1_name', 'team2_name']])\n",
    "shots['display_name'] = shots.apply(\n",
    "    lambda x: f\"[{x['gameweek']}R] {x['team1_name']} vs {x['team2_name']}, \" +\n",
    "    f\"{x['period']} {int(x['time'] // 60):02d}:{int(x['time'] % 60):02d}, xG: {round(x['xg'], 3)}\", axis=1\n",
    ")\n",
    "shots"
   ]
  },
  {
   "cell_type": "markdown",
   "metadata": {},
   "source": [
    "##### (2) 슈팅 위치 및 xG 시각화"
   ]
  },
  {
   "cell_type": "code",
   "execution_count": 11,
   "metadata": {},
   "outputs": [
    {
     "data": {
      "application/vnd.plotly.v1+json": {
       "config": {
        "plotlyServerURL": "https://plot.ly"
       },
       "data": [
        {
         "marker": {
          "color": "darkgrey",
          "size": [
           9.845676877738923,
           12.577488858256752,
           11.614519807757464,
           12.132824881504703,
           17.578087340250477,
           13.71673971095715,
           16.742387568857346,
           5.350873598197654,
           15.898619082687809,
           20.56691157603463,
           10.45407746772774,
           15.950003281120651,
           15.286406212085746,
           17.460550215692216,
           6.767990575945087,
           10.274564490559902,
           8.30212149775134,
           8.407971267931046,
           11.131669540327573,
           15.40033550054464,
           10.557497215575982,
           12.55425593266834,
           26.79584070490834,
           6.524272698455261,
           10.296148162894445,
           8.594548273890267,
           16.36203355025459,
           23.352849517860907,
           7.837046710734991,
           23.097325059475015,
           6.677303219536604,
           21.08962287812559,
           9.495168958031986,
           16.437753783140074,
           14.126675498187295,
           16.06608612722667,
           17.434871983937395,
           13.152268855776603,
           7.678758341318305,
           15.234375413316481,
           15.423341453103845,
           15.423341453103854,
           16.742387568857346,
           4.637597455191882,
           13.01202047617391,
           8.608253315882699,
           11.38736166626191,
           11.298713604752402,
           11.298713604752402,
           13.114629603880312,
           8.658933762190234,
           23.10098489985838,
           11.025901074763583,
           23.267918569385472,
           7.159026944691858,
           12.321980303523313,
           20.885644530756426,
           9.64278618355627
          ],
          "symbol": [
           "circle",
           "circle",
           "circle",
           "circle",
           "circle",
           "circle",
           "circle",
           "circle",
           "circle",
           "circle",
           "circle",
           "circle",
           "circle",
           "circle",
           "circle",
           "circle",
           "circle",
           "circle",
           "circle",
           "circle",
           "circle",
           "circle",
           "circle",
           "circle",
           "circle",
           "circle",
           "circle",
           "circle",
           "circle",
           "circle",
           "circle",
           "circle",
           "circle",
           "circle",
           "circle",
           "circle",
           "circle",
           "circle",
           "circle",
           "circle",
           "circle",
           "circle",
           "circle",
           "circle",
           "circle",
           "circle",
           "circle",
           "circle",
           "circle",
           "circle",
           "circle",
           "circle",
           "circle",
           "circle",
           "circle",
           "circle",
           "circle",
           "circle"
          ]
         },
         "mode": "markers",
         "name": "Failed shot",
         "text": [
          "[3R] Tottenham Hotspur vs Burnley, 1H 00:41, xG: 0.039",
          "[5R] Tottenham Hotspur vs Swansea City, 1H 10:28, xG: 0.063",
          "[5R] Tottenham Hotspur vs Swansea City, 1H 17:28, xG: 0.054",
          "[5R] Tottenham Hotspur vs Swansea City, 2H 11:08, xG: 0.059",
          "[5R] Tottenham Hotspur vs Swansea City, 2H 12:11, xG: 0.124",
          "[5R] Tottenham Hotspur vs Swansea City, 2H 15:26, xG: 0.075",
          "[5R] Tottenham Hotspur vs Swansea City, 2H 18:57, xG: 0.112",
          "[8R] Tottenham Hotspur vs AFC Bournemouth, 2H 05:19, xG: 0.011",
          "[9R] Tottenham Hotspur vs Liverpool, 1H 15:30, xG: 0.101",
          "[9R] Tottenham Hotspur vs Liverpool, 1H 28:18, xG: 0.169",
          "[10R] Manchester United vs Tottenham Hotspur, 1H 16:22, xG: 0.044",
          "[11R] Tottenham Hotspur vs Crystal Palace, 2H 36:23, xG: 0.102",
          "[12R] Arsenal vs Tottenham Hotspur, 2H 39:36, xG: 0.093",
          "[12R] Arsenal vs Tottenham Hotspur, 2H 48:09, xG: 0.122",
          "[13R] Tottenham Hotspur vs West Bromwich Albion, 1H 31:29, xG: 0.018",
          "[13R] Tottenham Hotspur vs West Bromwich Albion, 1H 45:55, xG: 0.042",
          "[13R] Tottenham Hotspur vs West Bromwich Albion, 2H 06:59, xG: 0.028",
          "[13R] Tottenham Hotspur vs West Bromwich Albion, 2H 15:41, xG: 0.028",
          "[16R] Tottenham Hotspur vs Stoke City, 1H 11:31, xG: 0.05",
          "[16R] Tottenham Hotspur vs Stoke City, 1H 24:02, xG: 0.095",
          "[16R] Tottenham Hotspur vs Stoke City, 1H 40:32, xG: 0.045",
          "[17R] Tottenham Hotspur vs Brighton & Hove Albion, 1H 02:35, xG: 0.063",
          "[17R] Tottenham Hotspur vs Brighton & Hove Albion, 1H 23:38, xG: 0.287",
          "[17R] Tottenham Hotspur vs Brighton & Hove Albion, 2H 19:22, xG: 0.017",
          "[18R] Manchester City vs Tottenham Hotspur, 2H 18:39, xG: 0.042",
          "[19R] Burnley vs Tottenham Hotspur, 1H 07:43, xG: 0.03",
          "[19R] Burnley vs Tottenham Hotspur, 1H 14:51, xG: 0.107",
          "[19R] Burnley vs Tottenham Hotspur, 2H 10:15, xG: 0.218",
          "[22R] Swansea City vs Tottenham Hotspur, 2H 04:03, xG: 0.025",
          "[22R] Swansea City vs Tottenham Hotspur, 2H 32:25, xG: 0.213",
          "[21R] Tottenham Hotspur vs West Ham United, 2H 02:36, xG: 0.018",
          "[21R] Tottenham Hotspur vs West Ham United, 2H 13:05, xG: 0.178",
          "[23R] Tottenham Hotspur vs Everton, 1H 14:28, xG: 0.036",
          "[23R] Tottenham Hotspur vs Everton, 2H 01:59, xG: 0.108",
          "[23R] Tottenham Hotspur vs Everton, 2H 12:38, xG: 0.08",
          "[23R] Tottenham Hotspur vs Everton, 2H 31:10, xG: 0.103",
          "[23R] Tottenham Hotspur vs Everton, 2H 34:27, xG: 0.122",
          "[23R] Tottenham Hotspur vs Everton, 2H 38:30, xG: 0.069",
          "[25R] Tottenham Hotspur vs Manchester United, 1H 32:58, xG: 0.024",
          "[25R] Tottenham Hotspur vs Manchester United, 2H 03:53, xG: 0.093",
          "[25R] Tottenham Hotspur vs Manchester United, 2H 23:34, xG: 0.095",
          "[26R] Liverpool vs Tottenham Hotspur, 1H 16:10, xG: 0.095",
          "[26R] Liverpool vs Tottenham Hotspur, 2H 11:55, xG: 0.112",
          "[27R] Tottenham Hotspur vs Arsenal, 1H 17:21, xG: 0.009",
          "[27R] Tottenham Hotspur vs Arsenal, 2H 24:07, xG: 0.068",
          "[29R] Tottenham Hotspur vs Huddersfield Town, 1H 15:05, xG: 0.03",
          "[29R] Tottenham Hotspur vs Huddersfield Town, 1H 36:02, xG: 0.052",
          "[30R] AFC Bournemouth vs Tottenham Hotspur, 2H 19:42, xG: 0.051",
          "[30R] AFC Bournemouth vs Tottenham Hotspur, 2H 25:44, xG: 0.051",
          "[30R] AFC Bournemouth vs Tottenham Hotspur, 2H 42:54, xG: 0.069",
          "[32R] Chelsea vs Tottenham Hotspur, 2H 14:55, xG: 0.03",
          "[32R] Chelsea vs Tottenham Hotspur, 2H 20:20, xG: 0.213",
          "[33R] Stoke City vs Tottenham Hotspur, 1H 10:42, xG: 0.049",
          "[33R] Stoke City vs Tottenham Hotspur, 1H 22:55, xG: 0.217",
          "[34R] Tottenham Hotspur vs Manchester City, 2H 39:31, xG: 0.021",
          "[35R] Brighton & Hove Albion vs Tottenham Hotspur, 1H 22:25, xG: 0.061",
          "[35R] Brighton & Hove Albion vs Tottenham Hotspur, 1H 48:55, xG: 0.174",
          "[37R] West Bromwich Albion vs Tottenham Hotspur, 2H 42:43, xG: 0.037"
         ],
         "type": "scatter",
         "x": [
          90.48,
          96.72,
          82.16,
          84.24000000000001,
          99.84,
          86.32000000000001,
          92.56,
          75.92,
          94.64,
          93.60000000000001,
          83.2,
          93.60000000000001,
          90.48,
          88.4,
          78,
          90.48,
          80.08,
          82.16,
          84.24000000000001,
          90.48,
          91.52000000000001,
          91.52000000000001,
          100.88000000000001,
          75.92,
          82.16,
          78,
          90.48,
          92.56,
          86.32000000000001,
          97.76,
          95.68,
          92.56,
          92.56,
          94.64,
          85.28,
          92.56,
          93.60000000000001,
          90.48,
          79.04,
          86.32000000000001,
          93.60000000000001,
          93.60000000000001,
          92.56,
          75.92,
          84.24000000000001,
          85.28,
          97.76,
          95.68,
          95.68,
          95.68,
          82.16,
          94.64,
          93.60000000000001,
          92.56,
          82.16,
          94.64,
          91.52000000000001,
          88.4
         ],
         "y": [
          51.00000000000001,
          48.96,
          34,
          40.800000000000004,
          23.799999999999997,
          27.880000000000003,
          43.52,
          17.68,
          23.120000000000005,
          40.800000000000004,
          25.16,
          44.88,
          43.52,
          35.36,
          48.28,
          50.32,
          45.56,
          21.080000000000002,
          43.52,
          25.159999999999997,
          50.32,
          47.6,
          27.880000000000003,
          23.12,
          26.520000000000003,
          39.440000000000005,
          42.160000000000004,
          35.36,
          16.32,
          41.480000000000004,
          57.800000000000004,
          29.240000000000002,
          44.88,
          44.88,
          32.64,
          44.2,
          43.52,
          46.24,
          46.24,
          34,
          23.12,
          23.120000000000005,
          43.52,
          55.080000000000005,
          37.400000000000006,
          50.32,
          50.32,
          18.36,
          18.36,
          48.28,
          21.760000000000005,
          28.560000000000002,
          50.32,
          32.64,
          17.68,
          48.96,
          37.400000000000006,
          50.32
         ]
        },
        {
         "marker": {
          "color": "red",
          "size": [
           20.147970659784743,
           14.221342272305165,
           25.111469904687965,
           24.474501618241728,
           13.701763963749821,
           16.71635496937716,
           6.077971646425299,
           41.26629127618485,
           12.927420960807343,
           15.110129567664243,
           13.198771395698945,
           13.917345244369391
          ],
          "symbol": [
           "circle",
           "circle",
           "circle",
           "circle",
           "circle",
           "circle",
           "circle",
           "circle",
           "circle",
           "circle",
           "circle",
           "circle"
          ]
         },
         "mode": "markers",
         "name": "Goal",
         "text": [
          "[9R] Tottenham Hotspur vs Liverpool, 1H 11:18, xG: 0.162",
          "[11R] Tottenham Hotspur vs Crystal Palace, 2H 18:25, xG: 0.081",
          "[15R] Watford vs Tottenham Hotspur, 1H 24:39, xG: 0.252",
          "[16R] Tottenham Hotspur vs Stoke City, 2H 07:21, xG: 0.24",
          "[17R] Tottenham Hotspur vs Brighton & Hove Albion, 2H 41:50, xG: 0.075",
          "[20R] Tottenham Hotspur vs Southampton, 2H 05:40, xG: 0.112",
          "[21R] Tottenham Hotspur vs West Ham United, 2H 38:12, xG: 0.015",
          "[23R] Tottenham Hotspur vs Everton, 1H 25:09, xG: 0.681",
          "[29R] Tottenham Hotspur vs Huddersfield Town, 1H 26:49, xG: 0.067",
          "[29R] Tottenham Hotspur vs Huddersfield Town, 2H 08:45, xG: 0.091",
          "[30R] AFC Bournemouth vs Tottenham Hotspur, 2H 16:41, xG: 0.07",
          "[30R] AFC Bournemouth vs Tottenham Hotspur, 2H 41:28, xG: 0.077"
         ],
         "type": "scatter",
         "x": [
          92.56,
          85.28,
          98.8,
          95.68,
          98.8,
          94.64,
          71.76,
          99.84,
          94.64,
          94.64,
          95.68,
          96.72
         ],
         "y": [
          40.120000000000005,
          34,
          40.800000000000004,
          28.560000000000002,
          25.840000000000003,
          23.799999999999997,
          34,
          33.32,
          48.28,
          39.440000000000005,
          20.400000000000006,
          47.6
         ]
        }
       ],
       "layout": {
        "autosize": false,
        "height": 600,
        "hovermode": "closest",
        "plot_bgcolor": "rgb(255, 255, 255)",
        "shapes": [
         {
          "line": {
           "color": "black"
          },
          "type": "circle",
          "x0": 41.6,
          "x1": 62.4,
          "xref": "x",
          "y0": 23.799999999999997,
          "y1": 44.2,
          "yref": "y"
         },
         {
          "line": {
           "color": "black"
          },
          "type": "line",
          "x0": 0,
          "x1": 20.8,
          "xref": "x",
          "y0": 11.22,
          "y1": 11.22,
          "yref": "y"
         },
         {
          "line": {
           "color": "black"
          },
          "type": "line",
          "x0": 20.8,
          "x1": 20.8,
          "xref": "x",
          "y0": 11.22,
          "y1": 56.78,
          "yref": "y"
         },
         {
          "line": {
           "color": "black"
          },
          "type": "line",
          "x0": 20.8,
          "x1": 0,
          "xref": "x",
          "y0": 56.78,
          "y1": 56.78,
          "yref": "y"
         },
         {
          "line": {
           "color": "black"
          },
          "type": "line",
          "x0": 104,
          "x1": 83.2,
          "xref": "x",
          "y0": 11.22,
          "y1": 11.22,
          "yref": "y"
         },
         {
          "line": {
           "color": "black"
          },
          "type": "line",
          "x0": 83.2,
          "x1": 83.2,
          "xref": "x",
          "y0": 11.22,
          "y1": 56.78,
          "yref": "y"
         },
         {
          "line": {
           "color": "black"
          },
          "type": "line",
          "x0": 83.2,
          "x1": 104,
          "xref": "x",
          "y0": 56.78,
          "y1": 56.78,
          "yref": "y"
         },
         {
          "line": {
           "color": "black"
          },
          "type": "line",
          "x0": 0,
          "x1": 5.72,
          "xref": "x",
          "y0": 23.799999999999997,
          "y1": 23.799999999999997,
          "yref": "y"
         },
         {
          "line": {
           "color": "black"
          },
          "type": "line",
          "x0": 5.72,
          "x1": 5.72,
          "xref": "x",
          "y0": 23.799999999999997,
          "y1": 44.2,
          "yref": "y"
         },
         {
          "line": {
           "color": "black"
          },
          "type": "line",
          "x0": 5.72,
          "x1": 0,
          "xref": "x",
          "y0": 44.2,
          "y1": 44.2,
          "yref": "y"
         },
         {
          "line": {
           "color": "black"
          },
          "type": "line",
          "x0": 104,
          "x1": 98.28,
          "xref": "x",
          "y0": 23.799999999999997,
          "y1": 23.799999999999997,
          "yref": "y"
         },
         {
          "line": {
           "color": "black"
          },
          "type": "line",
          "x0": 98.28,
          "x1": 98.28,
          "xref": "x",
          "y0": 23.799999999999997,
          "y1": 44.2,
          "yref": "y"
         },
         {
          "line": {
           "color": "black"
          },
          "type": "line",
          "x0": 98.28,
          "x1": 104,
          "xref": "x",
          "y0": 44.2,
          "y1": 44.2,
          "yref": "y"
         },
         {
          "line": {
           "color": "black"
          },
          "type": "line",
          "x0": 52,
          "x1": 52,
          "xref": "x",
          "y0": 68,
          "y1": 0,
          "yref": "y"
         },
         {
          "line": {
           "color": "black"
          },
          "type": "line",
          "x0": 0,
          "x1": 0,
          "xref": "x",
          "y0": 0,
          "y1": 68,
          "yref": "y"
         },
         {
          "line": {
           "color": "black"
          },
          "type": "line",
          "x0": 104,
          "x1": 104,
          "xref": "x",
          "y0": 0,
          "y1": 68,
          "yref": "y"
         },
         {
          "line": {
           "color": "black"
          },
          "type": "line",
          "x0": 0,
          "x1": 104,
          "xref": "x",
          "y0": 68,
          "y1": 68,
          "yref": "y"
         },
         {
          "line": {
           "color": "black"
          },
          "type": "line",
          "x0": 0,
          "x1": 104,
          "xref": "x",
          "y0": 0,
          "y1": 0,
          "yref": "y"
         }
        ],
        "template": {
         "data": {
          "bar": [
           {
            "error_x": {
             "color": "#2a3f5f"
            },
            "error_y": {
             "color": "#2a3f5f"
            },
            "marker": {
             "line": {
              "color": "#E5ECF6",
              "width": 0.5
             },
             "pattern": {
              "fillmode": "overlay",
              "size": 10,
              "solidity": 0.2
             }
            },
            "type": "bar"
           }
          ],
          "barpolar": [
           {
            "marker": {
             "line": {
              "color": "#E5ECF6",
              "width": 0.5
             },
             "pattern": {
              "fillmode": "overlay",
              "size": 10,
              "solidity": 0.2
             }
            },
            "type": "barpolar"
           }
          ],
          "carpet": [
           {
            "aaxis": {
             "endlinecolor": "#2a3f5f",
             "gridcolor": "white",
             "linecolor": "white",
             "minorgridcolor": "white",
             "startlinecolor": "#2a3f5f"
            },
            "baxis": {
             "endlinecolor": "#2a3f5f",
             "gridcolor": "white",
             "linecolor": "white",
             "minorgridcolor": "white",
             "startlinecolor": "#2a3f5f"
            },
            "type": "carpet"
           }
          ],
          "choropleth": [
           {
            "colorbar": {
             "outlinewidth": 0,
             "ticks": ""
            },
            "type": "choropleth"
           }
          ],
          "contour": [
           {
            "colorbar": {
             "outlinewidth": 0,
             "ticks": ""
            },
            "colorscale": [
             [
              0,
              "#0d0887"
             ],
             [
              0.1111111111111111,
              "#46039f"
             ],
             [
              0.2222222222222222,
              "#7201a8"
             ],
             [
              0.3333333333333333,
              "#9c179e"
             ],
             [
              0.4444444444444444,
              "#bd3786"
             ],
             [
              0.5555555555555556,
              "#d8576b"
             ],
             [
              0.6666666666666666,
              "#ed7953"
             ],
             [
              0.7777777777777778,
              "#fb9f3a"
             ],
             [
              0.8888888888888888,
              "#fdca26"
             ],
             [
              1,
              "#f0f921"
             ]
            ],
            "type": "contour"
           }
          ],
          "contourcarpet": [
           {
            "colorbar": {
             "outlinewidth": 0,
             "ticks": ""
            },
            "type": "contourcarpet"
           }
          ],
          "heatmap": [
           {
            "colorbar": {
             "outlinewidth": 0,
             "ticks": ""
            },
            "colorscale": [
             [
              0,
              "#0d0887"
             ],
             [
              0.1111111111111111,
              "#46039f"
             ],
             [
              0.2222222222222222,
              "#7201a8"
             ],
             [
              0.3333333333333333,
              "#9c179e"
             ],
             [
              0.4444444444444444,
              "#bd3786"
             ],
             [
              0.5555555555555556,
              "#d8576b"
             ],
             [
              0.6666666666666666,
              "#ed7953"
             ],
             [
              0.7777777777777778,
              "#fb9f3a"
             ],
             [
              0.8888888888888888,
              "#fdca26"
             ],
             [
              1,
              "#f0f921"
             ]
            ],
            "type": "heatmap"
           }
          ],
          "heatmapgl": [
           {
            "colorbar": {
             "outlinewidth": 0,
             "ticks": ""
            },
            "colorscale": [
             [
              0,
              "#0d0887"
             ],
             [
              0.1111111111111111,
              "#46039f"
             ],
             [
              0.2222222222222222,
              "#7201a8"
             ],
             [
              0.3333333333333333,
              "#9c179e"
             ],
             [
              0.4444444444444444,
              "#bd3786"
             ],
             [
              0.5555555555555556,
              "#d8576b"
             ],
             [
              0.6666666666666666,
              "#ed7953"
             ],
             [
              0.7777777777777778,
              "#fb9f3a"
             ],
             [
              0.8888888888888888,
              "#fdca26"
             ],
             [
              1,
              "#f0f921"
             ]
            ],
            "type": "heatmapgl"
           }
          ],
          "histogram": [
           {
            "marker": {
             "pattern": {
              "fillmode": "overlay",
              "size": 10,
              "solidity": 0.2
             }
            },
            "type": "histogram"
           }
          ],
          "histogram2d": [
           {
            "colorbar": {
             "outlinewidth": 0,
             "ticks": ""
            },
            "colorscale": [
             [
              0,
              "#0d0887"
             ],
             [
              0.1111111111111111,
              "#46039f"
             ],
             [
              0.2222222222222222,
              "#7201a8"
             ],
             [
              0.3333333333333333,
              "#9c179e"
             ],
             [
              0.4444444444444444,
              "#bd3786"
             ],
             [
              0.5555555555555556,
              "#d8576b"
             ],
             [
              0.6666666666666666,
              "#ed7953"
             ],
             [
              0.7777777777777778,
              "#fb9f3a"
             ],
             [
              0.8888888888888888,
              "#fdca26"
             ],
             [
              1,
              "#f0f921"
             ]
            ],
            "type": "histogram2d"
           }
          ],
          "histogram2dcontour": [
           {
            "colorbar": {
             "outlinewidth": 0,
             "ticks": ""
            },
            "colorscale": [
             [
              0,
              "#0d0887"
             ],
             [
              0.1111111111111111,
              "#46039f"
             ],
             [
              0.2222222222222222,
              "#7201a8"
             ],
             [
              0.3333333333333333,
              "#9c179e"
             ],
             [
              0.4444444444444444,
              "#bd3786"
             ],
             [
              0.5555555555555556,
              "#d8576b"
             ],
             [
              0.6666666666666666,
              "#ed7953"
             ],
             [
              0.7777777777777778,
              "#fb9f3a"
             ],
             [
              0.8888888888888888,
              "#fdca26"
             ],
             [
              1,
              "#f0f921"
             ]
            ],
            "type": "histogram2dcontour"
           }
          ],
          "mesh3d": [
           {
            "colorbar": {
             "outlinewidth": 0,
             "ticks": ""
            },
            "type": "mesh3d"
           }
          ],
          "parcoords": [
           {
            "line": {
             "colorbar": {
              "outlinewidth": 0,
              "ticks": ""
             }
            },
            "type": "parcoords"
           }
          ],
          "pie": [
           {
            "automargin": true,
            "type": "pie"
           }
          ],
          "scatter": [
           {
            "fillpattern": {
             "fillmode": "overlay",
             "size": 10,
             "solidity": 0.2
            },
            "type": "scatter"
           }
          ],
          "scatter3d": [
           {
            "line": {
             "colorbar": {
              "outlinewidth": 0,
              "ticks": ""
             }
            },
            "marker": {
             "colorbar": {
              "outlinewidth": 0,
              "ticks": ""
             }
            },
            "type": "scatter3d"
           }
          ],
          "scattercarpet": [
           {
            "marker": {
             "colorbar": {
              "outlinewidth": 0,
              "ticks": ""
             }
            },
            "type": "scattercarpet"
           }
          ],
          "scattergeo": [
           {
            "marker": {
             "colorbar": {
              "outlinewidth": 0,
              "ticks": ""
             }
            },
            "type": "scattergeo"
           }
          ],
          "scattergl": [
           {
            "marker": {
             "colorbar": {
              "outlinewidth": 0,
              "ticks": ""
             }
            },
            "type": "scattergl"
           }
          ],
          "scattermapbox": [
           {
            "marker": {
             "colorbar": {
              "outlinewidth": 0,
              "ticks": ""
             }
            },
            "type": "scattermapbox"
           }
          ],
          "scatterpolar": [
           {
            "marker": {
             "colorbar": {
              "outlinewidth": 0,
              "ticks": ""
             }
            },
            "type": "scatterpolar"
           }
          ],
          "scatterpolargl": [
           {
            "marker": {
             "colorbar": {
              "outlinewidth": 0,
              "ticks": ""
             }
            },
            "type": "scatterpolargl"
           }
          ],
          "scatterternary": [
           {
            "marker": {
             "colorbar": {
              "outlinewidth": 0,
              "ticks": ""
             }
            },
            "type": "scatterternary"
           }
          ],
          "surface": [
           {
            "colorbar": {
             "outlinewidth": 0,
             "ticks": ""
            },
            "colorscale": [
             [
              0,
              "#0d0887"
             ],
             [
              0.1111111111111111,
              "#46039f"
             ],
             [
              0.2222222222222222,
              "#7201a8"
             ],
             [
              0.3333333333333333,
              "#9c179e"
             ],
             [
              0.4444444444444444,
              "#bd3786"
             ],
             [
              0.5555555555555556,
              "#d8576b"
             ],
             [
              0.6666666666666666,
              "#ed7953"
             ],
             [
              0.7777777777777778,
              "#fb9f3a"
             ],
             [
              0.8888888888888888,
              "#fdca26"
             ],
             [
              1,
              "#f0f921"
             ]
            ],
            "type": "surface"
           }
          ],
          "table": [
           {
            "cells": {
             "fill": {
              "color": "#EBF0F8"
             },
             "line": {
              "color": "white"
             }
            },
            "header": {
             "fill": {
              "color": "#C8D4E3"
             },
             "line": {
              "color": "white"
             }
            },
            "type": "table"
           }
          ]
         },
         "layout": {
          "annotationdefaults": {
           "arrowcolor": "#2a3f5f",
           "arrowhead": 0,
           "arrowwidth": 1
          },
          "autotypenumbers": "strict",
          "coloraxis": {
           "colorbar": {
            "outlinewidth": 0,
            "ticks": ""
           }
          },
          "colorscale": {
           "diverging": [
            [
             0,
             "#8e0152"
            ],
            [
             0.1,
             "#c51b7d"
            ],
            [
             0.2,
             "#de77ae"
            ],
            [
             0.3,
             "#f1b6da"
            ],
            [
             0.4,
             "#fde0ef"
            ],
            [
             0.5,
             "#f7f7f7"
            ],
            [
             0.6,
             "#e6f5d0"
            ],
            [
             0.7,
             "#b8e186"
            ],
            [
             0.8,
             "#7fbc41"
            ],
            [
             0.9,
             "#4d9221"
            ],
            [
             1,
             "#276419"
            ]
           ],
           "sequential": [
            [
             0,
             "#0d0887"
            ],
            [
             0.1111111111111111,
             "#46039f"
            ],
            [
             0.2222222222222222,
             "#7201a8"
            ],
            [
             0.3333333333333333,
             "#9c179e"
            ],
            [
             0.4444444444444444,
             "#bd3786"
            ],
            [
             0.5555555555555556,
             "#d8576b"
            ],
            [
             0.6666666666666666,
             "#ed7953"
            ],
            [
             0.7777777777777778,
             "#fb9f3a"
            ],
            [
             0.8888888888888888,
             "#fdca26"
            ],
            [
             1,
             "#f0f921"
            ]
           ],
           "sequentialminus": [
            [
             0,
             "#0d0887"
            ],
            [
             0.1111111111111111,
             "#46039f"
            ],
            [
             0.2222222222222222,
             "#7201a8"
            ],
            [
             0.3333333333333333,
             "#9c179e"
            ],
            [
             0.4444444444444444,
             "#bd3786"
            ],
            [
             0.5555555555555556,
             "#d8576b"
            ],
            [
             0.6666666666666666,
             "#ed7953"
            ],
            [
             0.7777777777777778,
             "#fb9f3a"
            ],
            [
             0.8888888888888888,
             "#fdca26"
            ],
            [
             1,
             "#f0f921"
            ]
           ]
          },
          "colorway": [
           "#636efa",
           "#EF553B",
           "#00cc96",
           "#ab63fa",
           "#FFA15A",
           "#19d3f3",
           "#FF6692",
           "#B6E880",
           "#FF97FF",
           "#FECB52"
          ],
          "font": {
           "color": "#2a3f5f"
          },
          "geo": {
           "bgcolor": "white",
           "lakecolor": "white",
           "landcolor": "#E5ECF6",
           "showlakes": true,
           "showland": true,
           "subunitcolor": "white"
          },
          "hoverlabel": {
           "align": "left"
          },
          "hovermode": "closest",
          "mapbox": {
           "style": "light"
          },
          "paper_bgcolor": "white",
          "plot_bgcolor": "#E5ECF6",
          "polar": {
           "angularaxis": {
            "gridcolor": "white",
            "linecolor": "white",
            "ticks": ""
           },
           "bgcolor": "#E5ECF6",
           "radialaxis": {
            "gridcolor": "white",
            "linecolor": "white",
            "ticks": ""
           }
          },
          "scene": {
           "xaxis": {
            "backgroundcolor": "#E5ECF6",
            "gridcolor": "white",
            "gridwidth": 2,
            "linecolor": "white",
            "showbackground": true,
            "ticks": "",
            "zerolinecolor": "white"
           },
           "yaxis": {
            "backgroundcolor": "#E5ECF6",
            "gridcolor": "white",
            "gridwidth": 2,
            "linecolor": "white",
            "showbackground": true,
            "ticks": "",
            "zerolinecolor": "white"
           },
           "zaxis": {
            "backgroundcolor": "#E5ECF6",
            "gridcolor": "white",
            "gridwidth": 2,
            "linecolor": "white",
            "showbackground": true,
            "ticks": "",
            "zerolinecolor": "white"
           }
          },
          "shapedefaults": {
           "line": {
            "color": "#2a3f5f"
           }
          },
          "ternary": {
           "aaxis": {
            "gridcolor": "white",
            "linecolor": "white",
            "ticks": ""
           },
           "baxis": {
            "gridcolor": "white",
            "linecolor": "white",
            "ticks": ""
           },
           "bgcolor": "#E5ECF6",
           "caxis": {
            "gridcolor": "white",
            "linecolor": "white",
            "ticks": ""
           }
          },
          "title": {
           "x": 0.05
          },
          "xaxis": {
           "automargin": true,
           "gridcolor": "white",
           "linecolor": "white",
           "ticks": "",
           "title": {
            "standoff": 15
           },
           "zerolinecolor": "white",
           "zerolinewidth": 2
          },
          "yaxis": {
           "automargin": true,
           "gridcolor": "white",
           "linecolor": "white",
           "ticks": "",
           "title": {
            "standoff": 15
           },
           "zerolinecolor": "white",
           "zerolinewidth": 2
          }
         }
        },
        "title": {
         "text": "Son Heung-Min - Goals: 12, xG: 6.663 "
        },
        "width": 825,
        "xaxis": {
         "range": [
          0,
          104
         ],
         "showgrid": false,
         "showticklabels": false
        },
        "yaxis": {
         "range": [
          0,
          68
         ],
         "showgrid": false,
         "showticklabels": false
        }
       }
      }
     },
     "metadata": {},
     "output_type": "display_data"
    }
   ],
   "source": [
    "player_name = 'Son Heung-Min'\n",
    "# player_name = 'Mohamed Salah'\n",
    "# player_name = 'K. De Bruyne'\n",
    "\n",
    "player_shots = shots[shots['player_name'] == player_name]\n",
    "player_goals = player_shots[player_shots['tags'].apply(lambda x: 'Goal' in x)]\n",
    "player_shots_failed = player_shots[player_shots['tags'].apply(lambda x: 'Goal' not in x)]\n",
    "\n",
    "goal_trace = go.Scatter(\n",
    "    x=104 - player_goals['x'],\n",
    "    y=34 + player_goals['y'],\n",
    "    name='Goal',\n",
    "    text=player_goals['display_name'],\n",
    "    mode='markers',\n",
    "    marker=dict(\n",
    "        color='red', size=np.sqrt(player_goals['xg']) * 50, \n",
    "        symbol=player_goals['freekick'].apply(lambda x: 'square' if x == 1 else 'circle')\n",
    "    )\n",
    ")\n",
    "\n",
    "shot_trace = go.Scatter(\n",
    "    x=104 - player_shots_failed['x'],\n",
    "    y=34 + player_shots_failed['y'],\n",
    "    name='Failed shot',\n",
    "    text=player_shots_failed['display_name'],\n",
    "    mode='markers',\n",
    "    marker=dict(\n",
    "        color='darkgrey', size=np.sqrt(player_shots_failed['xg']) * 50, \n",
    "        symbol=player_shots_failed['freekick'].apply(lambda x: 'square' if x == 1 else 'circle')\n",
    "    )\n",
    ")\n",
    "\n",
    "title = f\"{player_name} - Goals: {player_shots['goal'].sum()}, xG: {round(player_shots['xg'].sum(), 3)} \"\n",
    "fig = go.Figure(data=[shot_trace, goal_trace], layout=get_pitch_layout(title))\n",
    "fig.show()"
   ]
  }
 ],
 "metadata": {
  "kernelspec": {
   "display_name": "Python 3.8.13 ('class101')",
   "language": "python",
   "name": "python3"
  },
  "language_info": {
   "codemirror_mode": {
    "name": "ipython",
    "version": 3
   },
   "file_extension": ".py",
   "mimetype": "text/x-python",
   "name": "python",
   "nbconvert_exporter": "python",
   "pygments_lexer": "ipython3",
   "version": "3.8.19"
  },
  "orig_nbformat": 4,
  "vscode": {
   "interpreter": {
    "hash": "b2229428593ed30f482d105244b52f2214d62638ed0cc5078189e23a80557466"
   }
  }
 },
 "nbformat": 4,
 "nbformat_minor": 2
}
