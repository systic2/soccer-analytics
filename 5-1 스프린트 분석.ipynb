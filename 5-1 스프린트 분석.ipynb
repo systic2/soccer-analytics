{
 "cells": [
  {
   "cell_type": "markdown",
   "metadata": {},
   "source": [
    "### 강의에서 소개된 파이썬 주요 기능\n",
    "- matplotlib.pyplot.axvspan: https://matplotlib.org/stable/api/_as_gen/matplotlib.pyplot.axvspan.html\n",
    "- matplotlib.animation.FuncAnimation: https://matplotlib.org/stable/api/_as_gen/matplotlib.animation.FuncAnimation.html\n",
    "- matplotlib.colors.Normalize: https://matplotlib.org/stable/api/_as_gen/matplotlib.colors.Normalize.html"
   ]
  },
  {
   "cell_type": "markdown",
   "metadata": {},
   "source": [
    "### 스프린트 검출"
   ]
  },
  {
   "cell_type": "markdown",
   "metadata": {},
   "source": [
    "##### (1) 가공 데이터 불러오기"
   ]
  },
  {
   "cell_type": "code",
   "execution_count": null,
   "metadata": {},
   "outputs": [],
   "source": [
    "import os\n",
    "import numpy as np\n",
    "import pandas as pd\n",
    "from tqdm import tqdm\n",
    "import matplotlib as mpl\n",
    "import matplotlib.pyplot as plt\n",
    "from matplotlib import animation\n",
    "from IPython.display import HTML\n",
    "from src.plot_utils import draw_pitch\n",
    "\n",
    "mpl.rcParams['animation.embed_limit'] = 100"
   ]
  },
  {
   "cell_type": "code",
   "execution_count": null,
   "metadata": {},
   "outputs": [],
   "source": [
    "match_id = 1\n",
    "file = f'data_metrica/Sample_Game_{match_id}/Sample_Game_{match_id}_IntegratedData_Reshaped.csv'\n",
    "long_traces = pd.read_csv(file, header=0, index_col=0)\n",
    "long_traces"
   ]
  },
  {
   "cell_type": "markdown",
   "metadata": {},
   "source": [
    "##### (2) 시간-속력 그래프 애니메이션 시각화"
   ]
  },
  {
   "cell_type": "code",
   "execution_count": null,
   "metadata": {},
   "outputs": [],
   "source": [
    "player_id = 8\n",
    "player_trace = long_traces[long_traces['player_id'] == player_id]\n",
    "\n",
    "fig, ax = plt.subplots(figsize=(15, 5))\n",
    "line, = ax.plot(player_trace['time'], player_trace['speed'], color='grey')\n",
    "\n",
    "width = 60\n",
    "ax.axhline(7, color='blue')\n",
    "ax.axhline(15, color='green')\n",
    "ax.axhline(20, color='orange')\n",
    "ax.axhline(25, color='red')\n",
    "ax.grid()\n",
    "\n",
    "ax.set_xlabel('Time [s]', fontsize=15)\n",
    "ax.set_ylabel('Speed [m/s]', fontsize=15)\n",
    "for label in (ax.get_xticklabels() + ax.get_yticklabels()):\n",
    "    label.set_fontsize(15)\n",
    "\n",
    "ax.set(xlim=(0, width), ylim=(0, 40))\n",
    "plt.show()"
   ]
  },
  {
   "cell_type": "code",
   "execution_count": null,
   "metadata": {},
   "outputs": [],
   "source": [
    "def animate(i):\n",
    "    ax.set_xlim(10 * i, 10 * i + width)\n",
    "    return line,\n",
    "\n",
    "frames = int((player_trace['time'].max() - width) // 10 + 1)\n",
    "anim = animation.FuncAnimation(fig, animate, frames=frames, interval=200, blit=True)\n",
    "plt.close(fig)\n",
    "HTML(anim.to_jshtml())"
   ]
  },
  {
   "cell_type": "markdown",
   "metadata": {},
   "source": [
    "##### (3) 고속 주행 시간 간격을 활용한 선수 스프린트 검출"
   ]
  },
  {
   "cell_type": "code",
   "execution_count": null,
   "metadata": {},
   "outputs": [],
   "source": [
    "high_speed_slices = player_trace[player_trace['speed'] >= 25]\n",
    "high_speed_slices[100:120]"
   ]
  },
  {
   "cell_type": "code",
   "execution_count": null,
   "metadata": {},
   "outputs": [],
   "source": [
    "high_speed_slices['time_diff'] = high_speed_slices['time'].diff()\n",
    "high_speed_slices[high_speed_slices['time_diff'] > 0.5]"
   ]
  },
  {
   "cell_type": "code",
   "execution_count": null,
   "metadata": {},
   "outputs": [],
   "source": [
    "high_speed_slices['sprint_id'] = (high_speed_slices['time_diff'] > 0.5).astype(int).cumsum() + 1\n",
    "high_speed_slices"
   ]
  },
  {
   "cell_type": "code",
   "execution_count": null,
   "metadata": {},
   "outputs": [],
   "source": [
    "player_sprint_records = pd.DataFrame(index=high_speed_slices['sprint_id'].unique())\n",
    "\n",
    "grouped = high_speed_slices.groupby('sprint_id')\n",
    "player_sprint_records[['period', 'start_frame', 'start_time']] = grouped[['period', 'frame', 'time']].first()\n",
    "player_sprint_records[['end_frame', 'end_time']] = grouped[['frame', 'time']].last()\n",
    "\n",
    "player_sprint_records['start_frame'] = player_sprint_records['start_frame'] - 1\n",
    "player_sprint_records['start_time'] = (player_sprint_records['start_time'] - 0.04).round(2)\n",
    "player_sprint_records['duration'] = player_sprint_records['end_time'] - player_sprint_records['start_time']\n",
    "\n",
    "player_sprint_records['distance'] = grouped['distance'].sum()\n",
    "player_sprint_records['max_speed'] = grouped['speed'].max()\n",
    "\n",
    "player_sprint_records"
   ]
  },
  {
   "cell_type": "markdown",
   "metadata": {},
   "source": [
    "##### (4) 경기 전체 스프린트 검출"
   ]
  },
  {
   "cell_type": "code",
   "execution_count": null,
   "metadata": {},
   "outputs": [],
   "source": [
    "sprint_records_list = []\n",
    "\n",
    "for player_id in tqdm(long_traces['player_id'].unique()):\n",
    "    player_trace = long_traces[long_traces['player_id'] == player_id]\n",
    "    high_speed_slices = player_trace[player_trace['speed'] >= 25]\n",
    "    time_diffs = high_speed_slices['time'].diff()\n",
    "    high_speed_slices['sprint_id'] = (time_diffs > 0.5).astype(int).cumsum() + 1\n",
    "\n",
    "    player_sprint_records = pd.DataFrame(index=high_speed_slices['sprint_id'].unique())\n",
    "\n",
    "    grouped = high_speed_slices.groupby('sprint_id')\n",
    "    player_sprint_records[['period', 'start_frame', 'start_time']] = grouped[['period', 'frame', 'time']].first()\n",
    "    player_sprint_records[['end_frame', 'end_time']] = grouped[['frame', 'time']].last()\n",
    "\n",
    "    player_sprint_records['start_frame'] = player_sprint_records['start_frame'] - 1\n",
    "    player_sprint_records['start_time'] = (player_sprint_records['start_time'] - 0.04).round(2)\n",
    "    player_sprint_records['duration'] = player_sprint_records['end_time'] - player_sprint_records['start_time']\n",
    "\n",
    "    player_sprint_records['distance'] = grouped['distance'].sum()\n",
    "    player_sprint_records['max_speed'] = grouped['speed'].max()\n",
    "\n",
    "    player_sprint_records['team'] = player_trace['team'].iloc[0]\n",
    "    player_sprint_records['player_id'] = player_id\n",
    "    sprint_records_list.append(player_sprint_records[player_sprint_records['duration'] >= 0.5])\n",
    "\n",
    "sprint_records = pd.concat(sprint_records_list)\n",
    "cols = sprint_records.columns.tolist()[-2:] + sprint_records.columns.tolist()[:-2]\n",
    "sprint_records = sprint_records[cols].sort_values(['period', 'start_time'])\n",
    "\n",
    "sprint_records.index = np.arange(len(sprint_records)) + 1\n",
    "sprint_records.index.name = 'sprint_id'\n",
    "sprint_records"
   ]
  },
  {
   "cell_type": "markdown",
   "metadata": {},
   "source": [
    "##### (5) 선수별 스프린트 횟수 집계"
   ]
  },
  {
   "cell_type": "code",
   "execution_count": null,
   "metadata": {},
   "outputs": [],
   "source": [
    "durations = long_traces[['player_id', 'x']].dropna().groupby('player_id').count() * 0.04\n",
    "distances = long_traces.groupby('player_id')['distance'].sum()\n",
    "durations.columns = ['duration']\n",
    "stats = pd.concat([durations, distances], axis=1)\n",
    "stats['dist_1min'] = stats['distance'] / stats['duration'] * 60\n",
    "\n",
    "speed_bins = [0, 7, 15, 20, 25, 50]\n",
    "speed_cats = pd.cut(long_traces['speed'], speed_bins, right=False, labels=np.arange(1, 6))\n",
    "distances_by_speed = long_traces.pivot_table('distance', index='player_id', columns=speed_cats, aggfunc='sum')\n",
    "distances_by_speed.columns = [f'zone{i}_dist' for i in distances_by_speed.columns]\n",
    "stats = pd.concat([stats, distances_by_speed], axis=1)\n",
    "\n",
    "grouped = long_traces.groupby('player_id')\n",
    "stats['max_speed'] = grouped['speed'].max()\n",
    "stats['mean_x'] = grouped['x'].mean()\n",
    "stats['mean_y'] = grouped['y'].mean()\n",
    "stats['team'] = grouped['team'].first()\n",
    "stats = stats.reset_index().set_index(['team', 'player_id']).round(2)\n",
    "stats"
   ]
  },
  {
   "cell_type": "code",
   "execution_count": null,
   "metadata": {},
   "outputs": [],
   "source": [
    "stats['sprint_count'] = sprint_records.groupby(['team', 'player_id'])['start_time'].count()\n",
    "stats['sprint_count'] = stats['sprint_count'].fillna(0).astype(int)\n",
    "stats"
   ]
  },
  {
   "cell_type": "markdown",
   "metadata": {},
   "source": [
    "### 스프린트 시각화"
   ]
  },
  {
   "cell_type": "markdown",
   "metadata": {},
   "source": [
    "##### (1) 선수별 시간-속력 그래프에 스프린트 시점 표시"
   ]
  },
  {
   "cell_type": "code",
   "execution_count": null,
   "metadata": {},
   "outputs": [],
   "source": [
    "player_id = 8\n",
    "player_trace = long_traces[long_traces['player_id'] == player_id].set_index('frame')\n",
    "player_sprint_records = sprint_records[sprint_records['player_id'] == player_id]\n",
    "player_sprint_records"
   ]
  },
  {
   "cell_type": "code",
   "execution_count": null,
   "metadata": {},
   "outputs": [],
   "source": [
    "fig, ax = plt.subplots(figsize=(15, 5))\n",
    "\n",
    "width = 60\n",
    "ax.set(xlim=(0, width), ylim=(0, 40))\n",
    "ax.axhline(7, color='blue')\n",
    "ax.axhline(15, color='green')\n",
    "ax.axhline(20, color='orange')\n",
    "ax.axhline(25, color='red')\n",
    "ax.grid()\n",
    "\n",
    "ax.set_xlabel('Time [s]', fontsize=15)\n",
    "ax.set_ylabel('Speed [m/s]', fontsize=15)\n",
    "for label in (ax.get_xticklabels() + ax.get_yticklabels()):\n",
    "    label.set_fontsize(15)\n",
    "\n",
    "line, = ax.plot(player_trace['time'], player_trace['speed'], color='grey')\n",
    "for i in player_sprint_records.index:\n",
    "    start_time = player_sprint_records.at[i, 'start_time']\n",
    "    end_time = player_sprint_records.at[i, 'end_time']\n",
    "    ax.axvspan(start_time, end_time, color='red', alpha=0.5)\n",
    "\n",
    "def animate(i):\n",
    "    ax.set_xlim(10 * i, 10 * i + width)\n",
    "    return line,\n",
    "\n",
    "frames = int((player_trace['time'].max() - width) // 10 + 1)\n",
    "anim = animation.FuncAnimation(fig, animate, frames=frames, interval=200, blit=True)\n",
    "plt.close(fig)\n",
    "HTML(anim.to_jshtml())"
   ]
  },
  {
   "cell_type": "markdown",
   "metadata": {},
   "source": [
    "##### (2) 선수별 전체 스프린트 경로 시각화"
   ]
  },
  {
   "cell_type": "code",
   "execution_count": null,
   "metadata": {},
   "outputs": [],
   "source": [
    "cmap = mpl.cm.get_cmap('cool')\n",
    "norm = mpl.colors.Normalize(vmin=25, vmax=35)\n",
    "norm(30), cmap(norm(30))"
   ]
  },
  {
   "cell_type": "code",
   "execution_count": null,
   "metadata": {},
   "outputs": [],
   "source": [
    "fig, ax = draw_pitch('white', 'black', size_x=10.4*1.2, size_y=6.8)\n",
    "cmap = mpl.cm.get_cmap('cool')\n",
    "norm = mpl.colors.Normalize(vmin=25, vmax=35)\n",
    "\n",
    "for i, record in player_sprint_records.iterrows():\n",
    "    period = record['period']\n",
    "    start_frame = record['start_frame']\n",
    "    end_frame = record['end_frame']\n",
    "    sprint_trace = player_trace.loc[start_frame:end_frame]\n",
    "\n",
    "    x = sprint_trace['x'].values\n",
    "    y = sprint_trace['y'].values\n",
    "    color = cmap(norm(record['max_speed']))\n",
    "    ax.plot(x, y, c=color)\n",
    "    plt.arrow(x[-2], y[-2], x[-1] - x[-2], y[-1] - y[-2], head_width=1.5, head_length=2, ec=color, fc=color)\n",
    "\n",
    "sm = mpl.cm.ScalarMappable(cmap=cmap, norm=norm)\n",
    "cbar = plt.colorbar(sm, ticks=[25, 30, 35])\n",
    "cbar.ax.tick_params(labelsize=15)\n",
    "cbar.set_label(label='Max Speed [km/h]', size=15)\n",
    "\n",
    "ax.set_title(f'Sprint Trajectories for Player{player_id}', fontdict={'size': 20})\n",
    "plt.show()"
   ]
  },
  {
   "cell_type": "markdown",
   "metadata": {},
   "source": [
    "##### (3) 형태 변환 이전 데이터에 스프린트 시점 정보 결합"
   ]
  },
  {
   "cell_type": "code",
   "execution_count": null,
   "metadata": {},
   "outputs": [],
   "source": [
    "file = f'data_metrica/Sample_Game_{match_id}/Sample_Game_{match_id}_IntegratedData.csv'\n",
    "wide_traces = pd.read_csv(file, header=0, index_col=0)\n",
    "wide_traces"
   ]
  },
  {
   "cell_type": "code",
   "execution_count": null,
   "metadata": {},
   "outputs": [],
   "source": [
    "sprint_records[:10]"
   ]
  },
  {
   "cell_type": "code",
   "execution_count": null,
   "metadata": {},
   "outputs": [],
   "source": [
    "players = [c[:-2] for c in wide_traces.columns if c.endswith('_x') and not c.startswith('ball')]\n",
    "for p in players:\n",
    "    wide_traces[f'{p}_sprint'] = 0\n",
    "\n",
    "for sprint_id, record in sprint_records.iterrows():\n",
    "    sprinter = f\"{record['team'][0]}{record['player_id']:02d}\"\n",
    "    start_frame = record['start_frame']\n",
    "    end_frame = record['end_frame']\n",
    "    wide_traces.loc[start_frame:end_frame, f'{sprinter}_sprint'] = sprint_id\n",
    "\n",
    "wide_traces"
   ]
  },
  {
   "cell_type": "code",
   "execution_count": null,
   "metadata": {},
   "outputs": [],
   "source": [
    "sprint_cols = [c for c in wide_traces.columns if c.endswith('_sprint')]\n",
    "wide_traces[sprint_cols].loc[1265:1285]"
   ]
  },
  {
   "cell_type": "code",
   "execution_count": null,
   "metadata": {},
   "outputs": [],
   "source": [
    "wide_traces.to_csv(f'data_metrica/Sample_Game_{match_id}/Sample_Game_{match_id}_IntegratedData.csv')"
   ]
  },
  {
   "cell_type": "markdown",
   "metadata": {},
   "source": [
    "##### (4) 스프린트 장면 애니메이션 시각화"
   ]
  },
  {
   "cell_type": "code",
   "execution_count": null,
   "metadata": {},
   "outputs": [],
   "source": [
    "def plot_snapshot(\n",
    "    data, figax=None, team_colors=('r', 'b'),\n",
    "    annotate_players=True, annotate_events=True, show_velocities=True, show_sprints=False\n",
    "):\n",
    "    if figax is None:\n",
    "        fig, ax = draw_pitch(pitch='white', line='black')\n",
    "    else:\n",
    "        fig, ax = figax\n",
    "\n",
    "    figobjs = []\n",
    "    for team, color in zip(['H', 'A'], team_colors):\n",
    "        team_players = [c[:-2] for c in data.keys() if c.startswith(team) and c.endswith('_x')]\n",
    "        team_x_cols = [f'{p}_x' for p in team_players]\n",
    "        team_y_cols = [f'{p}_y' for p in team_players]\n",
    "\n",
    "        widths = pd.Series(0, index=team_players)\n",
    "        if show_sprints:\n",
    "            team_sprint_cols = [f'{p}_sprint' for p in team_players]\n",
    "            widths = pd.Series(data[team_sprint_cols].clip(0, 1).values, index=team_players) * 4\n",
    "\n",
    "        obj = ax.scatter(\n",
    "            data[team_x_cols], data[team_y_cols], s=100, c=color,\n",
    "            edgecolors='lime', linewidth=widths\n",
    "        )\n",
    "        figobjs.append(obj)\n",
    "\n",
    "        if show_velocities:\n",
    "            team_vx_cols = [f'{p}_vx' for p in team_players]\n",
    "            team_vy_cols = [f'{p}_vy' for p in team_players]\n",
    "            obj = ax.quiver(\n",
    "                data[team_x_cols].astype(float), data[team_y_cols].astype(float),\n",
    "                data[team_vx_cols].astype(float), data[team_vy_cols].astype(float),\n",
    "                color=color, scale=8, scale_units='inches', width=0.002, alpha=0.7\n",
    "            )\n",
    "            figobjs.append(obj)\n",
    "        \n",
    "        if annotate_players:\n",
    "            for x, y in zip(team_x_cols, team_y_cols):\n",
    "                if not (np.isnan(data[x]) or np.isnan(data[y])):\n",
    "                    obj = ax.text(data[x] + 0.5, data[y] + 0.5, int(x[1:3]), fontsize=13, color=color)\n",
    "                    figobjs.append(obj)\n",
    "\n",
    "    time_text = f\"{int(data['time'] // 60):02d}:{data['time'] % 60:05.2f}\"\n",
    "    if annotate_events:\n",
    "        if not pd.isnull(data['event_subtype']):\n",
    "            event_text = f\"{data['event_subtype']} by {data['event_player']}\" \n",
    "        else:\n",
    "            event_text = ''\n",
    "        figobjs.append(ax.text(51, 69, time_text, fontsize=15, ha='right', va='bottom'))\n",
    "        figobjs.append(ax.text(52, 69, '-', fontsize=15, ha='center', va='bottom'))\n",
    "        figobjs.append(ax.text(53, 69, event_text, fontsize=15, ha='left', va='bottom'))\n",
    "    else:\n",
    "        figobjs.append(ax.text(52, 69, time_text, fontsize=15, ha='center', va='bottom'))\n",
    "        \n",
    "    obj = ax.scatter(data['ball_x'], data['ball_y'], s=80, color='w', edgecolors='k')\n",
    "    figobjs.append(obj)\n",
    "    \n",
    "    return fig, ax, figobjs"
   ]
  },
  {
   "cell_type": "code",
   "execution_count": null,
   "metadata": {},
   "outputs": [],
   "source": [
    "frame = wide_traces[wide_traces['H08_sprint'] > 0].index[0]\n",
    "fig, ax, figobjs = plot_snapshot(wide_traces.loc[frame], show_sprints=True)\n",
    "plt.show()"
   ]
  },
  {
   "cell_type": "code",
   "execution_count": null,
   "metadata": {},
   "outputs": [],
   "source": [
    "def save_clip(\n",
    "    clip_traces, fname='test', fps=25, figax=None, team_colors=('r', 'b'),\n",
    "    annotate_players=True, annotate_events=True, show_velocities=True, show_sprints=False,\n",
    "):\n",
    "    metadata = dict(title='Tracking Data', artist='Matplotlib', comment='Metrica tracking data clip')\n",
    "    writer = animation.FFMpegWriter(fps=fps, metadata=metadata)\n",
    "\n",
    "    if not os.path.exists('match_clips'):\n",
    "        os.makedirs('match_clips')\n",
    "    file = f'match_clips/{fname}.mp4'\n",
    "\n",
    "    if figax is None:\n",
    "        fig, ax = draw_pitch(pitch='white', line='black')\n",
    "    else:\n",
    "        fig, ax = figax\n",
    "    fig.set_tight_layout(True)\n",
    "\n",
    "    with writer.saving(fig, file, dpi=100):\n",
    "        for i in clip_traces.index:\n",
    "            frame_data = clip_traces.loc[i]\n",
    "            fig, ax, figobjs = plot_snapshot(\n",
    "                frame_data, (fig, ax), team_colors,\n",
    "                annotate_players, annotate_events, show_velocities, show_sprints\n",
    "            )\n",
    "            writer.grab_frame()\n",
    "\n",
    "            for obj in figobjs:\n",
    "                obj.remove()\n",
    "\n",
    "    plt.clf()\n",
    "    plt.close(fig)"
   ]
  },
  {
   "cell_type": "code",
   "execution_count": null,
   "metadata": {},
   "outputs": [],
   "source": [
    "start_frame = 1000\n",
    "end_frame = 1500\n",
    "show_sprints = True\n",
    "\n",
    "fname_tokens = [f'game{match_id}', str(start_frame), str(end_frame)]\n",
    "if show_sprints:\n",
    "    fname_tokens.append('sprints')\n",
    "fname = '_'.join(fname_tokens)\n",
    "\n",
    "clip_traces = wide_traces.loc[start_frame:end_frame]\n",
    "save_clip(clip_traces, fname=f'{fname}.mp4', show_sprints=show_sprints)"
   ]
  }
 ],
 "metadata": {
  "kernelspec": {
   "display_name": "Python 3.8.13 ('class101')",
   "language": "python",
   "name": "python3"
  },
  "language_info": {
   "codemirror_mode": {
    "name": "ipython",
    "version": 3
   },
   "file_extension": ".py",
   "mimetype": "text/x-python",
   "name": "python",
   "nbconvert_exporter": "python",
   "pygments_lexer": "ipython3",
   "version": "3.8.13"
  },
  "orig_nbformat": 4,
  "vscode": {
   "interpreter": {
    "hash": "b2229428593ed30f482d105244b52f2214d62638ed0cc5078189e23a80557466"
   }
  }
 },
 "nbformat": 4,
 "nbformat_minor": 2
}
