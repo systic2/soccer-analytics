{
 "cells": [
  {
   "cell_type": "markdown",
   "metadata": {},
   "source": [
    "### 강의에서 소개된 파이썬 주요 기능\n",
    "- numpy.ndarray.flatten: https://numpy.org/doc/stable/reference/generated/numpy.ndarray.flatten.html\n",
    "- matplotlib.pyplot.text: https://matplotlib.org/stable/api/_as_gen/matplotlib.pyplot.text.html"
   ]
  },
  {
   "cell_type": "markdown",
   "metadata": {},
   "source": [
    "### 위치 추적 데이터 준비"
   ]
  },
  {
   "cell_type": "code",
   "execution_count": null,
   "metadata": {},
   "outputs": [],
   "source": [
    "import os\n",
    "import numpy as np\n",
    "import pandas as pd\n",
    "import matplotlib.pyplot as plt\n",
    "from src.plot_utils import draw_pitch"
   ]
  },
  {
   "cell_type": "markdown",
   "metadata": {},
   "source": [
    "##### (1) 홈팀 데이터 불러오기 "
   ]
  },
  {
   "cell_type": "code",
   "execution_count": null,
   "metadata": {},
   "outputs": [],
   "source": [
    "match_id = 1\n",
    "home_file = f'data_metrica/Sample_Game_{match_id}/Sample_Game_{match_id}_RawTrackingData_Home_Team.csv'\n",
    "home_traces = pd.read_csv(home_file, header=[0, 1, 2])\n",
    "home_traces"
   ]
  },
  {
   "cell_type": "markdown",
   "metadata": {},
   "source": [
    "##### (2) 홈팀 데이터 열 이름 정리"
   ]
  },
  {
   "cell_type": "code",
   "execution_count": null,
   "metadata": {},
   "outputs": [],
   "source": [
    "players = [c[2] for c in home_traces.columns[3:-2:2]]\n",
    "trace_cols = np.array([[f'H{int(p[6:]):02d}_x', f'H{int(p[6:]):02d}_y'] for p in players])\n",
    "trace_cols"
   ]
  },
  {
   "cell_type": "code",
   "execution_count": null,
   "metadata": {},
   "outputs": [],
   "source": [
    "trace_cols.flatten()"
   ]
  },
  {
   "cell_type": "code",
   "execution_count": null,
   "metadata": {},
   "outputs": [],
   "source": [
    "trace_cols = np.array([[f'H{int(p[6:]):02d}_x', f'H{int(p[6:]):02d}_y'] for p in players]).flatten().tolist()\n",
    "home_traces.columns = ['period', 'frame', 'time'] + trace_cols + ['ball_x', 'ball_y']\n",
    "\n",
    "home_traces = home_traces.set_index('frame').astype(float)\n",
    "home_traces['period'] = home_traces['period'].astype(int)\n",
    "home_traces"
   ]
  },
  {
   "cell_type": "markdown",
   "metadata": {},
   "source": [
    "##### (3) 원정팀 데이터 불러오기 및 열 이름 정리"
   ]
  },
  {
   "cell_type": "code",
   "execution_count": null,
   "metadata": {},
   "outputs": [],
   "source": [
    "away_file = f'data_metrica/Sample_Game_{match_id}/Sample_Game_{match_id}_RawTrackingData_Away_Team.csv'\n",
    "away_traces = pd.read_csv(away_file, header=[0, 1, 2])\n",
    "\n",
    "players = [c[2] for c in away_traces.columns[3:-2:2]]\n",
    "trace_cols = np.array([[f'A{int(p[6:]):02d}_x', f'A{int(p[6:]):02d}_y'] for p in players]).flatten().tolist()\n",
    "away_traces.columns = ['period', 'frame', 'time'] + trace_cols + ['ball_x', 'ball_y']\n",
    "\n",
    "away_traces = away_traces.set_index('frame').astype(float)\n",
    "away_traces['period'] = away_traces['period'].astype(int)\n",
    "away_traces"
   ]
  },
  {
   "cell_type": "markdown",
   "metadata": {},
   "source": [
    "##### (4) 양팀 데이터 결합"
   ]
  },
  {
   "cell_type": "code",
   "execution_count": null,
   "metadata": {},
   "outputs": [],
   "source": [
    "cols = home_traces.columns[:-2].tolist() + away_traces.columns[2:].tolist()\n",
    "traces = pd.merge(home_traces, away_traces)[cols]\n",
    "traces.index = home_traces.index.astype(int)\n",
    "\n",
    "x_cols = [c for c in traces.columns if c.endswith('_x')]\n",
    "y_cols = [c for c in traces.columns if c.endswith('_y')]\n",
    "traces.loc[traces['period'] == 2, x_cols + y_cols] = 1 - traces.loc[traces['period'] == 2, x_cols + y_cols]\n",
    "traces[x_cols] *= 104\n",
    "traces[y_cols] *= 68\n",
    "\n",
    "traces"
   ]
  },
  {
   "cell_type": "markdown",
   "metadata": {},
   "source": [
    "### 이벤트 데이터 결합"
   ]
  },
  {
   "cell_type": "markdown",
   "metadata": {},
   "source": [
    "##### (1) 이벤트 데이터 불러오기"
   ]
  },
  {
   "cell_type": "code",
   "execution_count": null,
   "metadata": {},
   "outputs": [],
   "source": [
    "event_file = f'data_metrica/Sample_Game_{match_id}/Sample_Game_{match_id}_RawEventsData.csv'\n",
    "events = pd.read_csv(event_file, header=0)\n",
    "events"
   ]
  },
  {
   "cell_type": "markdown",
   "metadata": {},
   "source": [
    "##### (2) Subtype NaN 값 채우기"
   ]
  },
  {
   "cell_type": "code",
   "execution_count": null,
   "metadata": {},
   "outputs": [],
   "source": [
    "events[['Type', 'Subtype']].drop_duplicates().sort_values(['Type', 'Subtype'], ignore_index=True)[-40:]"
   ]
  },
  {
   "cell_type": "code",
   "execution_count": null,
   "metadata": {},
   "outputs": [],
   "source": [
    "events.loc[events['Subtype'].isna(), 'Subtype'] = events.loc[events['Subtype'].isna(), 'Type']"
   ]
  },
  {
   "cell_type": "markdown",
   "metadata": {},
   "source": [
    "##### (3) 위치 추적 및 이벤트 데이터 결합"
   ]
  },
  {
   "cell_type": "code",
   "execution_count": null,
   "metadata": {},
   "outputs": [],
   "source": [
    "for i, event in events.iterrows():\n",
    "    start_frame = event['Start Frame']\n",
    "    end_frame = event['End Frame']\n",
    "    traces.loc[start_frame:end_frame-1, 'event_player'] = event['From']\n",
    "    traces.loc[start_frame:end_frame-1, 'event_type'] = event['Type']\n",
    "    traces.loc[start_frame:end_frame-1, 'event_subtype'] = event['Subtype']\n",
    "\n",
    "traces"
   ]
  },
  {
   "cell_type": "markdown",
   "metadata": {},
   "source": [
    "##### (4) 결합 데이터 시점별 시각화"
   ]
  },
  {
   "cell_type": "code",
   "execution_count": null,
   "metadata": {},
   "outputs": [],
   "source": [
    "frame = 1000\n",
    "data = traces.loc[frame]\n",
    "\n",
    "fig, ax = draw_pitch(pitch='white', line='black')\n",
    "\n",
    "for team, color in zip(['H', 'A'], ['r', 'b']):\n",
    "    x_cols = [c for c in data.keys() if c.startswith(team) and c.endswith('_x')]\n",
    "    y_cols = [c for c in data.keys() if c.startswith(team) and c.endswith('_y')]\n",
    "    ax.scatter(data[x_cols], data[y_cols], s=100, c=color, alpha=0.7)\n",
    "    \n",
    "    for x, y in zip(x_cols, y_cols):\n",
    "        if not (np.isnan(data[x]) or np.isnan(data[y])):\n",
    "            ax.text(data[x] + 0.5, data[y] + 0.5, int(x[1:3]), fontsize=13, color=color)\n",
    "\n",
    "ax.scatter(data['ball_x'], data['ball_y'], s=80, color='w', edgecolors='k')\n",
    "\n",
    "time_text = f\"{int(data['time'] // 60):02d}:{data['time'] % 60:05.2f}\"\n",
    "if not pd.isnull(data['event_subtype']):\n",
    "    event_text = f\"{data['event_subtype']} by {data['event_player']}\" \n",
    "else:\n",
    "    event_text = ''\n",
    "ax.text(51, 67, time_text, fontsize=15, ha='right', va='top')\n",
    "ax.text(53, 67, event_text, fontsize=15, ha='left', va='top')\n",
    "    \n",
    "plt.show()"
   ]
  },
  {
   "cell_type": "markdown",
   "metadata": {},
   "source": [
    "##### (5) 결합 데이터 저장"
   ]
  },
  {
   "cell_type": "code",
   "execution_count": null,
   "metadata": {},
   "outputs": [],
   "source": [
    "traces.to_csv('data_metrica/Sample_Game_1/Sample_Game_1_IntegratedData.csv')"
   ]
  }
 ],
 "metadata": {
  "kernelspec": {
   "display_name": "Python 3.8.13 ('class101')",
   "language": "python",
   "name": "python3"
  },
  "language_info": {
   "codemirror_mode": {
    "name": "ipython",
    "version": 3
   },
   "file_extension": ".py",
   "mimetype": "text/x-python",
   "name": "python",
   "nbconvert_exporter": "python",
   "pygments_lexer": "ipython3",
   "version": "3.8.19"
  },
  "orig_nbformat": 4,
  "vscode": {
   "interpreter": {
    "hash": "b2229428593ed30f482d105244b52f2214d62638ed0cc5078189e23a80557466"
   }
  }
 },
 "nbformat": 4,
 "nbformat_minor": 2
}
